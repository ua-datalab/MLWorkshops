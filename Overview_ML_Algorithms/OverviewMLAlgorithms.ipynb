{
  "nbformat": 4,
  "nbformat_minor": 0,
  "metadata": {
    "colab": {
      "provenance": [],
      "include_colab_link": true
    },
    "kernelspec": {
      "name": "python3",
      "display_name": "Python 3"
    },
    "language_info": {
      "name": "python"
    }
  },
  "cells": [
    {
      "cell_type": "markdown",
      "metadata": {
        "id": "view-in-github",
        "colab_type": "text"
      },
      "source": [
        "<a href=\"https://colab.research.google.com/github/ua-datalab/MLWorkshops/blob/main/Overview_ML_Algorithms/OverviewMLAlgorithms.ipynb\" target=\"_parent\"><img src=\"https://colab.research.google.com/assets/colab-badge.svg\" alt=\"Open In Colab\"/></a>"
      ]
    },
    {
      "cell_type": "markdown",
      "source": [
        "## DSF Fall 2022\n",
        "\n",
        "### Challenge 1: Regression Linear Model\n",
        "\n",
        "Posted: 11/15/2022\n",
        "\n",
        "We used the [linear_model.LinearRegression](https://scikit-learn.org/stable/modules/generated/sklearn.linear_model.LinearRegression.html?highlight=linear_model) model (same as the Ordinary Least Squares Method Linear Fit), to fit a linear modelto the diabetes dataset inclyded in the Scikit-Learn Library.\n",
        "\n",
        "There is a large collection of different types of Regression Algorithms included in the [sklearn.linear_model](https://scikit-learn.org/stable/modules/classes.html?highlight=linear_model#module-sklearn.linear_model).\n",
        "\n",
        "We are now interested in comparing the standard LinearRegression Algorithm with the following set of [Robust Regressors](https://en.wikipedia.org/wiki/Robust_regression):\n",
        "* [HubberRegressor](https://scikit-learn.org/stable/modules/generated/sklearn.linear_model.HuberRegressor.html#sklearn.linear_model.HuberRegressor)\n",
        "* [RANSACRegressor](https://scikit-learn.org/stable/modules/generated/sklearn.linear_model.RANSACRegressor.html#sklearn.linear_model.RANSACRegressor)\n",
        "* [TheilSenRegressor](https://scikit-learn.org/stable/modules/generated/sklearn.linear_model.TheilSenRegressor.html#sklearn.linear_model.TheilSenRegressor)\n",
        "\n",
        "Robust Regressors perform better when data outliers are present.\n",
        "\n",
        "Please run the additional set of Robust Regression Algorithms and perform a comparison between the [regression metrics](https://scikit-learn.org/stable/modules/model_evaluation.html#regression-metrics) for each case.\n",
        "\n",
        "Comment on the results of your observations.\n",
        "\n",
        "Once you accomplish this task, please save a copy of your Jupyter Notebook in your Github DSF Weekly Journals.\n"
      ],
      "metadata": {
        "id": "2-Y3p8gdOPrI"
      }
    },
    {
      "cell_type": "markdown",
      "source": [
        "## An Overview of Machine Learning Algorithms\n",
        "\n",
        "Created: 11/15/2022\n",
        "\n",
        "We will use Python's Machine Learning  [Scikit-Learn Library](https://scikit-learn.org/stable/index.html), in particular the [LinearRegression model](https://scikit-learn.org/stable/modules/generated/sklearn.linear_model.LinearRegression.html?highlight=linearregression#sklearn.linear_model.LinearRegression)."
      ],
      "metadata": {
        "id": "ulUMjygKx9gx"
      }
    },
    {
      "cell_type": "markdown",
      "source": [
        "## Linear Regression"
      ],
      "metadata": {
        "id": "aoiALzTaaZYh"
      }
    },
    {
      "cell_type": "code",
      "source": [
        "import matplotlib.pylab as plt\n",
        "import numpy as np\n",
        "\n",
        "from sklearn.linear_model import LinearRegression\n",
        "from sklearn.metrics import mean_squared_error, r2_score\n",
        "from sklearn.metrics import mean_absolute_error, mean_absolute_percentage_error\n",
        "from sklearn.model_selection import train_test_split\n",
        "from sklearn import datasets\n",
        "\n",
        "%matplotlib inline\n",
        "\n",
        "import warnings\n",
        "warnings.filterwarnings('ignore')"
      ],
      "metadata": {
        "id": "hMopvycquGeF"
      },
      "execution_count": null,
      "outputs": []
    },
    {
      "cell_type": "markdown",
      "source": [
        "### Linear Regression Example\n",
        "\n",
        "We will use the [diabetes dataset](https://scikit-learn.org/stable/modules/generated/sklearn.datasets.load_diabetes.html) included in Scikit-Learn."
      ],
      "metadata": {
        "id": "tWZiwkdzyiYC"
      }
    },
    {
      "cell_type": "code",
      "source": [
        "diabetes=datasets.load_diabetes() # Load dataset\n",
        "X, y = diabetes.data, diabetes.target\n",
        "print(diabetes.DESCR)"
      ],
      "metadata": {
        "colab": {
          "base_uri": "https://localhost:8080/"
        },
        "id": "xZuuTZoN1oXE",
        "outputId": "1ca79a0f-9d73-4d12-aec6-176ffca6d85f"
      },
      "execution_count": null,
      "outputs": [
        {
          "output_type": "stream",
          "name": "stdout",
          "text": [
            ".. _diabetes_dataset:\n",
            "\n",
            "Diabetes dataset\n",
            "----------------\n",
            "\n",
            "Ten baseline variables, age, sex, body mass index, average blood\n",
            "pressure, and six blood serum measurements were obtained for each of n =\n",
            "442 diabetes patients, as well as the response of interest, a\n",
            "quantitative measure of disease progression one year after baseline.\n",
            "\n",
            "**Data Set Characteristics:**\n",
            "\n",
            "  :Number of Instances: 442\n",
            "\n",
            "  :Number of Attributes: First 10 columns are numeric predictive values\n",
            "\n",
            "  :Target: Column 11 is a quantitative measure of disease progression one year after baseline\n",
            "\n",
            "  :Attribute Information:\n",
            "      - age     age in years\n",
            "      - sex\n",
            "      - bmi     body mass index\n",
            "      - bp      average blood pressure\n",
            "      - s1      tc, total serum cholesterol\n",
            "      - s2      ldl, low-density lipoproteins\n",
            "      - s3      hdl, high-density lipoproteins\n",
            "      - s4      tch, total cholesterol / HDL\n",
            "      - s5      ltg, possibly log of serum triglycerides level\n",
            "      - s6      glu, blood sugar level\n",
            "\n",
            "Note: Each of these 10 feature variables have been mean centered and scaled by the standard deviation times `n_samples` (i.e. the sum of squares of each column totals 1).\n",
            "\n",
            "Source URL:\n",
            "https://www4.stat.ncsu.edu/~boos/var.select/diabetes.html\n",
            "\n",
            "For more information see:\n",
            "Bradley Efron, Trevor Hastie, Iain Johnstone and Robert Tibshirani (2004) \"Least Angle Regression,\" Annals of Statistics (with discussion), 407-499.\n",
            "(https://web.stanford.edu/~hastie/Papers/LARS/LeastAngle_2002.pdf)\n"
          ]
        }
      ]
    },
    {
      "cell_type": "code",
      "source": [
        "diabetes.data.shape # feature matrix shape"
      ],
      "metadata": {
        "colab": {
          "base_uri": "https://localhost:8080/"
        },
        "id": "GML3hsUotO1p",
        "outputId": "b45ced64-a067-4a83-9d3d-32c977956ce2"
      },
      "execution_count": null,
      "outputs": [
        {
          "output_type": "execute_result",
          "data": {
            "text/plain": [
              "(442, 10)"
            ]
          },
          "metadata": {},
          "execution_count": 3
        }
      ]
    },
    {
      "cell_type": "code",
      "source": [
        "diabetes.target.shape # target vector shape"
      ],
      "metadata": {
        "colab": {
          "base_uri": "https://localhost:8080/"
        },
        "id": "d4gtKlj0tO8Q",
        "outputId": "68234124-b380-4adc-8de6-c64fc8735908"
      },
      "execution_count": null,
      "outputs": [
        {
          "output_type": "execute_result",
          "data": {
            "text/plain": [
              "(442,)"
            ]
          },
          "metadata": {},
          "execution_count": 4
        }
      ]
    },
    {
      "cell_type": "code",
      "source": [
        "diabetes.feature_names # column names"
      ],
      "metadata": {
        "colab": {
          "base_uri": "https://localhost:8080/"
        },
        "id": "PIkFFOaTtPAL",
        "outputId": "800df20d-e8c0-458e-948b-5b1504df910b"
      },
      "execution_count": null,
      "outputs": [
        {
          "output_type": "execute_result",
          "data": {
            "text/plain": [
              "['age', 'sex', 'bmi', 'bp', 's1', 's2', 's3', 's4', 's5', 's6']"
            ]
          },
          "metadata": {},
          "execution_count": 5
        }
      ]
    },
    {
      "cell_type": "markdown",
      "source": [
        "\n",
        "### Linear Regression Model\n",
        "\n",
        "Linear Regression assumes the following model:\n",
        "\n",
        "$y = Xβ + c + ϵ$\n",
        "\n",
        "where:\n",
        "\n",
        "$X$ is the data, $β$ are the coefficients,\n",
        "$c$ is the intercept, $ϵ$ is an error that cannot be explained by model, $y$ is the target.\n",
        "\n",
        "Using scikit-learn, linear regression is very easy:"
      ],
      "metadata": {
        "id": "-emjyYK4vB9O"
      }
    },
    {
      "cell_type": "markdown",
      "source": [
        "![aaML_TrainTest.png](data:image/png;base64,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)"
      ],
      "metadata": {
        "id": "xGDCk9oe4cFB"
      }
    },
    {
      "cell_type": "code",
      "source": [
        "# Seperate train and test data (4 groups)\n",
        "# Will set 20% of the data for testing the model, and a random_state is set for reproducibility.\n",
        "X_train, X_test, y_train, y_test = train_test_split(diabetes.data, diabetes.target,\n",
        "                                                    test_size=0.2, random_state=0)\n",
        "\n",
        "# There are three steps to model something with sklearn\n",
        "\n",
        "# 1. Set up the model\n",
        "model = LinearRegression()\n",
        "\n",
        "# 2. Then train the model using fit\n",
        "model.fit(X_train, y_train)\n",
        "\n",
        "# 3. Check the performance score with unseen test data\n",
        "model.score(X_test, y_test)\n"
      ],
      "metadata": {
        "colab": {
          "base_uri": "https://localhost:8080/"
        },
        "id": "nHtnXRpPt84L",
        "outputId": "3493c4c4-005c-4e10-add0-156880ccc32d"
      },
      "execution_count": null,
      "outputs": [
        {
          "output_type": "execute_result",
          "data": {
            "text/plain": [
              "0.33222203269065176"
            ]
          },
          "metadata": {},
          "execution_count": 6
        }
      ]
    },
    {
      "cell_type": "markdown",
      "source": [
        "You can extract model information:"
      ],
      "metadata": {
        "id": "RSBE31wjwhVq"
      }
    },
    {
      "cell_type": "code",
      "source": [
        "model.coef_ # Get the coefficients, beta (slopes)"
      ],
      "metadata": {
        "colab": {
          "base_uri": "https://localhost:8080/"
        },
        "id": "ExN3Y54Ht88q",
        "outputId": "829b58e4-869f-4924-d5e2-99f1f5c45a46"
      },
      "execution_count": null,
      "outputs": [
        {
          "output_type": "execute_result",
          "data": {
            "text/plain": [
              "array([ -35.55683674, -243.1692265 ,  562.75404632,  305.47203008,\n",
              "       -662.78772128,  324.27527477,   24.78193291,  170.33056502,\n",
              "        731.67810787,   43.02846824])"
            ]
          },
          "metadata": {},
          "execution_count": 7
        }
      ]
    },
    {
      "cell_type": "code",
      "source": [
        "model.intercept_ # Get the intercept, c"
      ],
      "metadata": {
        "colab": {
          "base_uri": "https://localhost:8080/"
        },
        "id": "BOPy_e-Lt9Aj",
        "outputId": "baa8d257-eed6-42be-f8e8-525de28ec0a4"
      },
      "execution_count": null,
      "outputs": [
        {
          "output_type": "execute_result",
          "data": {
            "text/plain": [
              "152.5381335195406"
            ]
          },
          "metadata": {},
          "execution_count": 8
        }
      ]
    },
    {
      "cell_type": "code",
      "source": [
        "model.get_params()"
      ],
      "metadata": {
        "colab": {
          "base_uri": "https://localhost:8080/"
        },
        "id": "13HZzXeIM2mJ",
        "outputId": "5e97dbb2-187d-4984-a1e6-c9692c954de0"
      },
      "execution_count": null,
      "outputs": [
        {
          "output_type": "execute_result",
          "data": {
            "text/plain": [
              "{'copy_X': True,\n",
              " 'fit_intercept': True,\n",
              " 'n_jobs': None,\n",
              " 'normalize': 'deprecated',\n",
              " 'positive': False}"
            ]
          },
          "metadata": {},
          "execution_count": 9
        }
      ]
    },
    {
      "cell_type": "code",
      "source": [
        "model.predict(X_test) # Predict unkown data"
      ],
      "metadata": {
        "colab": {
          "base_uri": "https://localhost:8080/"
        },
        "id": "0VELT5ZdwtCL",
        "outputId": "17810ccf-f925-44ca-8b65-9c96ebe75384"
      },
      "execution_count": null,
      "outputs": [
        {
          "output_type": "execute_result",
          "data": {
            "text/plain": [
              "array([238.47145247, 248.93170646, 164.05404165, 120.30794355,\n",
              "       187.42422054, 259.04865002, 113.55556372, 188.07597044,\n",
              "       149.49663441, 236.01099949, 172.24629506, 178.88073764,\n",
              "       109.15751983,  92.13508975, 243.33042043,  87.356971  ,\n",
              "       155.72606406,  66.99073989, 100.42610442, 218.09422877,\n",
              "       196.66287912, 161.29832968, 161.70779605, 156.52520454,\n",
              "       197.88796516, 167.57984206, 120.74478913,  84.83879727,\n",
              "       192.03728687, 160.60687024, 175.17178362,  84.22833237,\n",
              "       145.7995542 , 145.97333493, 140.96488953, 197.00421108,\n",
              "       165.94322494, 190.65906468, 128.22520508, 206.41941223,\n",
              "        84.35851196, 164.0256504 , 144.1056776 , 184.68355549,\n",
              "       177.80238966,  74.32855231, 143.3660286 , 138.67726085,\n",
              "       120.81146113, 234.34252077, 161.94390244,  74.5455476 ,\n",
              "       154.71905074, 156.78884927, 237.42227096, 174.23053048,\n",
              "       190.88212635, 118.98373473, 132.20418974, 168.52674824,\n",
              "       214.74245466, 171.42364091, 157.37409906, 108.86927343,\n",
              "       257.06329636, 152.17777143,  82.43686464, 231.56746032,\n",
              "       202.90641336,  47.18340199,  78.46954525, 129.30170908,\n",
              "       104.60253144, 144.65200281, 132.27974254, 190.04134164,\n",
              "        97.55541138, 197.51891007, 219.13709291, 186.13797012,\n",
              "       149.60913007, 208.42379455,  44.59036026, 206.20925368,\n",
              "        76.77377721,  94.94046865, 145.2955051 , 194.03776373,\n",
              "       132.78534336])"
            ]
          },
          "metadata": {},
          "execution_count": 10
        }
      ]
    },
    {
      "cell_type": "markdown",
      "source": [
        "\n",
        "We can plot the prediction y_pred versus original y_test"
      ],
      "metadata": {
        "id": "czRV0O6LxB1O"
      }
    },
    {
      "cell_type": "code",
      "source": [
        "# plot prediction and actual data\n",
        "y_pred = model.predict(X_test)\n",
        "plt.plot(y_test, y_pred, '.')\n",
        "\n",
        "# plot a line, a perfect prediction would all fall on this line\n",
        "# np.linspace is a linear array of 100 values between 0 and 330\n",
        "x = np.linspace(0, 330, 100)\n",
        "y = x\n",
        "plt.plot(x, y)\n",
        "plt.show()\n",
        "\n"
      ],
      "metadata": {
        "colab": {
          "base_uri": "https://localhost:8080/",
          "height": 266
        },
        "id": "Y0URyRTExAa-",
        "outputId": "2492fe92-d0c7-48ba-8ddd-970108c3b23e"
      },
      "execution_count": null,
      "outputs": [
        {
          "output_type": "display_data",
          "data": {
            "text/plain": [
              "<Figure size 432x288 with 1 Axes>"
            ],
            "image/png": "[encoded data removed]"
          },
          "metadata": {
            "needs_background": "light"
          }
        }
      ]
    },
    {
      "cell_type": "markdown",
      "source": [
        "We now extract some known [Linear Regression metrics](https://scikit-learn.org/stable/modules/model_evaluation.html#regression-metrics) information.\n",
        "\n"
      ],
      "metadata": {
        "id": "Qd2eeAu41RwR"
      }
    },
    {
      "cell_type": "code",
      "source": [
        "# The coefficients\n",
        "print(\"Coefficients: \\n\", model.coef_)\n",
        "\n",
        "# Mean Absolute Error (MAE)\n",
        "print(\"Mean Absolute Error (MAE): %.2f\" % mean_absolute_error(y_test, y_pred))\n",
        "\n",
        "# The mean squared error\n",
        "print(\"Mean Squared Error: %.2f\" % mean_squared_error(y_test, y_pred))\n",
        "\n",
        "# Mean Absolute Percent Error\n",
        "print(\"Mean Absolute Percent Error: %.2f\" % mean_absolute_percentage_error(y_test, y_pred))\n",
        "\n",
        "# The coefficient of determination: 1 is perfect prediction\n",
        "print(\"Coefficient of determination: %.2f\" % r2_score(y_test, y_pred))\n"
      ],
      "metadata": {
        "colab": {
          "base_uri": "https://localhost:8080/"
        },
        "id": "54_ZexK_wtGb",
        "outputId": "16ce6a93-7f4b-48d6-8557-86146b00ec6d"
      },
      "execution_count": null,
      "outputs": [
        {
          "output_type": "stream",
          "name": "stdout",
          "text": [
            "Coefficients: \n",
            " [ -35.55683674 -243.1692265   562.75404632  305.47203008 -662.78772128\n",
            "  324.27527477   24.78193291  170.33056502  731.67810787   43.02846824]\n",
            "Mean Absolute Error (MAE): 46.17\n",
            "Mean Squared Error: 3424.32\n",
            "Mean Absolute Percent Error: 0.38\n",
            "Coefficient of determination: 0.33\n"
          ]
        }
      ]
    },
    {
      "cell_type": "code",
      "source": [],
      "metadata": {
        "id": "vPmn3q1iwtLU"
      },
      "execution_count": null,
      "outputs": []
    },
    {
      "cell_type": "markdown",
      "source": [
        "## Logistic Regression Classifier\n",
        "\n"
      ],
      "metadata": {
        "id": "wDs4TLCKaNdV"
      }
    },
    {
      "cell_type": "code",
      "source": [
        "# Load all necessary libraries\n",
        "\n",
        "import pandas as pd\n",
        "import numpy as np\n",
        "import matplotlib.pyplot as plt\n",
        "import seaborn as sns\n",
        "\n",
        "from sklearn import metrics\n",
        "from sklearn.linear_model import LogisticRegression\n",
        "from sklearn.linear_model import LogisticRegressionCV\n",
        "from sklearn.model_selection import train_test_split\n",
        "from sklearn.metrics import accuracy_score, classification_report, auc\n",
        "from sklearn import metrics\n",
        "\n",
        "import matplotlib.pyplot as plt\n",
        "import seaborn as sns\n",
        "\n"
      ],
      "metadata": {
        "id": "94BxW6uGcaCP"
      },
      "execution_count": null,
      "outputs": []
    },
    {
      "cell_type": "code",
      "source": [
        "# Read Titanic dataset\n",
        "filename = \"https://raw.githubusercontent.com/clizarraga-UAD7/Datasets/main/titanic/titanic3.csv\"\n",
        "df0 = pd.read_csv(filename)\n",
        "\n",
        "df0.head()\n"
      ],
      "metadata": {
        "colab": {
          "base_uri": "https://localhost:8080/",
          "height": 582
        },
        "id": "IDzBHe1bcRaM",
        "outputId": "9c6652db-9aa5-4985-9754-a6934d6280d3"
      },
      "execution_count": null,
      "outputs": [
        {
          "output_type": "execute_result",
          "data": {
            "text/plain": [
              "   pclass  survived                                             name     sex  \\\n",
              "0     1.0       1.0                    Allen, Miss. Elisabeth Walton  female   \n",
              "1     1.0       1.0                   Allison, Master. Hudson Trevor    male   \n",
              "2     1.0       0.0                     Allison, Miss. Helen Loraine  female   \n",
              "3     1.0       0.0             Allison, Mr. Hudson Joshua Creighton    male   \n",
              "4     1.0       0.0  Allison, Mrs. Hudson J C (Bessie Waldo Daniels)  female   \n",
              "\n",
              "       age  sibsp  parch  ticket      fare    cabin embarked boat   body  \\\n",
              "0  29.0000    0.0    0.0   24160  211.3375       B5        S    2    NaN   \n",
              "1   0.9167    1.0    2.0  113781  151.5500  C22 C26        S   11    NaN   \n",
              "2   2.0000    1.0    2.0  113781  151.5500  C22 C26        S  NaN    NaN   \n",
              "3  30.0000    1.0    2.0  113781  151.5500  C22 C26        S  NaN  135.0   \n",
              "4  25.0000    1.0    2.0  113781  151.5500  C22 C26        S  NaN    NaN   \n",
              "\n",
              "                         home.dest  \n",
              "0                     St Louis, MO  \n",
              "1  Montreal, PQ / Chesterville, ON  \n",
              "2  Montreal, PQ / Chesterville, ON  \n",
              "3  Montreal, PQ / Chesterville, ON  \n",
              "4  Montreal, PQ / Chesterville, ON  "
            ],
            "text/html": [
              "\n",
              "  <div id=\"df-8de1f8be-4e8a-45d4-8948-eb5fe91d6d8d\">\n",
              "    <div class=\"colab-df-container\">\n",
              "      <div>\n",
              "<style scoped>\n",
              "    .dataframe tbody tr th:only-of-type {\n",
              "        vertical-align: middle;\n",
              "    }\n",
              "\n",
              "    .dataframe tbody tr th {\n",
              "        vertical-align: top;\n",
              "    }\n",
              "\n",
              "    .dataframe thead th {\n",
              "        text-align: right;\n",
              "    }\n",
              "</style>\n",
              "<table border=\"1\" class=\"dataframe\">\n",
              "  <thead>\n",
              "    <tr style=\"text-align: right;\">\n",
              "      <th></th>\n",
              "      <th>pclass</th>\n",
              "      <th>survived</th>\n",
              "      <th>name</th>\n",
              "      <th>sex</th>\n",
              "      <th>age</th>\n",
              "      <th>sibsp</th>\n",
              "      <th>parch</th>\n",
              "      <th>ticket</th>\n",
              "      <th>fare</th>\n",
              "      <th>cabin</th>\n",
              "      <th>embarked</th>\n",
              "      <th>boat</th>\n",
              "      <th>body</th>\n",
              "      <th>home.dest</th>\n",
              "    </tr>\n",
              "  </thead>\n",
              "  <tbody>\n",
              "    <tr>\n",
              "      <th>0</th>\n",
              "      <td>1.0</td>\n",
              "      <td>1.0</td>\n",
              "      <td>Allen, Miss. Elisabeth Walton</td>\n",
              "      <td>female</td>\n",
              "      <td>29.0000</td>\n",
              "      <td>0.0</td>\n",
              "      <td>0.0</td>\n",
              "      <td>24160</td>\n",
              "      <td>211.3375</td>\n",
              "      <td>B5</td>\n",
              "      <td>S</td>\n",
              "      <td>2</td>\n",
              "      <td>NaN</td>\n",
              "      <td>St Louis, MO</td>\n",
              "    </tr>\n",
              "    <tr>\n",
              "      <th>1</th>\n",
              "      <td>1.0</td>\n",
              "      <td>1.0</td>\n",
              "      <td>Allison, Master. Hudson Trevor</td>\n",
              "      <td>male</td>\n",
              "      <td>0.9167</td>\n",
              "      <td>1.0</td>\n",
              "      <td>2.0</td>\n",
              "      <td>113781</td>\n",
              "      <td>151.5500</td>\n",
              "      <td>C22 C26</td>\n",
              "      <td>S</td>\n",
              "      <td>11</td>\n",
              "      <td>NaN</td>\n",
              "      <td>Montreal, PQ / Chesterville, ON</td>\n",
              "    </tr>\n",
              "    <tr>\n",
              "      <th>2</th>\n",
              "      <td>1.0</td>\n",
              "      <td>0.0</td>\n",
              "      <td>Allison, Miss. Helen Loraine</td>\n",
              "      <td>female</td>\n",
              "      <td>2.0000</td>\n",
              "      <td>1.0</td>\n",
              "      <td>2.0</td>\n",
              "      <td>113781</td>\n",
              "      <td>151.5500</td>\n",
              "      <td>C22 C26</td>\n",
              "      <td>S</td>\n",
              "      <td>NaN</td>\n",
              "      <td>NaN</td>\n",
              "      <td>Montreal, PQ / Chesterville, ON</td>\n",
              "    </tr>\n",
              "    <tr>\n",
              "      <th>3</th>\n",
              "      <td>1.0</td>\n",
              "      <td>0.0</td>\n",
              "      <td>Allison, Mr. Hudson Joshua Creighton</td>\n",
              "      <td>male</td>\n",
              "      <td>30.0000</td>\n",
              "      <td>1.0</td>\n",
              "      <td>2.0</td>\n",
              "      <td>113781</td>\n",
              "      <td>151.5500</td>\n",
              "      <td>C22 C26</td>\n",
              "      <td>S</td>\n",
              "      <td>NaN</td>\n",
              "      <td>135.0</td>\n",
              "      <td>Montreal, PQ / Chesterville, ON</td>\n",
              "    </tr>\n",
              "    <tr>\n",
              "      <th>4</th>\n",
              "      <td>1.0</td>\n",
              "      <td>0.0</td>\n",
              "      <td>Allison, Mrs. Hudson J C (Bessie Waldo Daniels)</td>\n",
              "      <td>female</td>\n",
              "      <td>25.0000</td>\n",
              "      <td>1.0</td>\n",
              "      <td>2.0</td>\n",
              "      <td>113781</td>\n",
              "      <td>151.5500</td>\n",
              "      <td>C22 C26</td>\n",
              "      <td>S</td>\n",
              "      <td>NaN</td>\n",
              "      <td>NaN</td>\n",
              "      <td>Montreal, PQ / Chesterville, ON</td>\n",
              "    </tr>\n",
              "  </tbody>\n",
              "</table>\n",
              "</div>\n",
              "      <button class=\"colab-df-convert\" onclick=\"convertToInteractive('df-8de1f8be-4e8a-45d4-8948-eb5fe91d6d8d')\"\n",
              "              title=\"Convert this dataframe to an interactive table.\"\n",
              "              style=\"display:none;\">\n",
              "        \n",
              "  <svg xmlns=\"http://www.w3.org/2000/svg\" height=\"24px\"viewBox=\"0 0 24 24\"\n",
              "       width=\"24px\">\n",
              "    <path d=\"M0 0h24v24H0V0z\" fill=\"none\"/>\n",
              "    <path d=\"M18.56 5.44l.94 2.06.94-2.06 2.06-.94-2.06-.94-.94-2.06-.94 2.06-2.06.94zm-11 1L8.5 8.5l.94-2.06 2.06-.94-2.06-.94L8.5 2.5l-.94 2.06-2.06.94zm10 10l.94 2.06.94-2.06 2.06-.94-2.06-.94-.94-2.06-.94 2.06-2.06.94z\"/><path d=\"M17.41 7.96l-1.37-1.37c-.4-.4-.92-.59-1.43-.59-.52 0-1.04.2-1.43.59L10.3 9.45l-7.72 7.72c-.78.78-.78 2.05 0 2.83L4 21.41c.39.39.9.59 1.41.59.51 0 1.02-.2 1.41-.59l7.78-7.78 2.81-2.81c.8-.78.8-2.07 0-2.86zM5.41 20L4 18.59l7.72-7.72 1.47 1.35L5.41 20z\"/>\n",
              "  </svg>\n",
              "      </button>\n",
              "      \n",
              "  <style>\n",
              "    .colab-df-container {\n",
              "      display:flex;\n",
              "      flex-wrap:wrap;\n",
              "      gap: 12px;\n",
              "    }\n",
              "\n",
              "    .colab-df-convert {\n",
              "      background-color: #E8F0FE;\n",
              "      border: none;\n",
              "      border-radius: 50%;\n",
              "      cursor: pointer;\n",
              "      display: none;\n",
              "      fill: #1967D2;\n",
              "      height: 32px;\n",
              "      padding: 0 0 0 0;\n",
              "      width: 32px;\n",
              "    }\n",
              "\n",
              "    .colab-df-convert:hover {\n",
              "      background-color: #E2EBFA;\n",
              "      box-shadow: 0px 1px 2px rgba(60, 64, 67, 0.3), 0px 1px 3px 1px rgba(60, 64, 67, 0.15);\n",
              "      fill: #174EA6;\n",
              "    }\n",
              "\n",
              "    [theme=dark] .colab-df-convert {\n",
              "      background-color: #3B4455;\n",
              "      fill: #D2E3FC;\n",
              "    }\n",
              "\n",
              "    [theme=dark] .colab-df-convert:hover {\n",
              "      background-color: #434B5C;\n",
              "      box-shadow: 0px 1px 3px 1px rgba(0, 0, 0, 0.15);\n",
              "      filter: drop-shadow(0px 1px 2px rgba(0, 0, 0, 0.3));\n",
              "      fill: #FFFFFF;\n",
              "    }\n",
              "  </style>\n",
              "\n",
              "      <script>\n",
              "        const buttonEl =\n",
              "          document.querySelector('#df-8de1f8be-4e8a-45d4-8948-eb5fe91d6d8d button.colab-df-convert');\n",
              "        buttonEl.style.display =\n",
              "          google.colab.kernel.accessAllowed ? 'block' : 'none';\n",
              "\n",
              "        async function convertToInteractive(key) {\n",
              "          const element = document.querySelector('#df-8de1f8be-4e8a-45d4-8948-eb5fe91d6d8d');\n",
              "          const dataTable =\n",
              "            await google.colab.kernel.invokeFunction('convertToInteractive',\n",
              "                                                     [key], {});\n",
              "          if (!dataTable) return;\n",
              "\n",
              "          const docLinkHtml = 'Like what you see? Visit the ' +\n",
              "            '<a target=\"_blank\" href=https://colab.research.google.com/notebooks/data_table.ipynb>data table notebook</a>'\n",
              "            + ' to learn more about interactive tables.';\n",
              "          element.innerHTML = '';\n",
              "          dataTable['output_type'] = 'display_data';\n",
              "          await google.colab.output.renderOutput(dataTable, element);\n",
              "          const docLink = document.createElement('div');\n",
              "          docLink.innerHTML = docLinkHtml;\n",
              "          element.appendChild(docLink);\n",
              "        }\n",
              "      </script>\n",
              "    </div>\n",
              "  </div>\n",
              "  "
            ]
          },
          "metadata": {},
          "execution_count": 121
        }
      ]
    },
    {
      "cell_type": "code",
      "source": [
        "df0.info()"
      ],
      "metadata": {
        "colab": {
          "base_uri": "https://localhost:8080/"
        },
        "id": "CbmKFvN3PCNb",
        "outputId": "44bde5ba-b037-4dbc-f617-21ae27156bb3"
      },
      "execution_count": null,
      "outputs": [
        {
          "output_type": "stream",
          "name": "stdout",
          "text": [
            "<class 'pandas.core.frame.DataFrame'>\n",
            "RangeIndex: 1310 entries, 0 to 1309\n",
            "Data columns (total 14 columns):\n",
            " #   Column     Non-Null Count  Dtype  \n",
            "---  ------     --------------  -----  \n",
            " 0   pclass     1309 non-null   float64\n",
            " 1   survived   1309 non-null   float64\n",
            " 2   name       1309 non-null   object \n",
            " 3   sex        1309 non-null   object \n",
            " 4   age        1046 non-null   float64\n",
            " 5   sibsp      1309 non-null   float64\n",
            " 6   parch      1309 non-null   float64\n",
            " 7   ticket     1309 non-null   object \n",
            " 8   fare       1308 non-null   float64\n",
            " 9   cabin      295 non-null    object \n",
            " 10  embarked   1307 non-null   object \n",
            " 11  boat       486 non-null    object \n",
            " 12  body       121 non-null    float64\n",
            " 13  home.dest  745 non-null    object \n",
            "dtypes: float64(7), object(7)\n",
            "memory usage: 143.4+ KB\n"
          ]
        }
      ]
    },
    {
      "cell_type": "markdown",
      "source": [
        "Will drop some columns."
      ],
      "metadata": {
        "id": "mFfL1q-KP4_h"
      }
    },
    {
      "cell_type": "code",
      "source": [
        "#drop boat, body, home.dest columns from DataFrame\n",
        "cols = [11, 12, 13]\n",
        "df0.drop(df0.columns[cols], axis=1, inplace=True)\n",
        "df0.info()\n"
      ],
      "metadata": {
        "colab": {
          "base_uri": "https://localhost:8080/"
        },
        "id": "SXHn3nUuP0jp",
        "outputId": "a7766656-f815-40b4-adc8-515f61c0d766"
      },
      "execution_count": null,
      "outputs": [
        {
          "output_type": "stream",
          "name": "stdout",
          "text": [
            "<class 'pandas.core.frame.DataFrame'>\n",
            "RangeIndex: 1310 entries, 0 to 1309\n",
            "Data columns (total 11 columns):\n",
            " #   Column    Non-Null Count  Dtype  \n",
            "---  ------    --------------  -----  \n",
            " 0   pclass    1309 non-null   float64\n",
            " 1   survived  1309 non-null   float64\n",
            " 2   name      1309 non-null   object \n",
            " 3   sex       1309 non-null   object \n",
            " 4   age       1046 non-null   float64\n",
            " 5   sibsp     1309 non-null   float64\n",
            " 6   parch     1309 non-null   float64\n",
            " 7   ticket    1309 non-null   object \n",
            " 8   fare      1308 non-null   float64\n",
            " 9   cabin     295 non-null    object \n",
            " 10  embarked  1307 non-null   object \n",
            "dtypes: float64(6), object(5)\n",
            "memory usage: 112.7+ KB\n"
          ]
        }
      ]
    },
    {
      "cell_type": "markdown",
      "source": [
        "Let us briefly describe each variable:\n",
        "\n",
        "**Pclass**: The class the passenger was in on the ship (1, 2 or 3);\n",
        "\n",
        "**Survived**: The target variable; whether the person survived the shipwreck (1) or did not survive the shipwreck (0);\n",
        "\n",
        "**Name**: The name of the passenger;\n",
        "\n",
        "**Sex**: The gender of the passenger;\n",
        "\n",
        "**Age**: The age of the passenger;\n",
        "\n",
        "**SibSp**: Number of siblings and spouses on the ship;\n",
        "\n",
        "**Parch**: Number of parents / children on the ship;\n",
        "\n",
        "**Ticket**: Number of the ticket;\n",
        "\n",
        "**Fare**: The fare of the ticket;\n",
        "\n",
        "**Cabin**: Number of the cabin;\n",
        "\n",
        "**Embarked**: Port of embarkation (C = Cherbourg, Q = Queenstown, S = Southhampton).\n"
      ],
      "metadata": {
        "id": "uPAeqyRVc9TG"
      }
    },
    {
      "cell_type": "markdown",
      "source": [
        "###Data pre-processing\n",
        "\n",
        "1. Drop columns (Features) that do not any value to the model."
      ],
      "metadata": {
        "id": "exxQbISnEgGA"
      }
    },
    {
      "cell_type": "code",
      "source": [
        "# Drop unnecesary columns\n",
        "df1=df0.drop(['name', 'ticket', 'cabin'], axis=1)\n",
        "df1.head()\n"
      ],
      "metadata": {
        "colab": {
          "base_uri": "https://localhost:8080/",
          "height": 270
        },
        "id": "5eineyThcyxb",
        "outputId": "4f409aff-2809-4fca-c30b-cae81009db72"
      },
      "execution_count": null,
      "outputs": [
        {
          "output_type": "execute_result",
          "data": {
            "text/plain": [
              "   pclass  survived     sex      age  sibsp  parch      fare embarked\n",
              "0     1.0       1.0  female  29.0000    0.0    0.0  211.3375        S\n",
              "1     1.0       1.0    male   0.9167    1.0    2.0  151.5500        S\n",
              "2     1.0       0.0  female   2.0000    1.0    2.0  151.5500        S\n",
              "3     1.0       0.0    male  30.0000    1.0    2.0  151.5500        S\n",
              "4     1.0       0.0  female  25.0000    1.0    2.0  151.5500        S"
            ],
            "text/html": [
              "\n",
              "  <div id=\"df-228e1715-d120-4437-8067-302593891390\">\n",
              "    <div class=\"colab-df-container\">\n",
              "      <div>\n",
              "<style scoped>\n",
              "    .dataframe tbody tr th:only-of-type {\n",
              "        vertical-align: middle;\n",
              "    }\n",
              "\n",
              "    .dataframe tbody tr th {\n",
              "        vertical-align: top;\n",
              "    }\n",
              "\n",
              "    .dataframe thead th {\n",
              "        text-align: right;\n",
              "    }\n",
              "</style>\n",
              "<table border=\"1\" class=\"dataframe\">\n",
              "  <thead>\n",
              "    <tr style=\"text-align: right;\">\n",
              "      <th></th>\n",
              "      <th>pclass</th>\n",
              "      <th>survived</th>\n",
              "      <th>sex</th>\n",
              "      <th>age</th>\n",
              "      <th>sibsp</th>\n",
              "      <th>parch</th>\n",
              "      <th>fare</th>\n",
              "      <th>embarked</th>\n",
              "    </tr>\n",
              "  </thead>\n",
              "  <tbody>\n",
              "    <tr>\n",
              "      <th>0</th>\n",
              "      <td>1.0</td>\n",
              "      <td>1.0</td>\n",
              "      <td>female</td>\n",
              "      <td>29.0000</td>\n",
              "      <td>0.0</td>\n",
              "      <td>0.0</td>\n",
              "      <td>211.3375</td>\n",
              "      <td>S</td>\n",
              "    </tr>\n",
              "    <tr>\n",
              "      <th>1</th>\n",
              "      <td>1.0</td>\n",
              "      <td>1.0</td>\n",
              "      <td>male</td>\n",
              "      <td>0.9167</td>\n",
              "      <td>1.0</td>\n",
              "      <td>2.0</td>\n",
              "      <td>151.5500</td>\n",
              "      <td>S</td>\n",
              "    </tr>\n",
              "    <tr>\n",
              "      <th>2</th>\n",
              "      <td>1.0</td>\n",
              "      <td>0.0</td>\n",
              "      <td>female</td>\n",
              "      <td>2.0000</td>\n",
              "      <td>1.0</td>\n",
              "      <td>2.0</td>\n",
              "      <td>151.5500</td>\n",
              "      <td>S</td>\n",
              "    </tr>\n",
              "    <tr>\n",
              "      <th>3</th>\n",
              "      <td>1.0</td>\n",
              "      <td>0.0</td>\n",
              "      <td>male</td>\n",
              "      <td>30.0000</td>\n",
              "      <td>1.0</td>\n",
              "      <td>2.0</td>\n",
              "      <td>151.5500</td>\n",
              "      <td>S</td>\n",
              "    </tr>\n",
              "    <tr>\n",
              "      <th>4</th>\n",
              "      <td>1.0</td>\n",
              "      <td>0.0</td>\n",
              "      <td>female</td>\n",
              "      <td>25.0000</td>\n",
              "      <td>1.0</td>\n",
              "      <td>2.0</td>\n",
              "      <td>151.5500</td>\n",
              "      <td>S</td>\n",
              "    </tr>\n",
              "  </tbody>\n",
              "</table>\n",
              "</div>\n",
              "      <button class=\"colab-df-convert\" onclick=\"convertToInteractive('df-228e1715-d120-4437-8067-302593891390')\"\n",
              "              title=\"Convert this dataframe to an interactive table.\"\n",
              "              style=\"display:none;\">\n",
              "        \n",
              "  <svg xmlns=\"http://www.w3.org/2000/svg\" height=\"24px\"viewBox=\"0 0 24 24\"\n",
              "       width=\"24px\">\n",
              "    <path d=\"M0 0h24v24H0V0z\" fill=\"none\"/>\n",
              "    <path d=\"M18.56 5.44l.94 2.06.94-2.06 2.06-.94-2.06-.94-.94-2.06-.94 2.06-2.06.94zm-11 1L8.5 8.5l.94-2.06 2.06-.94-2.06-.94L8.5 2.5l-.94 2.06-2.06.94zm10 10l.94 2.06.94-2.06 2.06-.94-2.06-.94-.94-2.06-.94 2.06-2.06.94z\"/><path d=\"M17.41 7.96l-1.37-1.37c-.4-.4-.92-.59-1.43-.59-.52 0-1.04.2-1.43.59L10.3 9.45l-7.72 7.72c-.78.78-.78 2.05 0 2.83L4 21.41c.39.39.9.59 1.41.59.51 0 1.02-.2 1.41-.59l7.78-7.78 2.81-2.81c.8-.78.8-2.07 0-2.86zM5.41 20L4 18.59l7.72-7.72 1.47 1.35L5.41 20z\"/>\n",
              "  </svg>\n",
              "      </button>\n",
              "      \n",
              "  <style>\n",
              "    .colab-df-container {\n",
              "      display:flex;\n",
              "      flex-wrap:wrap;\n",
              "      gap: 12px;\n",
              "    }\n",
              "\n",
              "    .colab-df-convert {\n",
              "      background-color: #E8F0FE;\n",
              "      border: none;\n",
              "      border-radius: 50%;\n",
              "      cursor: pointer;\n",
              "      display: none;\n",
              "      fill: #1967D2;\n",
              "      height: 32px;\n",
              "      padding: 0 0 0 0;\n",
              "      width: 32px;\n",
              "    }\n",
              "\n",
              "    .colab-df-convert:hover {\n",
              "      background-color: #E2EBFA;\n",
              "      box-shadow: 0px 1px 2px rgba(60, 64, 67, 0.3), 0px 1px 3px 1px rgba(60, 64, 67, 0.15);\n",
              "      fill: #174EA6;\n",
              "    }\n",
              "\n",
              "    [theme=dark] .colab-df-convert {\n",
              "      background-color: #3B4455;\n",
              "      fill: #D2E3FC;\n",
              "    }\n",
              "\n",
              "    [theme=dark] .colab-df-convert:hover {\n",
              "      background-color: #434B5C;\n",
              "      box-shadow: 0px 1px 3px 1px rgba(0, 0, 0, 0.15);\n",
              "      filter: drop-shadow(0px 1px 2px rgba(0, 0, 0, 0.3));\n",
              "      fill: #FFFFFF;\n",
              "    }\n",
              "  </style>\n",
              "\n",
              "      <script>\n",
              "        const buttonEl =\n",
              "          document.querySelector('#df-228e1715-d120-4437-8067-302593891390 button.colab-df-convert');\n",
              "        buttonEl.style.display =\n",
              "          google.colab.kernel.accessAllowed ? 'block' : 'none';\n",
              "\n",
              "        async function convertToInteractive(key) {\n",
              "          const element = document.querySelector('#df-228e1715-d120-4437-8067-302593891390');\n",
              "          const dataTable =\n",
              "            await google.colab.kernel.invokeFunction('convertToInteractive',\n",
              "                                                     [key], {});\n",
              "          if (!dataTable) return;\n",
              "\n",
              "          const docLinkHtml = 'Like what you see? Visit the ' +\n",
              "            '<a target=\"_blank\" href=https://colab.research.google.com/notebooks/data_table.ipynb>data table notebook</a>'\n",
              "            + ' to learn more about interactive tables.';\n",
              "          element.innerHTML = '';\n",
              "          dataTable['output_type'] = 'display_data';\n",
              "          await google.colab.output.renderOutput(dataTable, element);\n",
              "          const docLink = document.createElement('div');\n",
              "          docLink.innerHTML = docLinkHtml;\n",
              "          element.appendChild(docLink);\n",
              "        }\n",
              "      </script>\n",
              "    </div>\n",
              "  </div>\n",
              "  "
            ]
          },
          "metadata": {},
          "execution_count": 124
        }
      ]
    },
    {
      "cell_type": "markdown",
      "source": [
        "2. Create categorical dummies for the embarkment ports\n",
        "\n",
        "Will use Pandas [pd.get_dummies](https://pandas.pydata.org/pandas-docs/stable/reference/api/pandas.get_dummies.html) to convert categorical variable into dummy/indicator variables.\n"
      ],
      "metadata": {
        "id": "ng2wDt7gFMWY"
      }
    },
    {
      "cell_type": "code",
      "source": [
        "# Change Categorical dummy variables for the embarkment ports\n",
        "\n",
        "ports = pd.get_dummies(df1.embarked, prefix='port')\n",
        "ports.head()\n"
      ],
      "metadata": {
        "colab": {
          "base_uri": "https://localhost:8080/",
          "height": 270
        },
        "id": "S6--qUy3esuR",
        "outputId": "b41f04da-e0ec-4412-bc1f-958887ce1637"
      },
      "execution_count": null,
      "outputs": [
        {
          "output_type": "execute_result",
          "data": {
            "text/plain": [
              "   port_C  port_Q  port_S\n",
              "0       0       0       1\n",
              "1       0       0       1\n",
              "2       0       0       1\n",
              "3       0       0       1\n",
              "4       0       0       1"
            ],
            "text/html": [
              "\n",
              "  <div id=\"df-6c562d2f-2115-45ee-ab02-bd67e531080a\">\n",
              "    <div class=\"colab-df-container\">\n",
              "      <div>\n",
              "<style scoped>\n",
              "    .dataframe tbody tr th:only-of-type {\n",
              "        vertical-align: middle;\n",
              "    }\n",
              "\n",
              "    .dataframe tbody tr th {\n",
              "        vertical-align: top;\n",
              "    }\n",
              "\n",
              "    .dataframe thead th {\n",
              "        text-align: right;\n",
              "    }\n",
              "</style>\n",
              "<table border=\"1\" class=\"dataframe\">\n",
              "  <thead>\n",
              "    <tr style=\"text-align: right;\">\n",
              "      <th></th>\n",
              "      <th>port_C</th>\n",
              "      <th>port_Q</th>\n",
              "      <th>port_S</th>\n",
              "    </tr>\n",
              "  </thead>\n",
              "  <tbody>\n",
              "    <tr>\n",
              "      <th>0</th>\n",
              "      <td>0</td>\n",
              "      <td>0</td>\n",
              "      <td>1</td>\n",
              "    </tr>\n",
              "    <tr>\n",
              "      <th>1</th>\n",
              "      <td>0</td>\n",
              "      <td>0</td>\n",
              "      <td>1</td>\n",
              "    </tr>\n",
              "    <tr>\n",
              "      <th>2</th>\n",
              "      <td>0</td>\n",
              "      <td>0</td>\n",
              "      <td>1</td>\n",
              "    </tr>\n",
              "    <tr>\n",
              "      <th>3</th>\n",
              "      <td>0</td>\n",
              "      <td>0</td>\n",
              "      <td>1</td>\n",
              "    </tr>\n",
              "    <tr>\n",
              "      <th>4</th>\n",
              "      <td>0</td>\n",
              "      <td>0</td>\n",
              "      <td>1</td>\n",
              "    </tr>\n",
              "  </tbody>\n",
              "</table>\n",
              "</div>\n",
              "      <button class=\"colab-df-convert\" onclick=\"convertToInteractive('df-6c562d2f-2115-45ee-ab02-bd67e531080a')\"\n",
              "              title=\"Convert this dataframe to an interactive table.\"\n",
              "              style=\"display:none;\">\n",
              "        \n",
              "  <svg xmlns=\"http://www.w3.org/2000/svg\" height=\"24px\"viewBox=\"0 0 24 24\"\n",
              "       width=\"24px\">\n",
              "    <path d=\"M0 0h24v24H0V0z\" fill=\"none\"/>\n",
              "    <path d=\"M18.56 5.44l.94 2.06.94-2.06 2.06-.94-2.06-.94-.94-2.06-.94 2.06-2.06.94zm-11 1L8.5 8.5l.94-2.06 2.06-.94-2.06-.94L8.5 2.5l-.94 2.06-2.06.94zm10 10l.94 2.06.94-2.06 2.06-.94-2.06-.94-.94-2.06-.94 2.06-2.06.94z\"/><path d=\"M17.41 7.96l-1.37-1.37c-.4-.4-.92-.59-1.43-.59-.52 0-1.04.2-1.43.59L10.3 9.45l-7.72 7.72c-.78.78-.78 2.05 0 2.83L4 21.41c.39.39.9.59 1.41.59.51 0 1.02-.2 1.41-.59l7.78-7.78 2.81-2.81c.8-.78.8-2.07 0-2.86zM5.41 20L4 18.59l7.72-7.72 1.47 1.35L5.41 20z\"/>\n",
              "  </svg>\n",
              "      </button>\n",
              "      \n",
              "  <style>\n",
              "    .colab-df-container {\n",
              "      display:flex;\n",
              "      flex-wrap:wrap;\n",
              "      gap: 12px;\n",
              "    }\n",
              "\n",
              "    .colab-df-convert {\n",
              "      background-color: #E8F0FE;\n",
              "      border: none;\n",
              "      border-radius: 50%;\n",
              "      cursor: pointer;\n",
              "      display: none;\n",
              "      fill: #1967D2;\n",
              "      height: 32px;\n",
              "      padding: 0 0 0 0;\n",
              "      width: 32px;\n",
              "    }\n",
              "\n",
              "    .colab-df-convert:hover {\n",
              "      background-color: #E2EBFA;\n",
              "      box-shadow: 0px 1px 2px rgba(60, 64, 67, 0.3), 0px 1px 3px 1px rgba(60, 64, 67, 0.15);\n",
              "      fill: #174EA6;\n",
              "    }\n",
              "\n",
              "    [theme=dark] .colab-df-convert {\n",
              "      background-color: #3B4455;\n",
              "      fill: #D2E3FC;\n",
              "    }\n",
              "\n",
              "    [theme=dark] .colab-df-convert:hover {\n",
              "      background-color: #434B5C;\n",
              "      box-shadow: 0px 1px 3px 1px rgba(0, 0, 0, 0.15);\n",
              "      filter: drop-shadow(0px 1px 2px rgba(0, 0, 0, 0.3));\n",
              "      fill: #FFFFFF;\n",
              "    }\n",
              "  </style>\n",
              "\n",
              "      <script>\n",
              "        const buttonEl =\n",
              "          document.querySelector('#df-6c562d2f-2115-45ee-ab02-bd67e531080a button.colab-df-convert');\n",
              "        buttonEl.style.display =\n",
              "          google.colab.kernel.accessAllowed ? 'block' : 'none';\n",
              "\n",
              "        async function convertToInteractive(key) {\n",
              "          const element = document.querySelector('#df-6c562d2f-2115-45ee-ab02-bd67e531080a');\n",
              "          const dataTable =\n",
              "            await google.colab.kernel.invokeFunction('convertToInteractive',\n",
              "                                                     [key], {});\n",
              "          if (!dataTable) return;\n",
              "\n",
              "          const docLinkHtml = 'Like what you see? Visit the ' +\n",
              "            '<a target=\"_blank\" href=https://colab.research.google.com/notebooks/data_table.ipynb>data table notebook</a>'\n",
              "            + ' to learn more about interactive tables.';\n",
              "          element.innerHTML = '';\n",
              "          dataTable['output_type'] = 'display_data';\n",
              "          await google.colab.output.renderOutput(dataTable, element);\n",
              "          const docLink = document.createElement('div');\n",
              "          docLink.innerHTML = docLinkHtml;\n",
              "          element.appendChild(docLink);\n",
              "        }\n",
              "      </script>\n",
              "    </div>\n",
              "  </div>\n",
              "  "
            ]
          },
          "metadata": {},
          "execution_count": 125
        }
      ]
    },
    {
      "cell_type": "markdown",
      "source": [
        "Next we will join the port dataframe to df1.\n",
        "(Please see all [possible ways to join, merge, concatenate and compare dataframes](https://pandas.pydata.org/pandas-docs/stable/user_guide/merging.html)).  "
      ],
      "metadata": {
        "id": "hnH9ZMDzuIzU"
      }
    },
    {
      "cell_type": "code",
      "source": [
        "# Replace 'embarked' with ports variables and drop column.\n",
        "df2 = df1.join(ports)\n",
        "df2.drop(['embarked'], axis=1, inplace=True)\n",
        "df2.head()\n"
      ],
      "metadata": {
        "colab": {
          "base_uri": "https://localhost:8080/",
          "height": 270
        },
        "id": "58KQ1Pe8fDLd",
        "outputId": "d48f4f97-e8c3-4fcc-c736-8a063a1285ab"
      },
      "execution_count": null,
      "outputs": [
        {
          "output_type": "execute_result",
          "data": {
            "text/plain": [
              "   pclass  survived     sex      age  sibsp  parch      fare  port_C  port_Q  \\\n",
              "0     1.0       1.0  female  29.0000    0.0    0.0  211.3375       0       0   \n",
              "1     1.0       1.0    male   0.9167    1.0    2.0  151.5500       0       0   \n",
              "2     1.0       0.0  female   2.0000    1.0    2.0  151.5500       0       0   \n",
              "3     1.0       0.0    male  30.0000    1.0    2.0  151.5500       0       0   \n",
              "4     1.0       0.0  female  25.0000    1.0    2.0  151.5500       0       0   \n",
              "\n",
              "   port_S  \n",
              "0       1  \n",
              "1       1  \n",
              "2       1  \n",
              "3       1  \n",
              "4       1  "
            ],
            "text/html": [
              "\n",
              "  <div id=\"df-8fc253cd-ac76-4b65-9d41-a3db9b1fede0\">\n",
              "    <div class=\"colab-df-container\">\n",
              "      <div>\n",
              "<style scoped>\n",
              "    .dataframe tbody tr th:only-of-type {\n",
              "        vertical-align: middle;\n",
              "    }\n",
              "\n",
              "    .dataframe tbody tr th {\n",
              "        vertical-align: top;\n",
              "    }\n",
              "\n",
              "    .dataframe thead th {\n",
              "        text-align: right;\n",
              "    }\n",
              "</style>\n",
              "<table border=\"1\" class=\"dataframe\">\n",
              "  <thead>\n",
              "    <tr style=\"text-align: right;\">\n",
              "      <th></th>\n",
              "      <th>pclass</th>\n",
              "      <th>survived</th>\n",
              "      <th>sex</th>\n",
              "      <th>age</th>\n",
              "      <th>sibsp</th>\n",
              "      <th>parch</th>\n",
              "      <th>fare</th>\n",
              "      <th>port_C</th>\n",
              "      <th>port_Q</th>\n",
              "      <th>port_S</th>\n",
              "    </tr>\n",
              "  </thead>\n",
              "  <tbody>\n",
              "    <tr>\n",
              "      <th>0</th>\n",
              "      <td>1.0</td>\n",
              "      <td>1.0</td>\n",
              "      <td>female</td>\n",
              "      <td>29.0000</td>\n",
              "      <td>0.0</td>\n",
              "      <td>0.0</td>\n",
              "      <td>211.3375</td>\n",
              "      <td>0</td>\n",
              "      <td>0</td>\n",
              "      <td>1</td>\n",
              "    </tr>\n",
              "    <tr>\n",
              "      <th>1</th>\n",
              "      <td>1.0</td>\n",
              "      <td>1.0</td>\n",
              "      <td>male</td>\n",
              "      <td>0.9167</td>\n",
              "      <td>1.0</td>\n",
              "      <td>2.0</td>\n",
              "      <td>151.5500</td>\n",
              "      <td>0</td>\n",
              "      <td>0</td>\n",
              "      <td>1</td>\n",
              "    </tr>\n",
              "    <tr>\n",
              "      <th>2</th>\n",
              "      <td>1.0</td>\n",
              "      <td>0.0</td>\n",
              "      <td>female</td>\n",
              "      <td>2.0000</td>\n",
              "      <td>1.0</td>\n",
              "      <td>2.0</td>\n",
              "      <td>151.5500</td>\n",
              "      <td>0</td>\n",
              "      <td>0</td>\n",
              "      <td>1</td>\n",
              "    </tr>\n",
              "    <tr>\n",
              "      <th>3</th>\n",
              "      <td>1.0</td>\n",
              "      <td>0.0</td>\n",
              "      <td>male</td>\n",
              "      <td>30.0000</td>\n",
              "      <td>1.0</td>\n",
              "      <td>2.0</td>\n",
              "      <td>151.5500</td>\n",
              "      <td>0</td>\n",
              "      <td>0</td>\n",
              "      <td>1</td>\n",
              "    </tr>\n",
              "    <tr>\n",
              "      <th>4</th>\n",
              "      <td>1.0</td>\n",
              "      <td>0.0</td>\n",
              "      <td>female</td>\n",
              "      <td>25.0000</td>\n",
              "      <td>1.0</td>\n",
              "      <td>2.0</td>\n",
              "      <td>151.5500</td>\n",
              "      <td>0</td>\n",
              "      <td>0</td>\n",
              "      <td>1</td>\n",
              "    </tr>\n",
              "  </tbody>\n",
              "</table>\n",
              "</div>\n",
              "      <button class=\"colab-df-convert\" onclick=\"convertToInteractive('df-8fc253cd-ac76-4b65-9d41-a3db9b1fede0')\"\n",
              "              title=\"Convert this dataframe to an interactive table.\"\n",
              "              style=\"display:none;\">\n",
              "        \n",
              "  <svg xmlns=\"http://www.w3.org/2000/svg\" height=\"24px\"viewBox=\"0 0 24 24\"\n",
              "       width=\"24px\">\n",
              "    <path d=\"M0 0h24v24H0V0z\" fill=\"none\"/>\n",
              "    <path d=\"M18.56 5.44l.94 2.06.94-2.06 2.06-.94-2.06-.94-.94-2.06-.94 2.06-2.06.94zm-11 1L8.5 8.5l.94-2.06 2.06-.94-2.06-.94L8.5 2.5l-.94 2.06-2.06.94zm10 10l.94 2.06.94-2.06 2.06-.94-2.06-.94-.94-2.06-.94 2.06-2.06.94z\"/><path d=\"M17.41 7.96l-1.37-1.37c-.4-.4-.92-.59-1.43-.59-.52 0-1.04.2-1.43.59L10.3 9.45l-7.72 7.72c-.78.78-.78 2.05 0 2.83L4 21.41c.39.39.9.59 1.41.59.51 0 1.02-.2 1.41-.59l7.78-7.78 2.81-2.81c.8-.78.8-2.07 0-2.86zM5.41 20L4 18.59l7.72-7.72 1.47 1.35L5.41 20z\"/>\n",
              "  </svg>\n",
              "      </button>\n",
              "      \n",
              "  <style>\n",
              "    .colab-df-container {\n",
              "      display:flex;\n",
              "      flex-wrap:wrap;\n",
              "      gap: 12px;\n",
              "    }\n",
              "\n",
              "    .colab-df-convert {\n",
              "      background-color: #E8F0FE;\n",
              "      border: none;\n",
              "      border-radius: 50%;\n",
              "      cursor: pointer;\n",
              "      display: none;\n",
              "      fill: #1967D2;\n",
              "      height: 32px;\n",
              "      padding: 0 0 0 0;\n",
              "      width: 32px;\n",
              "    }\n",
              "\n",
              "    .colab-df-convert:hover {\n",
              "      background-color: #E2EBFA;\n",
              "      box-shadow: 0px 1px 2px rgba(60, 64, 67, 0.3), 0px 1px 3px 1px rgba(60, 64, 67, 0.15);\n",
              "      fill: #174EA6;\n",
              "    }\n",
              "\n",
              "    [theme=dark] .colab-df-convert {\n",
              "      background-color: #3B4455;\n",
              "      fill: #D2E3FC;\n",
              "    }\n",
              "\n",
              "    [theme=dark] .colab-df-convert:hover {\n",
              "      background-color: #434B5C;\n",
              "      box-shadow: 0px 1px 3px 1px rgba(0, 0, 0, 0.15);\n",
              "      filter: drop-shadow(0px 1px 2px rgba(0, 0, 0, 0.3));\n",
              "      fill: #FFFFFF;\n",
              "    }\n",
              "  </style>\n",
              "\n",
              "      <script>\n",
              "        const buttonEl =\n",
              "          document.querySelector('#df-8fc253cd-ac76-4b65-9d41-a3db9b1fede0 button.colab-df-convert');\n",
              "        buttonEl.style.display =\n",
              "          google.colab.kernel.accessAllowed ? 'block' : 'none';\n",
              "\n",
              "        async function convertToInteractive(key) {\n",
              "          const element = document.querySelector('#df-8fc253cd-ac76-4b65-9d41-a3db9b1fede0');\n",
              "          const dataTable =\n",
              "            await google.colab.kernel.invokeFunction('convertToInteractive',\n",
              "                                                     [key], {});\n",
              "          if (!dataTable) return;\n",
              "\n",
              "          const docLinkHtml = 'Like what you see? Visit the ' +\n",
              "            '<a target=\"_blank\" href=https://colab.research.google.com/notebooks/data_table.ipynb>data table notebook</a>'\n",
              "            + ' to learn more about interactive tables.';\n",
              "          element.innerHTML = '';\n",
              "          dataTable['output_type'] = 'display_data';\n",
              "          await google.colab.output.renderOutput(dataTable, element);\n",
              "          const docLink = document.createElement('div');\n",
              "          docLink.innerHTML = docLinkHtml;\n",
              "          element.appendChild(docLink);\n",
              "        }\n",
              "      </script>\n",
              "    </div>\n",
              "  </div>\n",
              "  "
            ]
          },
          "metadata": {},
          "execution_count": 126
        }
      ]
    },
    {
      "cell_type": "markdown",
      "source": [
        "3. Transform gender names into binary numbers, using a dictionary.\n",
        "\n",
        "\n",
        "Create a value map: male=0, female=1"
      ],
      "metadata": {
        "id": "NOS4j92oFnlV"
      }
    },
    {
      "cell_type": "code",
      "source": [
        "df2.sex = df2.sex.map({'male': 0, 'female': 1})\n",
        "df2.head()\n"
      ],
      "metadata": {
        "colab": {
          "base_uri": "https://localhost:8080/",
          "height": 270
        },
        "id": "5JXTjfcYET7Z",
        "outputId": "6ec52c5a-d728-4f9d-c994-57d2aea84a31"
      },
      "execution_count": null,
      "outputs": [
        {
          "output_type": "execute_result",
          "data": {
            "text/plain": [
              "   pclass  survived  sex      age  sibsp  parch      fare  port_C  port_Q  \\\n",
              "0     1.0       1.0  1.0  29.0000    0.0    0.0  211.3375       0       0   \n",
              "1     1.0       1.0  0.0   0.9167    1.0    2.0  151.5500       0       0   \n",
              "2     1.0       0.0  1.0   2.0000    1.0    2.0  151.5500       0       0   \n",
              "3     1.0       0.0  0.0  30.0000    1.0    2.0  151.5500       0       0   \n",
              "4     1.0       0.0  1.0  25.0000    1.0    2.0  151.5500       0       0   \n",
              "\n",
              "   port_S  \n",
              "0       1  \n",
              "1       1  \n",
              "2       1  \n",
              "3       1  \n",
              "4       1  "
            ],
            "text/html": [
              "\n",
              "  <div id=\"df-0ebfc6a4-d5d8-48ba-8de8-7281390d1851\">\n",
              "    <div class=\"colab-df-container\">\n",
              "      <div>\n",
              "<style scoped>\n",
              "    .dataframe tbody tr th:only-of-type {\n",
              "        vertical-align: middle;\n",
              "    }\n",
              "\n",
              "    .dataframe tbody tr th {\n",
              "        vertical-align: top;\n",
              "    }\n",
              "\n",
              "    .dataframe thead th {\n",
              "        text-align: right;\n",
              "    }\n",
              "</style>\n",
              "<table border=\"1\" class=\"dataframe\">\n",
              "  <thead>\n",
              "    <tr style=\"text-align: right;\">\n",
              "      <th></th>\n",
              "      <th>pclass</th>\n",
              "      <th>survived</th>\n",
              "      <th>sex</th>\n",
              "      <th>age</th>\n",
              "      <th>sibsp</th>\n",
              "      <th>parch</th>\n",
              "      <th>fare</th>\n",
              "      <th>port_C</th>\n",
              "      <th>port_Q</th>\n",
              "      <th>port_S</th>\n",
              "    </tr>\n",
              "  </thead>\n",
              "  <tbody>\n",
              "    <tr>\n",
              "      <th>0</th>\n",
              "      <td>1.0</td>\n",
              "      <td>1.0</td>\n",
              "      <td>1.0</td>\n",
              "      <td>29.0000</td>\n",
              "      <td>0.0</td>\n",
              "      <td>0.0</td>\n",
              "      <td>211.3375</td>\n",
              "      <td>0</td>\n",
              "      <td>0</td>\n",
              "      <td>1</td>\n",
              "    </tr>\n",
              "    <tr>\n",
              "      <th>1</th>\n",
              "      <td>1.0</td>\n",
              "      <td>1.0</td>\n",
              "      <td>0.0</td>\n",
              "      <td>0.9167</td>\n",
              "      <td>1.0</td>\n",
              "      <td>2.0</td>\n",
              "      <td>151.5500</td>\n",
              "      <td>0</td>\n",
              "      <td>0</td>\n",
              "      <td>1</td>\n",
              "    </tr>\n",
              "    <tr>\n",
              "      <th>2</th>\n",
              "      <td>1.0</td>\n",
              "      <td>0.0</td>\n",
              "      <td>1.0</td>\n",
              "      <td>2.0000</td>\n",
              "      <td>1.0</td>\n",
              "      <td>2.0</td>\n",
              "      <td>151.5500</td>\n",
              "      <td>0</td>\n",
              "      <td>0</td>\n",
              "      <td>1</td>\n",
              "    </tr>\n",
              "    <tr>\n",
              "      <th>3</th>\n",
              "      <td>1.0</td>\n",
              "      <td>0.0</td>\n",
              "      <td>0.0</td>\n",
              "      <td>30.0000</td>\n",
              "      <td>1.0</td>\n",
              "      <td>2.0</td>\n",
              "      <td>151.5500</td>\n",
              "      <td>0</td>\n",
              "      <td>0</td>\n",
              "      <td>1</td>\n",
              "    </tr>\n",
              "    <tr>\n",
              "      <th>4</th>\n",
              "      <td>1.0</td>\n",
              "      <td>0.0</td>\n",
              "      <td>1.0</td>\n",
              "      <td>25.0000</td>\n",
              "      <td>1.0</td>\n",
              "      <td>2.0</td>\n",
              "      <td>151.5500</td>\n",
              "      <td>0</td>\n",
              "      <td>0</td>\n",
              "      <td>1</td>\n",
              "    </tr>\n",
              "  </tbody>\n",
              "</table>\n",
              "</div>\n",
              "      <button class=\"colab-df-convert\" onclick=\"convertToInteractive('df-0ebfc6a4-d5d8-48ba-8de8-7281390d1851')\"\n",
              "              title=\"Convert this dataframe to an interactive table.\"\n",
              "              style=\"display:none;\">\n",
              "        \n",
              "  <svg xmlns=\"http://www.w3.org/2000/svg\" height=\"24px\"viewBox=\"0 0 24 24\"\n",
              "       width=\"24px\">\n",
              "    <path d=\"M0 0h24v24H0V0z\" fill=\"none\"/>\n",
              "    <path d=\"M18.56 5.44l.94 2.06.94-2.06 2.06-.94-2.06-.94-.94-2.06-.94 2.06-2.06.94zm-11 1L8.5 8.5l.94-2.06 2.06-.94-2.06-.94L8.5 2.5l-.94 2.06-2.06.94zm10 10l.94 2.06.94-2.06 2.06-.94-2.06-.94-.94-2.06-.94 2.06-2.06.94z\"/><path d=\"M17.41 7.96l-1.37-1.37c-.4-.4-.92-.59-1.43-.59-.52 0-1.04.2-1.43.59L10.3 9.45l-7.72 7.72c-.78.78-.78 2.05 0 2.83L4 21.41c.39.39.9.59 1.41.59.51 0 1.02-.2 1.41-.59l7.78-7.78 2.81-2.81c.8-.78.8-2.07 0-2.86zM5.41 20L4 18.59l7.72-7.72 1.47 1.35L5.41 20z\"/>\n",
              "  </svg>\n",
              "      </button>\n",
              "      \n",
              "  <style>\n",
              "    .colab-df-container {\n",
              "      display:flex;\n",
              "      flex-wrap:wrap;\n",
              "      gap: 12px;\n",
              "    }\n",
              "\n",
              "    .colab-df-convert {\n",
              "      background-color: #E8F0FE;\n",
              "      border: none;\n",
              "      border-radius: 50%;\n",
              "      cursor: pointer;\n",
              "      display: none;\n",
              "      fill: #1967D2;\n",
              "      height: 32px;\n",
              "      padding: 0 0 0 0;\n",
              "      width: 32px;\n",
              "    }\n",
              "\n",
              "    .colab-df-convert:hover {\n",
              "      background-color: #E2EBFA;\n",
              "      box-shadow: 0px 1px 2px rgba(60, 64, 67, 0.3), 0px 1px 3px 1px rgba(60, 64, 67, 0.15);\n",
              "      fill: #174EA6;\n",
              "    }\n",
              "\n",
              "    [theme=dark] .colab-df-convert {\n",
              "      background-color: #3B4455;\n",
              "      fill: #D2E3FC;\n",
              "    }\n",
              "\n",
              "    [theme=dark] .colab-df-convert:hover {\n",
              "      background-color: #434B5C;\n",
              "      box-shadow: 0px 1px 3px 1px rgba(0, 0, 0, 0.15);\n",
              "      filter: drop-shadow(0px 1px 2px rgba(0, 0, 0, 0.3));\n",
              "      fill: #FFFFFF;\n",
              "    }\n",
              "  </style>\n",
              "\n",
              "      <script>\n",
              "        const buttonEl =\n",
              "          document.querySelector('#df-0ebfc6a4-d5d8-48ba-8de8-7281390d1851 button.colab-df-convert');\n",
              "        buttonEl.style.display =\n",
              "          google.colab.kernel.accessAllowed ? 'block' : 'none';\n",
              "\n",
              "        async function convertToInteractive(key) {\n",
              "          const element = document.querySelector('#df-0ebfc6a4-d5d8-48ba-8de8-7281390d1851');\n",
              "          const dataTable =\n",
              "            await google.colab.kernel.invokeFunction('convertToInteractive',\n",
              "                                                     [key], {});\n",
              "          if (!dataTable) return;\n",
              "\n",
              "          const docLinkHtml = 'Like what you see? Visit the ' +\n",
              "            '<a target=\"_blank\" href=https://colab.research.google.com/notebooks/data_table.ipynb>data table notebook</a>'\n",
              "            + ' to learn more about interactive tables.';\n",
              "          element.innerHTML = '';\n",
              "          dataTable['output_type'] = 'display_data';\n",
              "          await google.colab.output.renderOutput(dataTable, element);\n",
              "          const docLink = document.createElement('div');\n",
              "          docLink.innerHTML = docLinkHtml;\n",
              "          element.appendChild(docLink);\n",
              "        }\n",
              "      </script>\n",
              "    </div>\n",
              "  </div>\n",
              "  "
            ]
          },
          "metadata": {},
          "execution_count": 127
        }
      ]
    },
    {
      "cell_type": "markdown",
      "source": [
        "4. Replace missing values"
      ],
      "metadata": {
        "id": "ucmmXL0vGgWu"
      }
    },
    {
      "cell_type": "code",
      "source": [
        "df2.info()\n"
      ],
      "metadata": {
        "colab": {
          "base_uri": "https://localhost:8080/"
        },
        "id": "AUfoun_EG5x9",
        "outputId": "dfdce268-26d7-46fb-93d9-83b4a9e1937c"
      },
      "execution_count": null,
      "outputs": [
        {
          "output_type": "stream",
          "name": "stdout",
          "text": [
            "<class 'pandas.core.frame.DataFrame'>\n",
            "RangeIndex: 1310 entries, 0 to 1309\n",
            "Data columns (total 10 columns):\n",
            " #   Column    Non-Null Count  Dtype  \n",
            "---  ------    --------------  -----  \n",
            " 0   pclass    1309 non-null   float64\n",
            " 1   survived  1309 non-null   float64\n",
            " 2   sex       1309 non-null   float64\n",
            " 3   age       1046 non-null   float64\n",
            " 4   sibsp     1309 non-null   float64\n",
            " 5   parch     1309 non-null   float64\n",
            " 6   fare      1308 non-null   float64\n",
            " 7   port_C    1310 non-null   uint8  \n",
            " 8   port_Q    1310 non-null   uint8  \n",
            " 9   port_S    1310 non-null   uint8  \n",
            "dtypes: float64(7), uint8(3)\n",
            "memory usage: 75.6 KB\n"
          ]
        }
      ]
    },
    {
      "cell_type": "code",
      "source": [
        "df2[pd.isnull(df2).any(axis=1)]"
      ],
      "metadata": {
        "colab": {
          "base_uri": "https://localhost:8080/",
          "height": 488
        },
        "id": "r2wQPwCuG-aF",
        "outputId": "4f3ce8af-6555-45d8-a94e-d827da323d45"
      },
      "execution_count": null,
      "outputs": [
        {
          "output_type": "execute_result",
          "data": {
            "text/plain": [
              "      pclass  survived  sex  age  sibsp  parch     fare  port_C  port_Q  \\\n",
              "15       1.0       0.0  0.0  NaN    0.0    0.0  25.9250       0       0   \n",
              "37       1.0       1.0  0.0  NaN    0.0    0.0  26.5500       0       0   \n",
              "40       1.0       0.0  0.0  NaN    0.0    0.0  39.6000       1       0   \n",
              "46       1.0       0.0  0.0  NaN    0.0    0.0  31.0000       0       0   \n",
              "59       1.0       1.0  1.0  NaN    0.0    0.0  27.7208       1       0   \n",
              "...      ...       ...  ...  ...    ...    ...      ...     ...     ...   \n",
              "1297     3.0       0.0  0.0  NaN    0.0    0.0   7.2500       0       0   \n",
              "1302     3.0       0.0  0.0  NaN    0.0    0.0   7.2250       1       0   \n",
              "1303     3.0       0.0  0.0  NaN    0.0    0.0  14.4583       1       0   \n",
              "1305     3.0       0.0  1.0  NaN    1.0    0.0  14.4542       1       0   \n",
              "1309     NaN       NaN  NaN  NaN    NaN    NaN      NaN       0       0   \n",
              "\n",
              "      port_S  \n",
              "15         1  \n",
              "37         1  \n",
              "40         0  \n",
              "46         1  \n",
              "59         0  \n",
              "...      ...  \n",
              "1297       1  \n",
              "1302       0  \n",
              "1303       0  \n",
              "1305       0  \n",
              "1309       0  \n",
              "\n",
              "[265 rows x 10 columns]"
            ],
            "text/html": [
              "\n",
              "  <div id=\"df-775489e6-c970-44ce-a208-10c7db616568\">\n",
              "    <div class=\"colab-df-container\">\n",
              "      <div>\n",
              "<style scoped>\n",
              "    .dataframe tbody tr th:only-of-type {\n",
              "        vertical-align: middle;\n",
              "    }\n",
              "\n",
              "    .dataframe tbody tr th {\n",
              "        vertical-align: top;\n",
              "    }\n",
              "\n",
              "    .dataframe thead th {\n",
              "        text-align: right;\n",
              "    }\n",
              "</style>\n",
              "<table border=\"1\" class=\"dataframe\">\n",
              "  <thead>\n",
              "    <tr style=\"text-align: right;\">\n",
              "      <th></th>\n",
              "      <th>pclass</th>\n",
              "      <th>survived</th>\n",
              "      <th>sex</th>\n",
              "      <th>age</th>\n",
              "      <th>sibsp</th>\n",
              "      <th>parch</th>\n",
              "      <th>fare</th>\n",
              "      <th>port_C</th>\n",
              "      <th>port_Q</th>\n",
              "      <th>port_S</th>\n",
              "    </tr>\n",
              "  </thead>\n",
              "  <tbody>\n",
              "    <tr>\n",
              "      <th>15</th>\n",
              "      <td>1.0</td>\n",
              "      <td>0.0</td>\n",
              "      <td>0.0</td>\n",
              "      <td>NaN</td>\n",
              "      <td>0.0</td>\n",
              "      <td>0.0</td>\n",
              "      <td>25.9250</td>\n",
              "      <td>0</td>\n",
              "      <td>0</td>\n",
              "      <td>1</td>\n",
              "    </tr>\n",
              "    <tr>\n",
              "      <th>37</th>\n",
              "      <td>1.0</td>\n",
              "      <td>1.0</td>\n",
              "      <td>0.0</td>\n",
              "      <td>NaN</td>\n",
              "      <td>0.0</td>\n",
              "      <td>0.0</td>\n",
              "      <td>26.5500</td>\n",
              "      <td>0</td>\n",
              "      <td>0</td>\n",
              "      <td>1</td>\n",
              "    </tr>\n",
              "    <tr>\n",
              "      <th>40</th>\n",
              "      <td>1.0</td>\n",
              "      <td>0.0</td>\n",
              "      <td>0.0</td>\n",
              "      <td>NaN</td>\n",
              "      <td>0.0</td>\n",
              "      <td>0.0</td>\n",
              "      <td>39.6000</td>\n",
              "      <td>1</td>\n",
              "      <td>0</td>\n",
              "      <td>0</td>\n",
              "    </tr>\n",
              "    <tr>\n",
              "      <th>46</th>\n",
              "      <td>1.0</td>\n",
              "      <td>0.0</td>\n",
              "      <td>0.0</td>\n",
              "      <td>NaN</td>\n",
              "      <td>0.0</td>\n",
              "      <td>0.0</td>\n",
              "      <td>31.0000</td>\n",
              "      <td>0</td>\n",
              "      <td>0</td>\n",
              "      <td>1</td>\n",
              "    </tr>\n",
              "    <tr>\n",
              "      <th>59</th>\n",
              "      <td>1.0</td>\n",
              "      <td>1.0</td>\n",
              "      <td>1.0</td>\n",
              "      <td>NaN</td>\n",
              "      <td>0.0</td>\n",
              "      <td>0.0</td>\n",
              "      <td>27.7208</td>\n",
              "      <td>1</td>\n",
              "      <td>0</td>\n",
              "      <td>0</td>\n",
              "    </tr>\n",
              "    <tr>\n",
              "      <th>...</th>\n",
              "      <td>...</td>\n",
              "      <td>...</td>\n",
              "      <td>...</td>\n",
              "      <td>...</td>\n",
              "      <td>...</td>\n",
              "      <td>...</td>\n",
              "      <td>...</td>\n",
              "      <td>...</td>\n",
              "      <td>...</td>\n",
              "      <td>...</td>\n",
              "    </tr>\n",
              "    <tr>\n",
              "      <th>1297</th>\n",
              "      <td>3.0</td>\n",
              "      <td>0.0</td>\n",
              "      <td>0.0</td>\n",
              "      <td>NaN</td>\n",
              "      <td>0.0</td>\n",
              "      <td>0.0</td>\n",
              "      <td>7.2500</td>\n",
              "      <td>0</td>\n",
              "      <td>0</td>\n",
              "      <td>1</td>\n",
              "    </tr>\n",
              "    <tr>\n",
              "      <th>1302</th>\n",
              "      <td>3.0</td>\n",
              "      <td>0.0</td>\n",
              "      <td>0.0</td>\n",
              "      <td>NaN</td>\n",
              "      <td>0.0</td>\n",
              "      <td>0.0</td>\n",
              "      <td>7.2250</td>\n",
              "      <td>1</td>\n",
              "      <td>0</td>\n",
              "      <td>0</td>\n",
              "    </tr>\n",
              "    <tr>\n",
              "      <th>1303</th>\n",
              "      <td>3.0</td>\n",
              "      <td>0.0</td>\n",
              "      <td>0.0</td>\n",
              "      <td>NaN</td>\n",
              "      <td>0.0</td>\n",
              "      <td>0.0</td>\n",
              "      <td>14.4583</td>\n",
              "      <td>1</td>\n",
              "      <td>0</td>\n",
              "      <td>0</td>\n",
              "    </tr>\n",
              "    <tr>\n",
              "      <th>1305</th>\n",
              "      <td>3.0</td>\n",
              "      <td>0.0</td>\n",
              "      <td>1.0</td>\n",
              "      <td>NaN</td>\n",
              "      <td>1.0</td>\n",
              "      <td>0.0</td>\n",
              "      <td>14.4542</td>\n",
              "      <td>1</td>\n",
              "      <td>0</td>\n",
              "      <td>0</td>\n",
              "    </tr>\n",
              "    <tr>\n",
              "      <th>1309</th>\n",
              "      <td>NaN</td>\n",
              "      <td>NaN</td>\n",
              "      <td>NaN</td>\n",
              "      <td>NaN</td>\n",
              "      <td>NaN</td>\n",
              "      <td>NaN</td>\n",
              "      <td>NaN</td>\n",
              "      <td>0</td>\n",
              "      <td>0</td>\n",
              "      <td>0</td>\n",
              "    </tr>\n",
              "  </tbody>\n",
              "</table>\n",
              "<p>265 rows × 10 columns</p>\n",
              "</div>\n",
              "      <button class=\"colab-df-convert\" onclick=\"convertToInteractive('df-775489e6-c970-44ce-a208-10c7db616568')\"\n",
              "              title=\"Convert this dataframe to an interactive table.\"\n",
              "              style=\"display:none;\">\n",
              "        \n",
              "  <svg xmlns=\"http://www.w3.org/2000/svg\" height=\"24px\"viewBox=\"0 0 24 24\"\n",
              "       width=\"24px\">\n",
              "    <path d=\"M0 0h24v24H0V0z\" fill=\"none\"/>\n",
              "    <path d=\"M18.56 5.44l.94 2.06.94-2.06 2.06-.94-2.06-.94-.94-2.06-.94 2.06-2.06.94zm-11 1L8.5 8.5l.94-2.06 2.06-.94-2.06-.94L8.5 2.5l-.94 2.06-2.06.94zm10 10l.94 2.06.94-2.06 2.06-.94-2.06-.94-.94-2.06-.94 2.06-2.06.94z\"/><path d=\"M17.41 7.96l-1.37-1.37c-.4-.4-.92-.59-1.43-.59-.52 0-1.04.2-1.43.59L10.3 9.45l-7.72 7.72c-.78.78-.78 2.05 0 2.83L4 21.41c.39.39.9.59 1.41.59.51 0 1.02-.2 1.41-.59l7.78-7.78 2.81-2.81c.8-.78.8-2.07 0-2.86zM5.41 20L4 18.59l7.72-7.72 1.47 1.35L5.41 20z\"/>\n",
              "  </svg>\n",
              "      </button>\n",
              "      \n",
              "  <style>\n",
              "    .colab-df-container {\n",
              "      display:flex;\n",
              "      flex-wrap:wrap;\n",
              "      gap: 12px;\n",
              "    }\n",
              "\n",
              "    .colab-df-convert {\n",
              "      background-color: #E8F0FE;\n",
              "      border: none;\n",
              "      border-radius: 50%;\n",
              "      cursor: pointer;\n",
              "      display: none;\n",
              "      fill: #1967D2;\n",
              "      height: 32px;\n",
              "      padding: 0 0 0 0;\n",
              "      width: 32px;\n",
              "    }\n",
              "\n",
              "    .colab-df-convert:hover {\n",
              "      background-color: #E2EBFA;\n",
              "      box-shadow: 0px 1px 2px rgba(60, 64, 67, 0.3), 0px 1px 3px 1px rgba(60, 64, 67, 0.15);\n",
              "      fill: #174EA6;\n",
              "    }\n",
              "\n",
              "    [theme=dark] .colab-df-convert {\n",
              "      background-color: #3B4455;\n",
              "      fill: #D2E3FC;\n",
              "    }\n",
              "\n",
              "    [theme=dark] .colab-df-convert:hover {\n",
              "      background-color: #434B5C;\n",
              "      box-shadow: 0px 1px 3px 1px rgba(0, 0, 0, 0.15);\n",
              "      filter: drop-shadow(0px 1px 2px rgba(0, 0, 0, 0.3));\n",
              "      fill: #FFFFFF;\n",
              "    }\n",
              "  </style>\n",
              "\n",
              "      <script>\n",
              "        const buttonEl =\n",
              "          document.querySelector('#df-775489e6-c970-44ce-a208-10c7db616568 button.colab-df-convert');\n",
              "        buttonEl.style.display =\n",
              "          google.colab.kernel.accessAllowed ? 'block' : 'none';\n",
              "\n",
              "        async function convertToInteractive(key) {\n",
              "          const element = document.querySelector('#df-775489e6-c970-44ce-a208-10c7db616568');\n",
              "          const dataTable =\n",
              "            await google.colab.kernel.invokeFunction('convertToInteractive',\n",
              "                                                     [key], {});\n",
              "          if (!dataTable) return;\n",
              "\n",
              "          const docLinkHtml = 'Like what you see? Visit the ' +\n",
              "            '<a target=\"_blank\" href=https://colab.research.google.com/notebooks/data_table.ipynb>data table notebook</a>'\n",
              "            + ' to learn more about interactive tables.';\n",
              "          element.innerHTML = '';\n",
              "          dataTable['output_type'] = 'display_data';\n",
              "          await google.colab.output.renderOutput(dataTable, element);\n",
              "          const docLink = document.createElement('div');\n",
              "          docLink.innerHTML = docLinkHtml;\n",
              "          element.appendChild(docLink);\n",
              "        }\n",
              "      </script>\n",
              "    </div>\n",
              "  </div>\n",
              "  "
            ]
          },
          "metadata": {},
          "execution_count": 129
        }
      ]
    },
    {
      "cell_type": "markdown",
      "source": [
        "We can replace missing age with average value, using Pandas [df.fillna()](https://pandas.pydata.org/pandas-docs/stable/reference/api/pandas.DataFrame.fillna.html) method.\n"
      ],
      "metadata": {
        "id": "223I34BoHhtu"
      }
    },
    {
      "cell_type": "code",
      "source": [
        "df2.age.fillna(df2.age.mean(), inplace=True)\n",
        "df2.info()\n"
      ],
      "metadata": {
        "colab": {
          "base_uri": "https://localhost:8080/"
        },
        "id": "dUf760LtHQTF",
        "outputId": "a5c0f8dc-9881-4e1a-d64e-8353e78e7056"
      },
      "execution_count": null,
      "outputs": [
        {
          "output_type": "stream",
          "name": "stdout",
          "text": [
            "<class 'pandas.core.frame.DataFrame'>\n",
            "RangeIndex: 1310 entries, 0 to 1309\n",
            "Data columns (total 10 columns):\n",
            " #   Column    Non-Null Count  Dtype  \n",
            "---  ------    --------------  -----  \n",
            " 0   pclass    1309 non-null   float64\n",
            " 1   survived  1309 non-null   float64\n",
            " 2   sex       1309 non-null   float64\n",
            " 3   age       1310 non-null   float64\n",
            " 4   sibsp     1309 non-null   float64\n",
            " 5   parch     1309 non-null   float64\n",
            " 6   fare      1308 non-null   float64\n",
            " 7   port_C    1310 non-null   uint8  \n",
            " 8   port_Q    1310 non-null   uint8  \n",
            " 9   port_S    1310 non-null   uint8  \n",
            "dtypes: float64(7), uint8(3)\n",
            "memory usage: 75.6 KB\n"
          ]
        }
      ]
    },
    {
      "cell_type": "code",
      "source": [
        "# Eliminate any row with missing data at this point\n",
        "df3 = df2.dropna()\n",
        "df3.info()\n"
      ],
      "metadata": {
        "colab": {
          "base_uri": "https://localhost:8080/"
        },
        "id": "2DeqD15EZS2a",
        "outputId": "9469c24f-9187-4e72-9690-0fa0cd632beb"
      },
      "execution_count": null,
      "outputs": [
        {
          "output_type": "stream",
          "name": "stdout",
          "text": [
            "<class 'pandas.core.frame.DataFrame'>\n",
            "Int64Index: 1308 entries, 0 to 1308\n",
            "Data columns (total 10 columns):\n",
            " #   Column    Non-Null Count  Dtype  \n",
            "---  ------    --------------  -----  \n",
            " 0   pclass    1308 non-null   float64\n",
            " 1   survived  1308 non-null   float64\n",
            " 2   sex       1308 non-null   float64\n",
            " 3   age       1308 non-null   float64\n",
            " 4   sibsp     1308 non-null   float64\n",
            " 5   parch     1308 non-null   float64\n",
            " 6   fare      1308 non-null   float64\n",
            " 7   port_C    1308 non-null   uint8  \n",
            " 8   port_Q    1308 non-null   uint8  \n",
            " 9   port_S    1308 non-null   uint8  \n",
            "dtypes: float64(7), uint8(3)\n",
            "memory usage: 85.6 KB\n"
          ]
        }
      ]
    },
    {
      "cell_type": "markdown",
      "source": [
        "### Train Model\n",
        "\n",
        "Split data: train + test"
      ],
      "metadata": {
        "id": "tLOoO7LJIZdE"
      }
    },
    {
      "cell_type": "code",
      "source": [
        "df = df3.copy()\n"
      ],
      "metadata": {
        "id": "ZDa-fFOxH1py"
      },
      "execution_count": null,
      "outputs": []
    },
    {
      "cell_type": "code",
      "source": [
        "# y will be the Target variable (Did Survive or not)\n",
        "y = df.survived.copy()\n",
        "X = df.drop(['survived'], axis=1)\n"
      ],
      "metadata": {
        "id": "QItJx7wwI2UW"
      },
      "execution_count": null,
      "outputs": []
    },
    {
      "cell_type": "code",
      "source": [
        "# Will reserve 20% of the data for testing the model\n",
        "X_train, X_test, y_train, y_test = train_test_split(X, y, test_size=0.2, random_state=0)\n"
      ],
      "metadata": {
        "id": "YTD45tI-JTpp"
      },
      "execution_count": null,
      "outputs": []
    },
    {
      "cell_type": "code",
      "source": [
        "X_train.info()\n"
      ],
      "metadata": {
        "colab": {
          "base_uri": "https://localhost:8080/"
        },
        "id": "BLkf4aoySoEq",
        "outputId": "8397ada4-2fad-45db-9add-4ca42c2a086c"
      },
      "execution_count": null,
      "outputs": [
        {
          "output_type": "stream",
          "name": "stdout",
          "text": [
            "<class 'pandas.core.frame.DataFrame'>\n",
            "Int64Index: 1046 entries, 406 to 684\n",
            "Data columns (total 9 columns):\n",
            " #   Column  Non-Null Count  Dtype  \n",
            "---  ------  --------------  -----  \n",
            " 0   pclass  1046 non-null   float64\n",
            " 1   sex     1046 non-null   float64\n",
            " 2   age     1046 non-null   float64\n",
            " 3   sibsp   1046 non-null   float64\n",
            " 4   parch   1046 non-null   float64\n",
            " 5   fare    1046 non-null   float64\n",
            " 6   port_C  1046 non-null   uint8  \n",
            " 7   port_Q  1046 non-null   uint8  \n",
            " 8   port_S  1046 non-null   uint8  \n",
            "dtypes: float64(6), uint8(3)\n",
            "memory usage: 60.3 KB\n"
          ]
        }
      ]
    },
    {
      "cell_type": "code",
      "source": [
        "X_train.head()"
      ],
      "metadata": {
        "colab": {
          "base_uri": "https://localhost:8080/",
          "height": 270
        },
        "id": "ObBvgXWSZ2hn",
        "outputId": "15c40fd6-c52e-4995-b6ed-81a91f40356d"
      },
      "execution_count": null,
      "outputs": [
        {
          "output_type": "execute_result",
          "data": {
            "text/plain": [
              "      pclass  sex   age  sibsp  parch     fare  port_C  port_Q  port_S\n",
              "406      2.0  0.0  40.0    1.0    0.0   26.000       0       0       1\n",
              "44       1.0  1.0  41.0    0.0    0.0  134.500       1       0       0\n",
              "1235     3.0  0.0  74.0    0.0    0.0    7.775       0       0       1\n",
              "785      3.0  1.0  22.0    1.0    0.0   13.900       0       0       1\n",
              "794      3.0  1.0   5.0    0.0    0.0   12.475       0       0       1"
            ],
            "text/html": [
              "\n",
              "  <div id=\"df-bc7729ee-7b90-4110-bf17-ef82577a90d7\">\n",
              "    <div class=\"colab-df-container\">\n",
              "      <div>\n",
              "<style scoped>\n",
              "    .dataframe tbody tr th:only-of-type {\n",
              "        vertical-align: middle;\n",
              "    }\n",
              "\n",
              "    .dataframe tbody tr th {\n",
              "        vertical-align: top;\n",
              "    }\n",
              "\n",
              "    .dataframe thead th {\n",
              "        text-align: right;\n",
              "    }\n",
              "</style>\n",
              "<table border=\"1\" class=\"dataframe\">\n",
              "  <thead>\n",
              "    <tr style=\"text-align: right;\">\n",
              "      <th></th>\n",
              "      <th>pclass</th>\n",
              "      <th>sex</th>\n",
              "      <th>age</th>\n",
              "      <th>sibsp</th>\n",
              "      <th>parch</th>\n",
              "      <th>fare</th>\n",
              "      <th>port_C</th>\n",
              "      <th>port_Q</th>\n",
              "      <th>port_S</th>\n",
              "    </tr>\n",
              "  </thead>\n",
              "  <tbody>\n",
              "    <tr>\n",
              "      <th>406</th>\n",
              "      <td>2.0</td>\n",
              "      <td>0.0</td>\n",
              "      <td>40.0</td>\n",
              "      <td>1.0</td>\n",
              "      <td>0.0</td>\n",
              "      <td>26.000</td>\n",
              "      <td>0</td>\n",
              "      <td>0</td>\n",
              "      <td>1</td>\n",
              "    </tr>\n",
              "    <tr>\n",
              "      <th>44</th>\n",
              "      <td>1.0</td>\n",
              "      <td>1.0</td>\n",
              "      <td>41.0</td>\n",
              "      <td>0.0</td>\n",
              "      <td>0.0</td>\n",
              "      <td>134.500</td>\n",
              "      <td>1</td>\n",
              "      <td>0</td>\n",
              "      <td>0</td>\n",
              "    </tr>\n",
              "    <tr>\n",
              "      <th>1235</th>\n",
              "      <td>3.0</td>\n",
              "      <td>0.0</td>\n",
              "      <td>74.0</td>\n",
              "      <td>0.0</td>\n",
              "      <td>0.0</td>\n",
              "      <td>7.775</td>\n",
              "      <td>0</td>\n",
              "      <td>0</td>\n",
              "      <td>1</td>\n",
              "    </tr>\n",
              "    <tr>\n",
              "      <th>785</th>\n",
              "      <td>3.0</td>\n",
              "      <td>1.0</td>\n",
              "      <td>22.0</td>\n",
              "      <td>1.0</td>\n",
              "      <td>0.0</td>\n",
              "      <td>13.900</td>\n",
              "      <td>0</td>\n",
              "      <td>0</td>\n",
              "      <td>1</td>\n",
              "    </tr>\n",
              "    <tr>\n",
              "      <th>794</th>\n",
              "      <td>3.0</td>\n",
              "      <td>1.0</td>\n",
              "      <td>5.0</td>\n",
              "      <td>0.0</td>\n",
              "      <td>0.0</td>\n",
              "      <td>12.475</td>\n",
              "      <td>0</td>\n",
              "      <td>0</td>\n",
              "      <td>1</td>\n",
              "    </tr>\n",
              "  </tbody>\n",
              "</table>\n",
              "</div>\n",
              "      <button class=\"colab-df-convert\" onclick=\"convertToInteractive('df-bc7729ee-7b90-4110-bf17-ef82577a90d7')\"\n",
              "              title=\"Convert this dataframe to an interactive table.\"\n",
              "              style=\"display:none;\">\n",
              "        \n",
              "  <svg xmlns=\"http://www.w3.org/2000/svg\" height=\"24px\"viewBox=\"0 0 24 24\"\n",
              "       width=\"24px\">\n",
              "    <path d=\"M0 0h24v24H0V0z\" fill=\"none\"/>\n",
              "    <path d=\"M18.56 5.44l.94 2.06.94-2.06 2.06-.94-2.06-.94-.94-2.06-.94 2.06-2.06.94zm-11 1L8.5 8.5l.94-2.06 2.06-.94-2.06-.94L8.5 2.5l-.94 2.06-2.06.94zm10 10l.94 2.06.94-2.06 2.06-.94-2.06-.94-.94-2.06-.94 2.06-2.06.94z\"/><path d=\"M17.41 7.96l-1.37-1.37c-.4-.4-.92-.59-1.43-.59-.52 0-1.04.2-1.43.59L10.3 9.45l-7.72 7.72c-.78.78-.78 2.05 0 2.83L4 21.41c.39.39.9.59 1.41.59.51 0 1.02-.2 1.41-.59l7.78-7.78 2.81-2.81c.8-.78.8-2.07 0-2.86zM5.41 20L4 18.59l7.72-7.72 1.47 1.35L5.41 20z\"/>\n",
              "  </svg>\n",
              "      </button>\n",
              "      \n",
              "  <style>\n",
              "    .colab-df-container {\n",
              "      display:flex;\n",
              "      flex-wrap:wrap;\n",
              "      gap: 12px;\n",
              "    }\n",
              "\n",
              "    .colab-df-convert {\n",
              "      background-color: #E8F0FE;\n",
              "      border: none;\n",
              "      border-radius: 50%;\n",
              "      cursor: pointer;\n",
              "      display: none;\n",
              "      fill: #1967D2;\n",
              "      height: 32px;\n",
              "      padding: 0 0 0 0;\n",
              "      width: 32px;\n",
              "    }\n",
              "\n",
              "    .colab-df-convert:hover {\n",
              "      background-color: #E2EBFA;\n",
              "      box-shadow: 0px 1px 2px rgba(60, 64, 67, 0.3), 0px 1px 3px 1px rgba(60, 64, 67, 0.15);\n",
              "      fill: #174EA6;\n",
              "    }\n",
              "\n",
              "    [theme=dark] .colab-df-convert {\n",
              "      background-color: #3B4455;\n",
              "      fill: #D2E3FC;\n",
              "    }\n",
              "\n",
              "    [theme=dark] .colab-df-convert:hover {\n",
              "      background-color: #434B5C;\n",
              "      box-shadow: 0px 1px 3px 1px rgba(0, 0, 0, 0.15);\n",
              "      filter: drop-shadow(0px 1px 2px rgba(0, 0, 0, 0.3));\n",
              "      fill: #FFFFFF;\n",
              "    }\n",
              "  </style>\n",
              "\n",
              "      <script>\n",
              "        const buttonEl =\n",
              "          document.querySelector('#df-bc7729ee-7b90-4110-bf17-ef82577a90d7 button.colab-df-convert');\n",
              "        buttonEl.style.display =\n",
              "          google.colab.kernel.accessAllowed ? 'block' : 'none';\n",
              "\n",
              "        async function convertToInteractive(key) {\n",
              "          const element = document.querySelector('#df-bc7729ee-7b90-4110-bf17-ef82577a90d7');\n",
              "          const dataTable =\n",
              "            await google.colab.kernel.invokeFunction('convertToInteractive',\n",
              "                                                     [key], {});\n",
              "          if (!dataTable) return;\n",
              "\n",
              "          const docLinkHtml = 'Like what you see? Visit the ' +\n",
              "            '<a target=\"_blank\" href=https://colab.research.google.com/notebooks/data_table.ipynb>data table notebook</a>'\n",
              "            + ' to learn more about interactive tables.';\n",
              "          element.innerHTML = '';\n",
              "          dataTable['output_type'] = 'display_data';\n",
              "          await google.colab.output.renderOutput(dataTable, element);\n",
              "          const docLink = document.createElement('div');\n",
              "          docLink.innerHTML = docLinkHtml;\n",
              "          element.appendChild(docLink);\n",
              "        }\n",
              "      </script>\n",
              "    </div>\n",
              "  </div>\n",
              "  "
            ]
          },
          "metadata": {},
          "execution_count": 136
        }
      ]
    },
    {
      "cell_type": "markdown",
      "source": [
        "## Logistic Regression Model\n",
        "\n",
        "Define the [Logistic Regression](https://scikit-learn.org/stable/modules/generated/sklearn.linear_model.LogisticRegression.html?highlight=logisticregression) model and train it with the X_train, y_train data"
      ],
      "metadata": {
        "id": "VplNzds6JpR8"
      }
    },
    {
      "cell_type": "code",
      "source": [
        "model = LogisticRegression(max_iter=5000)\n",
        "model.fit(X_train, y_train)\n"
      ],
      "metadata": {
        "colab": {
          "base_uri": "https://localhost:8080/"
        },
        "id": "0ssbxK0tJkSa",
        "outputId": "26a8acad-6ae1-4f3e-ec12-62cfdf28cc7c"
      },
      "execution_count": null,
      "outputs": [
        {
          "output_type": "execute_result",
          "data": {
            "text/plain": [
              "LogisticRegression(max_iter=5000)"
            ]
          },
          "metadata": {},
          "execution_count": 137
        }
      ]
    },
    {
      "cell_type": "code",
      "source": [
        "p_predict = model.predict(X_test)\n",
        "\n",
        "print(\"The accuracy is\", round(accuracy_score(p_predict, y_test) * 100,2))\n"
      ],
      "metadata": {
        "colab": {
          "base_uri": "https://localhost:8080/"
        },
        "id": "TtrnotxkKNq3",
        "outputId": "1d31f5c9-b48a-496b-c5ac-64d3644336ce"
      },
      "execution_count": null,
      "outputs": [
        {
          "output_type": "stream",
          "name": "stdout",
          "text": [
            "The accuracy is 79.77\n"
          ]
        }
      ]
    },
    {
      "cell_type": "markdown",
      "source": [
        "## Model Performance Analysis\n",
        "\n",
        "We'll use two measures:\n",
        "\n",
        "* [Confusion Matrix](https://en.wikipedia.org/wiki/Confusion_matrix)\n",
        "* Classification Report with [Precision, Recall](https://en.wikipedia.org/wiki/Precision_and_recall) and [F1-Score](https://en.wikipedia.org/wiki/F-score).\n",
        "\n",
        "The confusion matrix is a table that is used to show the number of correct and incorrect predictions on a classification problem when the real values of the Test Set are known. It is of the format\n",
        "\n",
        "\\begin{bmatrix}\n",
        "TP & FP \\\\\n",
        "FN & TN\n",
        "\\end{bmatrix}\n",
        "\n",
        "where\n",
        "\n",
        "|  |  |\n",
        "| :-: | :-: |\n",
        "| TP=TruePositive\t| FP=FalsePositive |\n",
        "| FN=FalseNegative\t|  TN=TrueNegative |\n",
        "\n",
        "Functions called:\n",
        "* [pd.crosstab](https://pandas.pydata.org/pandas-docs/stable/reference/api/pandas.crosstab.html).Pandas compute a simple cross tabulation of two (or more) factors.\n",
        "* [sklearn.metrics.classification_report](https://scikit-learn.org/stable/modules/generated/sklearn.metrics.classification_report.html?highlight=classification_report#sklearn.metrics.classification_report). Builds a text report showing the main classification metrics.\n",
        "* [sklearn.metrics.LinearRegression:   predict_proba](https://scikit-learn.org/stable/modules/generated/sklearn.linear_model.LogisticRegression.html?highlight=predict_proba#sklearn.linear_model.LogisticRegression.predict_proba). Probability estimates.\n",
        "* [sklearn.metrics.roc_curve](https://scikit-learn.org/stable/modules/generated/sklearn.metrics.roc_curve.html?highlight=roc_curve). Compute Receiver operating characteristic (ROC) curve.\n",
        "* [sklearn.metrics.auc](https://scikit-learn.org/stable/modules/generated/sklearn.metrics.auc.html?highlight=roc_curve). Computes Area Under the Curve (AUC) using the trapezoidal rule."
      ],
      "metadata": {
        "id": "jvYmG9nSe_0X"
      }
    },
    {
      "cell_type": "code",
      "source": [
        "\n",
        "confusionMatrix = pd.crosstab(y_test, p_predict)\n",
        "classificationReport = classification_report(y_test, p_predict)\n",
        "\n",
        "\n",
        "fx = sns.heatmap(confusionMatrix, annot=True, cmap=\"Blues\", fmt=\"d\")\n",
        "fx.set_title(\"Confusion matrix\\n\\n\");\n",
        "fx.set_xlabel(\"\\nModel predicted values\")\n",
        "fx.set_ylabel(\"True values \")\n",
        "plt.show()\n",
        "\n",
        "\n",
        "print(f\"Classification Report\\n{classificationReport}\")\n"
      ],
      "metadata": {
        "colab": {
          "base_uri": "https://localhost:8080/",
          "height": 511
        },
        "id": "6YI97ZDzK6cV",
        "outputId": "69d715c1-b5ad-4c14-c099-563d63f1ace6"
      },
      "execution_count": null,
      "outputs": [
        {
          "output_type": "display_data",
          "data": {
            "text/plain": [
              "<Figure size 432x288 with 2 Axes>"
            ],
            "image/png": "[encoded data removed]"
          },
          "metadata": {
            "needs_background": "light"
          }
        },
        {
          "output_type": "stream",
          "name": "stdout",
          "text": [
            "Classification Report\n",
            "              precision    recall  f1-score   support\n",
            "\n",
            "         0.0       0.82      0.86      0.84       161\n",
            "         1.0       0.76      0.69      0.73       101\n",
            "\n",
            "    accuracy                           0.80       262\n",
            "   macro avg       0.79      0.78      0.78       262\n",
            "weighted avg       0.80      0.80      0.80       262\n",
            "\n"
          ]
        }
      ]
    },
    {
      "cell_type": "code",
      "source": [
        "y_pred_proba = model.predict_proba(X_test)[::,1]\n",
        "fpr, tpr, _ = metrics.roc_curve(y_test, p_predict)\n",
        "area = metrics.auc(fpr, tpr)\n",
        "plt.plot(fpr, tpr, color=\"darkorange\", lw=2, label=\"ROC curve (Area = %0.2f)\" % area,)\n",
        "plt.plot([0, 1], [0, 1], color=\"navy\", lw=2, linestyle=\"--\")\n",
        "plt.ylabel(\"True Positive Rate\")\n",
        "plt.xlabel(\"False Positive Rate\")\n",
        "plt.legend(loc=\"lower right\")\n",
        "plt.show()\n"
      ],
      "metadata": {
        "colab": {
          "base_uri": "https://localhost:8080/",
          "height": 280
        },
        "id": "aC1v0NbGcLe-",
        "outputId": "4b0c1da4-8dc2-4de5-8f2b-2250ae90a22f"
      },
      "execution_count": null,
      "outputs": [
        {
          "output_type": "display_data",
          "data": {
            "text/plain": [
              "<Figure size 432x288 with 1 Axes>"
            ],
            "image/png": "[encoded data removed]"
          },
          "metadata": {
            "needs_background": "light"
          }
        }
      ]
    },
    {
      "cell_type": "markdown",
      "source": [
        "### Feature importance\n",
        "\n",
        "It's possible to compute the dominance of each feature in the model.\n"
      ],
      "metadata": {
        "id": "CW1HOokIMCae"
      }
    },
    {
      "cell_type": "code",
      "source": [
        "from matplotlib import pyplot\n",
        "import numpy as np\n",
        "# get importance\n",
        "importance = model.coef_\n",
        "# summarize feature importance\n",
        "for j in range(0,importance.size):\n",
        "\t  #print('Feature: %0d, Score: %.5f' % (i,v))\n",
        "    print(j, importance.item(j))\n"
      ],
      "metadata": {
        "colab": {
          "base_uri": "https://localhost:8080/"
        },
        "id": "NNnx8XaRMBGe",
        "outputId": "9daeb29b-3453-4922-9ea9-a44d5cbdcc5b"
      },
      "execution_count": null,
      "outputs": [
        {
          "output_type": "stream",
          "name": "stdout",
          "text": [
            "0 -0.929469994794104\n",
            "1 2.493936454563933\n",
            "2 -0.03762150400116515\n",
            "3 -0.2775993752098934\n",
            "4 -0.05677710512467664\n",
            "5 0.0012450929782677667\n",
            "6 0.21058934673973986\n",
            "7 -0.11021782469890679\n",
            "8 -0.39382157992275335\n"
          ]
        }
      ]
    },
    {
      "cell_type": "code",
      "source": [
        "# Will create 2 variables x,y to make barplot.\n",
        "\n",
        "# The feature names are the column names of the X_train dataset\n",
        "x = []\n",
        "for i in X_train.columns:\n",
        "    x.append(i)\n",
        "\n",
        "ix = range(0, importance.size)\n",
        "y = []\n",
        "for i in ix:\n",
        "    y.append(importance.item(i))\n",
        "\n",
        "g = sns.barplot(x,y)\n",
        "g.set_title(\"Feature relevance in model\\n\\n\");\n",
        "g.set_xlabel(\"\\nFeature\")\n",
        "g.set_ylabel(\"Feature relevance value\")\n",
        "\n",
        "plt.show()\n"
      ],
      "metadata": {
        "colab": {
          "base_uri": "https://localhost:8080/",
          "height": 339
        },
        "id": "PSqgQo10PZip",
        "outputId": "9170dfc7-bf3c-4ab2-bb27-19d01ea178a2"
      },
      "execution_count": null,
      "outputs": [
        {
          "output_type": "display_data",
          "data": {
            "text/plain": [
              "<Figure size 432x288 with 1 Axes>"
            ],
            "image/png": "[encoded data removed]"
          },
          "metadata": {
            "needs_background": "light"
          }
        }
      ]
    },
    {
      "cell_type": "code",
      "source": [],
      "metadata": {
        "id": "8eVzGdYNphRq"
      },
      "execution_count": null,
      "outputs": []
    }
  ]
}