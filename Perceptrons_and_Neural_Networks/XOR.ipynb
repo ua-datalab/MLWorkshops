{
  "cells": [
    {
      "cell_type": "markdown",
      "metadata": {
        "id": "view-in-github",
        "colab_type": "text"
      },
      "source": [
        "<a href=\"https://colab.research.google.com/github/ua-datalab/MLWorkshops/blob/main/Perceptrons_and_Neural_Networks/XOR.ipynb\" target=\"_parent\"><img src=\"https://colab.research.google.com/assets/colab-badge.svg\" alt=\"Open In Colab\"/></a>"
      ]
    },
    {
      "cell_type": "markdown",
      "source": [
        "This material is reused from Sebastian Raschka's [Deep Learning Fundamentals](https://lightning.ai/courses/deep-learning-fundamentals/) course. It's excellent and if you want to dive further into programming your own models using Pytorch Lightning, I highly encourage you to check it out!"
      ],
      "metadata": {
        "id": "HGqNJOs37rhK"
      },
      "id": "HGqNJOs37rhK"
    },
    {
      "cell_type": "markdown",
      "id": "e5b48fc7-4f46-4d5a-8558-cd06892aaa27",
      "metadata": {
        "id": "e5b48fc7-4f46-4d5a-8558-cd06892aaa27"
      },
      "source": [
        "## 1) Installing Libraries"
      ]
    },
    {
      "cell_type": "code",
      "execution_count": 10,
      "id": "be1f5a9a-b3ee-424b-ab02-4371f49bd786",
      "metadata": {
        "id": "be1f5a9a-b3ee-424b-ab02-4371f49bd786"
      },
      "outputs": [],
      "source": [
        "# !conda install numpy pandas matplotlib scikit-learn --yes"
      ]
    },
    {
      "cell_type": "code",
      "execution_count": 11,
      "id": "1ea7b3b8-9092-4b37-8b7f-57362be611ad",
      "metadata": {
        "id": "1ea7b3b8-9092-4b37-8b7f-57362be611ad"
      },
      "outputs": [],
      "source": [
        "# !pip install torch torchvision torchaudio"
      ]
    },
    {
      "cell_type": "code",
      "execution_count": 12,
      "id": "79dd2077-ba5c-4ab5-95fc-6ee4d8a9f811",
      "metadata": {
        "id": "79dd2077-ba5c-4ab5-95fc-6ee4d8a9f811"
      },
      "outputs": [],
      "source": [
        "# !conda install watermark"
      ]
    },
    {
      "cell_type": "markdown",
      "id": "b9549676-2fa5-41a7-bbb9-ce03f5797c34",
      "metadata": {
        "id": "b9549676-2fa5-41a7-bbb9-ce03f5797c34"
      },
      "source": [
        "## 2) Loading the Dataset"
      ]
    },
    {
      "cell_type": "code",
      "execution_count": 13,
      "id": "f609024c-3eae-4ad5-8cb8-b95b403b7606",
      "metadata": {
        "colab": {
          "base_uri": "https://localhost:8080/",
          "height": 424
        },
        "id": "f609024c-3eae-4ad5-8cb8-b95b403b7606",
        "outputId": "901e5a16-fc71-4bfc-ef1d-b32f03aa46a8"
      },
      "outputs": [
        {
          "output_type": "execute_result",
          "data": {
            "text/plain": [
              "           x1        x2  class label\n",
              "0    0.781306  1.062984            0\n",
              "1   -1.060524 -1.095550            0\n",
              "2    0.632125  0.674028            0\n",
              "3   -1.424712  0.535203            1\n",
              "4    1.383161  1.368510            0\n",
              "..        ...       ...          ...\n",
              "745  0.792484  0.839275            0\n",
              "746  0.582466 -0.749250            1\n",
              "747 -1.593475  0.671721            1\n",
              "748 -0.812671 -0.268542            0\n",
              "749 -1.286524  0.655459            1\n",
              "\n",
              "[750 rows x 3 columns]"
            ],
            "text/html": [
              "\n",
              "  <div id=\"df-bb18200f-09e2-4dff-9cef-3297a62aa38c\" class=\"colab-df-container\">\n",
              "    <div>\n",
              "<style scoped>\n",
              "    .dataframe tbody tr th:only-of-type {\n",
              "        vertical-align: middle;\n",
              "    }\n",
              "\n",
              "    .dataframe tbody tr th {\n",
              "        vertical-align: top;\n",
              "    }\n",
              "\n",
              "    .dataframe thead th {\n",
              "        text-align: right;\n",
              "    }\n",
              "</style>\n",
              "<table border=\"1\" class=\"dataframe\">\n",
              "  <thead>\n",
              "    <tr style=\"text-align: right;\">\n",
              "      <th></th>\n",
              "      <th>x1</th>\n",
              "      <th>x2</th>\n",
              "      <th>class label</th>\n",
              "    </tr>\n",
              "  </thead>\n",
              "  <tbody>\n",
              "    <tr>\n",
              "      <th>0</th>\n",
              "      <td>0.781306</td>\n",
              "      <td>1.062984</td>\n",
              "      <td>0</td>\n",
              "    </tr>\n",
              "    <tr>\n",
              "      <th>1</th>\n",
              "      <td>-1.060524</td>\n",
              "      <td>-1.095550</td>\n",
              "      <td>0</td>\n",
              "    </tr>\n",
              "    <tr>\n",
              "      <th>2</th>\n",
              "      <td>0.632125</td>\n",
              "      <td>0.674028</td>\n",
              "      <td>0</td>\n",
              "    </tr>\n",
              "    <tr>\n",
              "      <th>3</th>\n",
              "      <td>-1.424712</td>\n",
              "      <td>0.535203</td>\n",
              "      <td>1</td>\n",
              "    </tr>\n",
              "    <tr>\n",
              "      <th>4</th>\n",
              "      <td>1.383161</td>\n",
              "      <td>1.368510</td>\n",
              "      <td>0</td>\n",
              "    </tr>\n",
              "    <tr>\n",
              "      <th>...</th>\n",
              "      <td>...</td>\n",
              "      <td>...</td>\n",
              "      <td>...</td>\n",
              "    </tr>\n",
              "    <tr>\n",
              "      <th>745</th>\n",
              "      <td>0.792484</td>\n",
              "      <td>0.839275</td>\n",
              "      <td>0</td>\n",
              "    </tr>\n",
              "    <tr>\n",
              "      <th>746</th>\n",
              "      <td>0.582466</td>\n",
              "      <td>-0.749250</td>\n",
              "      <td>1</td>\n",
              "    </tr>\n",
              "    <tr>\n",
              "      <th>747</th>\n",
              "      <td>-1.593475</td>\n",
              "      <td>0.671721</td>\n",
              "      <td>1</td>\n",
              "    </tr>\n",
              "    <tr>\n",
              "      <th>748</th>\n",
              "      <td>-0.812671</td>\n",
              "      <td>-0.268542</td>\n",
              "      <td>0</td>\n",
              "    </tr>\n",
              "    <tr>\n",
              "      <th>749</th>\n",
              "      <td>-1.286524</td>\n",
              "      <td>0.655459</td>\n",
              "      <td>1</td>\n",
              "    </tr>\n",
              "  </tbody>\n",
              "</table>\n",
              "<p>750 rows × 3 columns</p>\n",
              "</div>\n",
              "    <div class=\"colab-df-buttons\">\n",
              "\n",
              "  <div class=\"colab-df-container\">\n",
              "    <button class=\"colab-df-convert\" onclick=\"convertToInteractive('df-bb18200f-09e2-4dff-9cef-3297a62aa38c')\"\n",
              "            title=\"Convert this dataframe to an interactive table.\"\n",
              "            style=\"display:none;\">\n",
              "\n",
              "  <svg xmlns=\"http://www.w3.org/2000/svg\" height=\"24px\" viewBox=\"0 -960 960 960\">\n",
              "    <path d=\"M120-120v-720h720v720H120Zm60-500h600v-160H180v160Zm220 220h160v-160H400v160Zm0 220h160v-160H400v160ZM180-400h160v-160H180v160Zm440 0h160v-160H620v160ZM180-180h160v-160H180v160Zm440 0h160v-160H620v160Z\"/>\n",
              "  </svg>\n",
              "    </button>\n",
              "\n",
              "  <style>\n",
              "    .colab-df-container {\n",
              "      display:flex;\n",
              "      gap: 12px;\n",
              "    }\n",
              "\n",
              "    .colab-df-convert {\n",
              "      background-color: #E8F0FE;\n",
              "      border: none;\n",
              "      border-radius: 50%;\n",
              "      cursor: pointer;\n",
              "      display: none;\n",
              "      fill: #1967D2;\n",
              "      height: 32px;\n",
              "      padding: 0 0 0 0;\n",
              "      width: 32px;\n",
              "    }\n",
              "\n",
              "    .colab-df-convert:hover {\n",
              "      background-color: #E2EBFA;\n",
              "      box-shadow: 0px 1px 2px rgba(60, 64, 67, 0.3), 0px 1px 3px 1px rgba(60, 64, 67, 0.15);\n",
              "      fill: #174EA6;\n",
              "    }\n",
              "\n",
              "    .colab-df-buttons div {\n",
              "      margin-bottom: 4px;\n",
              "    }\n",
              "\n",
              "    [theme=dark] .colab-df-convert {\n",
              "      background-color: #3B4455;\n",
              "      fill: #D2E3FC;\n",
              "    }\n",
              "\n",
              "    [theme=dark] .colab-df-convert:hover {\n",
              "      background-color: #434B5C;\n",
              "      box-shadow: 0px 1px 3px 1px rgba(0, 0, 0, 0.15);\n",
              "      filter: drop-shadow(0px 1px 2px rgba(0, 0, 0, 0.3));\n",
              "      fill: #FFFFFF;\n",
              "    }\n",
              "  </style>\n",
              "\n",
              "    <script>\n",
              "      const buttonEl =\n",
              "        document.querySelector('#df-bb18200f-09e2-4dff-9cef-3297a62aa38c button.colab-df-convert');\n",
              "      buttonEl.style.display =\n",
              "        google.colab.kernel.accessAllowed ? 'block' : 'none';\n",
              "\n",
              "      async function convertToInteractive(key) {\n",
              "        const element = document.querySelector('#df-bb18200f-09e2-4dff-9cef-3297a62aa38c');\n",
              "        const dataTable =\n",
              "          await google.colab.kernel.invokeFunction('convertToInteractive',\n",
              "                                                    [key], {});\n",
              "        if (!dataTable) return;\n",
              "\n",
              "        const docLinkHtml = 'Like what you see? Visit the ' +\n",
              "          '<a target=\"_blank\" href=https://colab.research.google.com/notebooks/data_table.ipynb>data table notebook</a>'\n",
              "          + ' to learn more about interactive tables.';\n",
              "        element.innerHTML = '';\n",
              "        dataTable['output_type'] = 'display_data';\n",
              "        await google.colab.output.renderOutput(dataTable, element);\n",
              "        const docLink = document.createElement('div');\n",
              "        docLink.innerHTML = docLinkHtml;\n",
              "        element.appendChild(docLink);\n",
              "      }\n",
              "    </script>\n",
              "  </div>\n",
              "\n",
              "\n",
              "<div id=\"df-f1b7bad7-840c-43ae-93c8-017b235e5bac\">\n",
              "  <button class=\"colab-df-quickchart\" onclick=\"quickchart('df-f1b7bad7-840c-43ae-93c8-017b235e5bac')\"\n",
              "            title=\"Suggest charts\"\n",
              "            style=\"display:none;\">\n",
              "\n",
              "<svg xmlns=\"http://www.w3.org/2000/svg\" height=\"24px\"viewBox=\"0 0 24 24\"\n",
              "     width=\"24px\">\n",
              "    <g>\n",
              "        <path d=\"M19 3H5c-1.1 0-2 .9-2 2v14c0 1.1.9 2 2 2h14c1.1 0 2-.9 2-2V5c0-1.1-.9-2-2-2zM9 17H7v-7h2v7zm4 0h-2V7h2v10zm4 0h-2v-4h2v4z\"/>\n",
              "    </g>\n",
              "</svg>\n",
              "  </button>\n",
              "\n",
              "<style>\n",
              "  .colab-df-quickchart {\n",
              "      --bg-color: #E8F0FE;\n",
              "      --fill-color: #1967D2;\n",
              "      --hover-bg-color: #E2EBFA;\n",
              "      --hover-fill-color: #174EA6;\n",
              "      --disabled-fill-color: #AAA;\n",
              "      --disabled-bg-color: #DDD;\n",
              "  }\n",
              "\n",
              "  [theme=dark] .colab-df-quickchart {\n",
              "      --bg-color: #3B4455;\n",
              "      --fill-color: #D2E3FC;\n",
              "      --hover-bg-color: #434B5C;\n",
              "      --hover-fill-color: #FFFFFF;\n",
              "      --disabled-bg-color: #3B4455;\n",
              "      --disabled-fill-color: #666;\n",
              "  }\n",
              "\n",
              "  .colab-df-quickchart {\n",
              "    background-color: var(--bg-color);\n",
              "    border: none;\n",
              "    border-radius: 50%;\n",
              "    cursor: pointer;\n",
              "    display: none;\n",
              "    fill: var(--fill-color);\n",
              "    height: 32px;\n",
              "    padding: 0;\n",
              "    width: 32px;\n",
              "  }\n",
              "\n",
              "  .colab-df-quickchart:hover {\n",
              "    background-color: var(--hover-bg-color);\n",
              "    box-shadow: 0 1px 2px rgba(60, 64, 67, 0.3), 0 1px 3px 1px rgba(60, 64, 67, 0.15);\n",
              "    fill: var(--button-hover-fill-color);\n",
              "  }\n",
              "\n",
              "  .colab-df-quickchart-complete:disabled,\n",
              "  .colab-df-quickchart-complete:disabled:hover {\n",
              "    background-color: var(--disabled-bg-color);\n",
              "    fill: var(--disabled-fill-color);\n",
              "    box-shadow: none;\n",
              "  }\n",
              "\n",
              "  .colab-df-spinner {\n",
              "    border: 2px solid var(--fill-color);\n",
              "    border-color: transparent;\n",
              "    border-bottom-color: var(--fill-color);\n",
              "    animation:\n",
              "      spin 1s steps(1) infinite;\n",
              "  }\n",
              "\n",
              "  @keyframes spin {\n",
              "    0% {\n",
              "      border-color: transparent;\n",
              "      border-bottom-color: var(--fill-color);\n",
              "      border-left-color: var(--fill-color);\n",
              "    }\n",
              "    20% {\n",
              "      border-color: transparent;\n",
              "      border-left-color: var(--fill-color);\n",
              "      border-top-color: var(--fill-color);\n",
              "    }\n",
              "    30% {\n",
              "      border-color: transparent;\n",
              "      border-left-color: var(--fill-color);\n",
              "      border-top-color: var(--fill-color);\n",
              "      border-right-color: var(--fill-color);\n",
              "    }\n",
              "    40% {\n",
              "      border-color: transparent;\n",
              "      border-right-color: var(--fill-color);\n",
              "      border-top-color: var(--fill-color);\n",
              "    }\n",
              "    60% {\n",
              "      border-color: transparent;\n",
              "      border-right-color: var(--fill-color);\n",
              "    }\n",
              "    80% {\n",
              "      border-color: transparent;\n",
              "      border-right-color: var(--fill-color);\n",
              "      border-bottom-color: var(--fill-color);\n",
              "    }\n",
              "    90% {\n",
              "      border-color: transparent;\n",
              "      border-bottom-color: var(--fill-color);\n",
              "    }\n",
              "  }\n",
              "</style>\n",
              "\n",
              "  <script>\n",
              "    async function quickchart(key) {\n",
              "      const quickchartButtonEl =\n",
              "        document.querySelector('#' + key + ' button');\n",
              "      quickchartButtonEl.disabled = true;  // To prevent multiple clicks.\n",
              "      quickchartButtonEl.classList.add('colab-df-spinner');\n",
              "      try {\n",
              "        const charts = await google.colab.kernel.invokeFunction(\n",
              "            'suggestCharts', [key], {});\n",
              "      } catch (error) {\n",
              "        console.error('Error during call to suggestCharts:', error);\n",
              "      }\n",
              "      quickchartButtonEl.classList.remove('colab-df-spinner');\n",
              "      quickchartButtonEl.classList.add('colab-df-quickchart-complete');\n",
              "    }\n",
              "    (() => {\n",
              "      let quickchartButtonEl =\n",
              "        document.querySelector('#df-f1b7bad7-840c-43ae-93c8-017b235e5bac button');\n",
              "      quickchartButtonEl.style.display =\n",
              "        google.colab.kernel.accessAllowed ? 'block' : 'none';\n",
              "    })();\n",
              "  </script>\n",
              "</div>\n",
              "    </div>\n",
              "  </div>\n"
            ],
            "application/vnd.google.colaboratory.intrinsic+json": {
              "type": "dataframe",
              "variable_name": "df",
              "summary": "{\n  \"name\": \"df\",\n  \"rows\": 750,\n  \"fields\": [\n    {\n      \"column\": \"x1\",\n      \"properties\": {\n        \"dtype\": \"number\",\n        \"std\": 1.000667334074939,\n        \"min\": -2.0235498822735885,\n        \"max\": 2.0998455806563,\n        \"num_unique_values\": 750,\n        \"samples\": [\n          -1.208905982297131,\n          -0.6008273870980045,\n          -1.2711241426977602\n        ],\n        \"semantic_type\": \"\",\n        \"description\": \"\"\n      }\n    },\n    {\n      \"column\": \"x2\",\n      \"properties\": {\n        \"dtype\": \"number\",\n        \"std\": 1.0006673340749392,\n        \"min\": -2.0263993237880324,\n        \"max\": 1.897302991873337,\n        \"num_unique_values\": 750,\n        \"samples\": [\n          -0.5064186009978574,\n          -0.4893629767701926,\n          0.4321712475403908\n        ],\n        \"semantic_type\": \"\",\n        \"description\": \"\"\n      }\n    },\n    {\n      \"column\": \"class label\",\n      \"properties\": {\n        \"dtype\": \"number\",\n        \"std\": 0,\n        \"min\": 0,\n        \"max\": 1,\n        \"num_unique_values\": 2,\n        \"samples\": [\n          1,\n          0\n        ],\n        \"semantic_type\": \"\",\n        \"description\": \"\"\n      }\n    }\n  ]\n}"
            }
          },
          "metadata": {},
          "execution_count": 13
        }
      ],
      "source": [
        "import pandas as pd\n",
        "\n",
        "url = 'https://raw.githubusercontent.com/ua-datalab/MLWorkshops/main/Perceptrons_and_Neural_Networks/xor.csv'\n",
        "df = pd.read_csv(url)\n",
        "df"
      ]
    },
    {
      "cell_type": "code",
      "execution_count": 14,
      "id": "a2b2d00f-53d8-4a08-87ec-20ab6bdb9969",
      "metadata": {
        "id": "a2b2d00f-53d8-4a08-87ec-20ab6bdb9969"
      },
      "outputs": [],
      "source": [
        "# !pip install scikit-learn"
      ]
    },
    {
      "cell_type": "code",
      "execution_count": 15,
      "id": "319546d0-e9ed-4542-873e-395edc05ef2f",
      "metadata": {
        "id": "319546d0-e9ed-4542-873e-395edc05ef2f"
      },
      "outputs": [],
      "source": [
        "X = df[[\"x1\", \"x2\"]].values\n",
        "y = df[\"class label\"].values"
      ]
    },
    {
      "cell_type": "code",
      "execution_count": 16,
      "id": "643881b3-ed73-49ae-9421-8c8a3e3979f6",
      "metadata": {
        "id": "643881b3-ed73-49ae-9421-8c8a3e3979f6"
      },
      "outputs": [],
      "source": [
        "from sklearn.model_selection import train_test_split\n",
        "\n",
        "X_train, X_test, y_train, y_test = train_test_split(\n",
        "        X, y, test_size=0.15, random_state=1, stratify=y)\n",
        "\n",
        "X_train, X_val, y_train, y_val = train_test_split(\n",
        "        X_train, y_train, test_size=0.1, random_state=1, stratify=y_train)"
      ]
    },
    {
      "cell_type": "code",
      "execution_count": 17,
      "id": "71792068-9926-41bb-81c0-2a46f6e956fc",
      "metadata": {
        "colab": {
          "base_uri": "https://localhost:8080/"
        },
        "id": "71792068-9926-41bb-81c0-2a46f6e956fc",
        "outputId": "3ad13b29-c669-4604-dbbb-ce5464a20134"
      },
      "outputs": [
        {
          "output_type": "stream",
          "name": "stdout",
          "text": [
            "Training size: (573, 2)\n",
            "Validation size : (64, 2)\n",
            "Test size:  (113, 2)\n"
          ]
        }
      ],
      "source": [
        "print(\"Training size:\", X_train.shape)\n",
        "print(\"Validation size :\", X_val.shape)\n",
        "print(\"Test size: \", X_test.shape)"
      ]
    },
    {
      "cell_type": "code",
      "execution_count": 18,
      "id": "b6800df4-98f6-401e-bb6c-9964c3b6e3cb",
      "metadata": {
        "colab": {
          "base_uri": "https://localhost:8080/"
        },
        "id": "b6800df4-98f6-401e-bb6c-9964c3b6e3cb",
        "outputId": "7d5458e7-b5c5-45e4-8f93-c6dda6f0ba81"
      },
      "outputs": [
        {
          "output_type": "stream",
          "name": "stdout",
          "text": [
            "Training labels: [287 286]\n",
            "Validation labels: [32 32]\n",
            "Test labels: [57 56]\n"
          ]
        }
      ],
      "source": [
        "import numpy as np\n",
        "\n",
        "print(\"Training labels:\", np.bincount(y_train))\n",
        "print(\"Validation labels:\", np.bincount(y_val))\n",
        "print(\"Test labels:\", np.bincount(y_test))"
      ]
    },
    {
      "cell_type": "markdown",
      "id": "fc4663a6-e8a7-472e-b9b0-c64f546a85e9",
      "metadata": {
        "id": "fc4663a6-e8a7-472e-b9b0-c64f546a85e9"
      },
      "source": [
        "## 3) Visualizing the dataset"
      ]
    },
    {
      "cell_type": "code",
      "execution_count": 19,
      "id": "36a879c3-0c84-4476-a79a-f41d897c696a",
      "metadata": {
        "id": "36a879c3-0c84-4476-a79a-f41d897c696a"
      },
      "outputs": [],
      "source": [
        "%matplotlib inline\n",
        "import matplotlib.pyplot as plt"
      ]
    },
    {
      "cell_type": "code",
      "execution_count": 20,
      "id": "bd31bb2e-5699-43d4-8874-38e9307ce853",
      "metadata": {
        "colab": {
          "base_uri": "https://localhost:8080/",
          "height": 455
        },
        "id": "bd31bb2e-5699-43d4-8874-38e9307ce853",
        "outputId": "af02bc81-4ee7-48a3-89c1-8afa2c68c3ed"
      },
      "outputs": [
        {
          "output_type": "display_data",
          "data": {
            "text/plain": [
              "<Figure size 640x480 with 1 Axes>"
            ],
            "image/png": "[encoded data removed]"
          },
          "metadata": {}
        }
      ],
      "source": [
        "plt.plot(\n",
        "    X_train[y_train == 0, 0],\n",
        "    X_train[y_train == 0, 1],\n",
        "    marker=\"D\",\n",
        "    markersize=10,\n",
        "    linestyle=\"\",\n",
        "    label=\"Class 0\",\n",
        ")\n",
        "\n",
        "plt.plot(\n",
        "    X_train[y_train == 1, 0],\n",
        "    X_train[y_train == 1, 1],\n",
        "    marker=\"^\",\n",
        "    markersize=13,\n",
        "    linestyle=\"\",\n",
        "    label=\"Class 1\",\n",
        ")\n",
        "\n",
        "plt.legend(loc=2)\n",
        "\n",
        "plt.xlim([-5, 5])\n",
        "plt.ylim([-5, 5])\n",
        "\n",
        "plt.xlabel(\"Feature $x_1$\", fontsize=12)\n",
        "plt.ylabel(\"Feature $x_2$\", fontsize=12)\n",
        "\n",
        "plt.grid()\n",
        "plt.show()"
      ]
    },
    {
      "cell_type": "markdown",
      "id": "db50db02-3696-4f86-b149-74baabeec6c4",
      "metadata": {
        "id": "db50db02-3696-4f86-b149-74baabeec6c4"
      },
      "source": [
        "## 4) Implementing the model"
      ]
    },
    {
      "cell_type": "markdown",
      "source": [
        "Note that we are using the Linear and ReLU layer implementations that Pytorch provides, rather than writing out own."
      ],
      "metadata": {
        "id": "RjHBnGo88jDP"
      },
      "id": "RjHBnGo88jDP"
    },
    {
      "cell_type": "code",
      "execution_count": 21,
      "id": "971389a7-5424-4141-a3ee-9399eebbbb6a",
      "metadata": {
        "id": "971389a7-5424-4141-a3ee-9399eebbbb6a"
      },
      "outputs": [],
      "source": [
        "import torch\n",
        "\n",
        "\n",
        "class PyTorchMLP(torch.nn.Module):\n",
        "    def __init__(self, num_features, num_classes):\n",
        "        super().__init__()\n",
        "\n",
        "        self.all_layers = torch.nn.Sequential(\n",
        "\n",
        "            # 1st hidden layer\n",
        "            torch.nn.Linear(num_features, 25),\n",
        "            torch.nn.ReLU(),\n",
        "\n",
        "            # 2nd hidden layer\n",
        "            torch.nn.Linear(25, 15),\n",
        "            torch.nn.ReLU(),\n",
        "\n",
        "            # output layer\n",
        "            torch.nn.Linear(15, num_classes),\n",
        "        )\n",
        "\n",
        "    def forward(self, x):\n",
        "        logits = self.all_layers(x)\n",
        "        return logits"
      ]
    },
    {
      "cell_type": "markdown",
      "id": "12068721-daf9-4ea1-9240-5bcc19c75ce9",
      "metadata": {
        "id": "12068721-daf9-4ea1-9240-5bcc19c75ce9"
      },
      "source": [
        "## 5) Defining a DataLoader"
      ]
    },
    {
      "cell_type": "markdown",
      "source": [
        "We will not focus on this too much. Generally, DataLoaders wrap an iterable around a Dataset and manage access to the training, validation, and test samples."
      ],
      "metadata": {
        "id": "D2TeMFu98rBL"
      },
      "id": "D2TeMFu98rBL"
    },
    {
      "cell_type": "code",
      "execution_count": 22,
      "id": "f6376d80-e7cf-43b4-96eb-bfd99709b63a",
      "metadata": {
        "id": "f6376d80-e7cf-43b4-96eb-bfd99709b63a"
      },
      "outputs": [],
      "source": [
        "from torch.utils.data import Dataset, DataLoader\n",
        "\n",
        "\n",
        "class MyDataset(Dataset):\n",
        "    def __init__(self, X, y):\n",
        "\n",
        "        self.features = torch.tensor(X, dtype=torch.float32)\n",
        "        self.labels = torch.tensor(y, dtype=torch.int64)\n",
        "\n",
        "    def __getitem__(self, index):\n",
        "        x = self.features[index]\n",
        "        y = self.labels[index]\n",
        "        return x, y\n",
        "\n",
        "    def __len__(self):\n",
        "        return self.labels.shape[0]\n",
        "\n",
        "\n",
        "train_ds = MyDataset(X_train, y_train)\n",
        "val_ds = MyDataset(X_val, y_val)\n",
        "test_ds = MyDataset(X_test, y_test)\n",
        "\n",
        "train_loader = DataLoader(\n",
        "    dataset=train_ds,\n",
        "    batch_size=32,\n",
        "    shuffle=True,\n",
        ")\n",
        "\n",
        "val_loader = DataLoader(\n",
        "    dataset=val_ds,\n",
        "    batch_size=32,\n",
        "    shuffle=False,\n",
        ")\n",
        "\n",
        "test_loader = DataLoader(\n",
        "    dataset=test_ds,\n",
        "    batch_size=32,\n",
        "    shuffle=False,\n",
        ")"
      ]
    },
    {
      "cell_type": "markdown",
      "id": "46bc16a0-ec59-4c54-a209-0a5e22406287",
      "metadata": {
        "id": "46bc16a0-ec59-4c54-a209-0a5e22406287"
      },
      "source": [
        "## 6) The training loop"
      ]
    },
    {
      "cell_type": "code",
      "execution_count": 23,
      "id": "8de213fc-48b0-4f7c-af9e-8e2da068e351",
      "metadata": {
        "id": "8de213fc-48b0-4f7c-af9e-8e2da068e351"
      },
      "outputs": [],
      "source": [
        "def compute_accuracy(model, dataloader):\n",
        "\n",
        "    # Puts the model into 'evaluation' mode, rather than training mode\n",
        "    model = model.eval()\n",
        "\n",
        "    correct = 0.0\n",
        "    total_examples = 0\n",
        "\n",
        "    for idx, (features, labels) in enumerate(dataloader):\n",
        "\n",
        "        # does not calculate the gradient, update the parameters\n",
        "        with torch.inference_mode(): # basically the same as torch.no_grad\n",
        "            logits = model(features)\n",
        "\n",
        "        predictions = torch.argmax(logits, dim=1)\n",
        "\n",
        "        compare = labels == predictions\n",
        "        correct += torch.sum(compare)\n",
        "        total_examples += len(compare)\n",
        "\n",
        "    return correct / total_examples"
      ]
    },
    {
      "cell_type": "markdown",
      "id": "c0dcad3f-5d86-470a-b332-0afe58b4df1f",
      "metadata": {
        "id": "c0dcad3f-5d86-470a-b332-0afe58b4df1f"
      },
      "source": [
        "**Training loop**\n",
        "\n",
        "- Note that F.cross_entropy takes `logits` as inputs, not probabilities\n",
        "  - it does the one-hot encoding and softmax internally"
      ]
    },
    {
      "cell_type": "code",
      "execution_count": 24,
      "id": "3dcaa2b1-4019-4128-9ff5-6a966c3abdf2",
      "metadata": {
        "colab": {
          "base_uri": "https://localhost:8080/"
        },
        "id": "3dcaa2b1-4019-4128-9ff5-6a966c3abdf2",
        "outputId": "fc3174ff-ed2f-439a-851d-83662d7450d7"
      },
      "outputs": [
        {
          "output_type": "stream",
          "name": "stdout",
          "text": [
            "Epoch: 001/010 | Batch 000/018 | Train/Val Loss: 0.68\n",
            "Epoch: 001/010 | Batch 001/018 | Train/Val Loss: 0.69\n",
            "Epoch: 001/010 | Batch 002/018 | Train/Val Loss: 0.68\n",
            "Epoch: 001/010 | Batch 003/018 | Train/Val Loss: 0.67\n",
            "Epoch: 001/010 | Batch 004/018 | Train/Val Loss: 0.69\n",
            "Epoch: 001/010 | Batch 005/018 | Train/Val Loss: 0.68\n",
            "Epoch: 001/010 | Batch 006/018 | Train/Val Loss: 0.66\n",
            "Epoch: 001/010 | Batch 007/018 | Train/Val Loss: 0.68\n",
            "Epoch: 001/010 | Batch 008/018 | Train/Val Loss: 0.67\n",
            "Epoch: 001/010 | Batch 009/018 | Train/Val Loss: 0.68\n",
            "Epoch: 001/010 | Batch 010/018 | Train/Val Loss: 0.66\n",
            "Epoch: 001/010 | Batch 011/018 | Train/Val Loss: 0.65\n",
            "Epoch: 001/010 | Batch 012/018 | Train/Val Loss: 0.67\n",
            "Epoch: 001/010 | Batch 013/018 | Train/Val Loss: 0.67\n",
            "Epoch: 001/010 | Batch 014/018 | Train/Val Loss: 0.65\n",
            "Epoch: 001/010 | Batch 015/018 | Train/Val Loss: 0.67\n",
            "Epoch: 001/010 | Batch 016/018 | Train/Val Loss: 0.67\n",
            "Epoch: 001/010 | Batch 017/018 | Train/Val Loss: 0.65\n",
            "Train Acc 68.41% | Val Acc 65.62%\n",
            "Epoch: 002/010 | Batch 000/018 | Train/Val Loss: 0.66\n",
            "Epoch: 002/010 | Batch 001/018 | Train/Val Loss: 0.66\n",
            "Epoch: 002/010 | Batch 002/018 | Train/Val Loss: 0.66\n",
            "Epoch: 002/010 | Batch 003/018 | Train/Val Loss: 0.65\n",
            "Epoch: 002/010 | Batch 004/018 | Train/Val Loss: 0.66\n",
            "Epoch: 002/010 | Batch 005/018 | Train/Val Loss: 0.65\n",
            "Epoch: 002/010 | Batch 006/018 | Train/Val Loss: 0.63\n",
            "Epoch: 002/010 | Batch 007/018 | Train/Val Loss: 0.65\n",
            "Epoch: 002/010 | Batch 008/018 | Train/Val Loss: 0.66\n",
            "Epoch: 002/010 | Batch 009/018 | Train/Val Loss: 0.66\n",
            "Epoch: 002/010 | Batch 010/018 | Train/Val Loss: 0.66\n",
            "Epoch: 002/010 | Batch 011/018 | Train/Val Loss: 0.63\n",
            "Epoch: 002/010 | Batch 012/018 | Train/Val Loss: 0.64\n",
            "Epoch: 002/010 | Batch 013/018 | Train/Val Loss: 0.64\n",
            "Epoch: 002/010 | Batch 014/018 | Train/Val Loss: 0.65\n",
            "Epoch: 002/010 | Batch 015/018 | Train/Val Loss: 0.63\n",
            "Epoch: 002/010 | Batch 016/018 | Train/Val Loss: 0.63\n",
            "Epoch: 002/010 | Batch 017/018 | Train/Val Loss: 0.62\n",
            "Train Acc 81.50% | Val Acc 73.44%\n",
            "Epoch: 003/010 | Batch 000/018 | Train/Val Loss: 0.64\n",
            "Epoch: 003/010 | Batch 001/018 | Train/Val Loss: 0.63\n",
            "Epoch: 003/010 | Batch 002/018 | Train/Val Loss: 0.63\n",
            "Epoch: 003/010 | Batch 003/018 | Train/Val Loss: 0.64\n",
            "Epoch: 003/010 | Batch 004/018 | Train/Val Loss: 0.62\n",
            "Epoch: 003/010 | Batch 005/018 | Train/Val Loss: 0.61\n",
            "Epoch: 003/010 | Batch 006/018 | Train/Val Loss: 0.61\n",
            "Epoch: 003/010 | Batch 007/018 | Train/Val Loss: 0.64\n",
            "Epoch: 003/010 | Batch 008/018 | Train/Val Loss: 0.62\n",
            "Epoch: 003/010 | Batch 009/018 | Train/Val Loss: 0.61\n",
            "Epoch: 003/010 | Batch 010/018 | Train/Val Loss: 0.61\n",
            "Epoch: 003/010 | Batch 011/018 | Train/Val Loss: 0.61\n",
            "Epoch: 003/010 | Batch 012/018 | Train/Val Loss: 0.62\n",
            "Epoch: 003/010 | Batch 013/018 | Train/Val Loss: 0.60\n",
            "Epoch: 003/010 | Batch 014/018 | Train/Val Loss: 0.62\n",
            "Epoch: 003/010 | Batch 015/018 | Train/Val Loss: 0.61\n",
            "Epoch: 003/010 | Batch 016/018 | Train/Val Loss: 0.60\n",
            "Epoch: 003/010 | Batch 017/018 | Train/Val Loss: 0.59\n",
            "Train Acc 89.88% | Val Acc 90.62%\n",
            "Epoch: 004/010 | Batch 000/018 | Train/Val Loss: 0.59\n",
            "Epoch: 004/010 | Batch 001/018 | Train/Val Loss: 0.59\n",
            "Epoch: 004/010 | Batch 002/018 | Train/Val Loss: 0.58\n",
            "Epoch: 004/010 | Batch 003/018 | Train/Val Loss: 0.59\n",
            "Epoch: 004/010 | Batch 004/018 | Train/Val Loss: 0.59\n",
            "Epoch: 004/010 | Batch 005/018 | Train/Val Loss: 0.57\n",
            "Epoch: 004/010 | Batch 006/018 | Train/Val Loss: 0.55\n",
            "Epoch: 004/010 | Batch 007/018 | Train/Val Loss: 0.60\n",
            "Epoch: 004/010 | Batch 008/018 | Train/Val Loss: 0.59\n",
            "Epoch: 004/010 | Batch 009/018 | Train/Val Loss: 0.57\n",
            "Epoch: 004/010 | Batch 010/018 | Train/Val Loss: 0.57\n",
            "Epoch: 004/010 | Batch 011/018 | Train/Val Loss: 0.56\n",
            "Epoch: 004/010 | Batch 012/018 | Train/Val Loss: 0.58\n",
            "Epoch: 004/010 | Batch 013/018 | Train/Val Loss: 0.58\n",
            "Epoch: 004/010 | Batch 014/018 | Train/Val Loss: 0.56\n",
            "Epoch: 004/010 | Batch 015/018 | Train/Val Loss: 0.57\n",
            "Epoch: 004/010 | Batch 016/018 | Train/Val Loss: 0.54\n",
            "Epoch: 004/010 | Batch 017/018 | Train/Val Loss: 0.57\n",
            "Train Acc 93.19% | Val Acc 90.62%\n",
            "Epoch: 005/010 | Batch 000/018 | Train/Val Loss: 0.56\n",
            "Epoch: 005/010 | Batch 001/018 | Train/Val Loss: 0.56\n",
            "Epoch: 005/010 | Batch 002/018 | Train/Val Loss: 0.54\n",
            "Epoch: 005/010 | Batch 003/018 | Train/Val Loss: 0.54\n",
            "Epoch: 005/010 | Batch 004/018 | Train/Val Loss: 0.52\n",
            "Epoch: 005/010 | Batch 005/018 | Train/Val Loss: 0.54\n",
            "Epoch: 005/010 | Batch 006/018 | Train/Val Loss: 0.53\n",
            "Epoch: 005/010 | Batch 007/018 | Train/Val Loss: 0.50\n",
            "Epoch: 005/010 | Batch 008/018 | Train/Val Loss: 0.54\n",
            "Epoch: 005/010 | Batch 009/018 | Train/Val Loss: 0.52\n",
            "Epoch: 005/010 | Batch 010/018 | Train/Val Loss: 0.50\n",
            "Epoch: 005/010 | Batch 011/018 | Train/Val Loss: 0.54\n",
            "Epoch: 005/010 | Batch 012/018 | Train/Val Loss: 0.48\n",
            "Epoch: 005/010 | Batch 013/018 | Train/Val Loss: 0.53\n",
            "Epoch: 005/010 | Batch 014/018 | Train/Val Loss: 0.50\n",
            "Epoch: 005/010 | Batch 015/018 | Train/Val Loss: 0.48\n",
            "Epoch: 005/010 | Batch 016/018 | Train/Val Loss: 0.49\n",
            "Epoch: 005/010 | Batch 017/018 | Train/Val Loss: 0.51\n",
            "Train Acc 95.29% | Val Acc 92.19%\n",
            "Epoch: 006/010 | Batch 000/018 | Train/Val Loss: 0.47\n",
            "Epoch: 006/010 | Batch 001/018 | Train/Val Loss: 0.50\n",
            "Epoch: 006/010 | Batch 002/018 | Train/Val Loss: 0.51\n",
            "Epoch: 006/010 | Batch 003/018 | Train/Val Loss: 0.48\n",
            "Epoch: 006/010 | Batch 004/018 | Train/Val Loss: 0.43\n",
            "Epoch: 006/010 | Batch 005/018 | Train/Val Loss: 0.47\n",
            "Epoch: 006/010 | Batch 006/018 | Train/Val Loss: 0.44\n",
            "Epoch: 006/010 | Batch 007/018 | Train/Val Loss: 0.52\n",
            "Epoch: 006/010 | Batch 008/018 | Train/Val Loss: 0.45\n",
            "Epoch: 006/010 | Batch 009/018 | Train/Val Loss: 0.47\n",
            "Epoch: 006/010 | Batch 010/018 | Train/Val Loss: 0.44\n",
            "Epoch: 006/010 | Batch 011/018 | Train/Val Loss: 0.41\n",
            "Epoch: 006/010 | Batch 012/018 | Train/Val Loss: 0.50\n",
            "Epoch: 006/010 | Batch 013/018 | Train/Val Loss: 0.44\n",
            "Epoch: 006/010 | Batch 014/018 | Train/Val Loss: 0.45\n",
            "Epoch: 006/010 | Batch 015/018 | Train/Val Loss: 0.41\n",
            "Epoch: 006/010 | Batch 016/018 | Train/Val Loss: 0.47\n",
            "Epoch: 006/010 | Batch 017/018 | Train/Val Loss: 0.41\n",
            "Train Acc 94.76% | Val Acc 92.19%\n",
            "Epoch: 007/010 | Batch 000/018 | Train/Val Loss: 0.43\n",
            "Epoch: 007/010 | Batch 001/018 | Train/Val Loss: 0.42\n",
            "Epoch: 007/010 | Batch 002/018 | Train/Val Loss: 0.42\n",
            "Epoch: 007/010 | Batch 003/018 | Train/Val Loss: 0.41\n",
            "Epoch: 007/010 | Batch 004/018 | Train/Val Loss: 0.38\n",
            "Epoch: 007/010 | Batch 005/018 | Train/Val Loss: 0.41\n",
            "Epoch: 007/010 | Batch 006/018 | Train/Val Loss: 0.38\n",
            "Epoch: 007/010 | Batch 007/018 | Train/Val Loss: 0.41\n",
            "Epoch: 007/010 | Batch 008/018 | Train/Val Loss: 0.42\n",
            "Epoch: 007/010 | Batch 009/018 | Train/Val Loss: 0.39\n",
            "Epoch: 007/010 | Batch 010/018 | Train/Val Loss: 0.39\n",
            "Epoch: 007/010 | Batch 011/018 | Train/Val Loss: 0.38\n",
            "Epoch: 007/010 | Batch 012/018 | Train/Val Loss: 0.35\n",
            "Epoch: 007/010 | Batch 013/018 | Train/Val Loss: 0.37\n",
            "Epoch: 007/010 | Batch 014/018 | Train/Val Loss: 0.36\n",
            "Epoch: 007/010 | Batch 015/018 | Train/Val Loss: 0.38\n",
            "Epoch: 007/010 | Batch 016/018 | Train/Val Loss: 0.38\n",
            "Epoch: 007/010 | Batch 017/018 | Train/Val Loss: 0.40\n",
            "Train Acc 96.86% | Val Acc 98.44%\n",
            "Epoch: 008/010 | Batch 000/018 | Train/Val Loss: 0.39\n",
            "Epoch: 008/010 | Batch 001/018 | Train/Val Loss: 0.34\n",
            "Epoch: 008/010 | Batch 002/018 | Train/Val Loss: 0.33\n",
            "Epoch: 008/010 | Batch 003/018 | Train/Val Loss: 0.37\n",
            "Epoch: 008/010 | Batch 004/018 | Train/Val Loss: 0.35\n",
            "Epoch: 008/010 | Batch 005/018 | Train/Val Loss: 0.35\n",
            "Epoch: 008/010 | Batch 006/018 | Train/Val Loss: 0.37\n",
            "Epoch: 008/010 | Batch 007/018 | Train/Val Loss: 0.36\n",
            "Epoch: 008/010 | Batch 008/018 | Train/Val Loss: 0.30\n",
            "Epoch: 008/010 | Batch 009/018 | Train/Val Loss: 0.32\n",
            "Epoch: 008/010 | Batch 010/018 | Train/Val Loss: 0.28\n",
            "Epoch: 008/010 | Batch 011/018 | Train/Val Loss: 0.35\n",
            "Epoch: 008/010 | Batch 012/018 | Train/Val Loss: 0.32\n",
            "Epoch: 008/010 | Batch 013/018 | Train/Val Loss: 0.32\n",
            "Epoch: 008/010 | Batch 014/018 | Train/Val Loss: 0.32\n",
            "Epoch: 008/010 | Batch 015/018 | Train/Val Loss: 0.30\n",
            "Epoch: 008/010 | Batch 016/018 | Train/Val Loss: 0.31\n",
            "Epoch: 008/010 | Batch 017/018 | Train/Val Loss: 0.31\n",
            "Train Acc 97.03% | Val Acc 100.00%\n",
            "Epoch: 009/010 | Batch 000/018 | Train/Val Loss: 0.29\n",
            "Epoch: 009/010 | Batch 001/018 | Train/Val Loss: 0.28\n",
            "Epoch: 009/010 | Batch 002/018 | Train/Val Loss: 0.24\n",
            "Epoch: 009/010 | Batch 003/018 | Train/Val Loss: 0.26\n",
            "Epoch: 009/010 | Batch 004/018 | Train/Val Loss: 0.25\n",
            "Epoch: 009/010 | Batch 005/018 | Train/Val Loss: 0.28\n",
            "Epoch: 009/010 | Batch 006/018 | Train/Val Loss: 0.26\n",
            "Epoch: 009/010 | Batch 007/018 | Train/Val Loss: 0.32\n",
            "Epoch: 009/010 | Batch 008/018 | Train/Val Loss: 0.30\n",
            "Epoch: 009/010 | Batch 009/018 | Train/Val Loss: 0.30\n",
            "Epoch: 009/010 | Batch 010/018 | Train/Val Loss: 0.28\n",
            "Epoch: 009/010 | Batch 011/018 | Train/Val Loss: 0.28\n",
            "Epoch: 009/010 | Batch 012/018 | Train/Val Loss: 0.22\n",
            "Epoch: 009/010 | Batch 013/018 | Train/Val Loss: 0.33\n",
            "Epoch: 009/010 | Batch 014/018 | Train/Val Loss: 0.33\n",
            "Epoch: 009/010 | Batch 015/018 | Train/Val Loss: 0.25\n",
            "Epoch: 009/010 | Batch 016/018 | Train/Val Loss: 0.27\n",
            "Epoch: 009/010 | Batch 017/018 | Train/Val Loss: 0.27\n",
            "Train Acc 98.08% | Val Acc 100.00%\n",
            "Epoch: 010/010 | Batch 000/018 | Train/Val Loss: 0.26\n",
            "Epoch: 010/010 | Batch 001/018 | Train/Val Loss: 0.23\n",
            "Epoch: 010/010 | Batch 002/018 | Train/Val Loss: 0.25\n",
            "Epoch: 010/010 | Batch 003/018 | Train/Val Loss: 0.22\n",
            "Epoch: 010/010 | Batch 004/018 | Train/Val Loss: 0.25\n",
            "Epoch: 010/010 | Batch 005/018 | Train/Val Loss: 0.28\n",
            "Epoch: 010/010 | Batch 006/018 | Train/Val Loss: 0.22\n",
            "Epoch: 010/010 | Batch 007/018 | Train/Val Loss: 0.27\n",
            "Epoch: 010/010 | Batch 008/018 | Train/Val Loss: 0.23\n",
            "Epoch: 010/010 | Batch 009/018 | Train/Val Loss: 0.19\n",
            "Epoch: 010/010 | Batch 010/018 | Train/Val Loss: 0.22\n",
            "Epoch: 010/010 | Batch 011/018 | Train/Val Loss: 0.21\n",
            "Epoch: 010/010 | Batch 012/018 | Train/Val Loss: 0.21\n",
            "Epoch: 010/010 | Batch 013/018 | Train/Val Loss: 0.22\n",
            "Epoch: 010/010 | Batch 014/018 | Train/Val Loss: 0.25\n",
            "Epoch: 010/010 | Batch 015/018 | Train/Val Loss: 0.28\n",
            "Epoch: 010/010 | Batch 016/018 | Train/Val Loss: 0.16\n",
            "Epoch: 010/010 | Batch 017/018 | Train/Val Loss: 0.21\n",
            "Train Acc 98.25% | Val Acc 100.00%\n"
          ]
        }
      ],
      "source": [
        "import torch.nn.functional as F\n",
        "\n",
        "\n",
        "torch.manual_seed(1)\n",
        "model = PyTorchMLP(num_features=2, num_classes=2)\n",
        "# Use stochastic gradient descent to optimize the parameters\n",
        "# Set the learning rate to 0.05\n",
        "optimizer = torch.optim.SGD(model.parameters(), lr=0.05)\n",
        "\n",
        "num_epochs = 10\n",
        "\n",
        "for epoch in range(num_epochs):\n",
        "\n",
        "    # put the model in training mode\n",
        "    model = model.train()\n",
        "    for batch_idx, (features, labels) in enumerate(train_loader):\n",
        "\n",
        "        # run the features through the model\n",
        "        logits = model(features)\n",
        "\n",
        "        loss = F.cross_entropy(logits, labels) # Loss function\n",
        "\n",
        "        # zero the gradients, backpropagate, update the parameters\n",
        "        optimizer.zero_grad()\n",
        "        loss.backward()\n",
        "        optimizer.step()\n",
        "\n",
        "        ### LOGGING\n",
        "        print(f\"Epoch: {epoch+1:03d}/{num_epochs:03d}\"\n",
        "              f\" | Batch {batch_idx:03d}/{len(train_loader):03d}\"\n",
        "              f\" | Train/Val Loss: {loss:.2f}\")\n",
        "\n",
        "    train_acc = compute_accuracy(model, train_loader)\n",
        "    val_acc = compute_accuracy(model, val_loader)\n",
        "    print(f\"Train Acc {train_acc*100:.2f}% | Val Acc {val_acc*100:.2f}%\")"
      ]
    },
    {
      "cell_type": "markdown",
      "id": "bb0d5821-7c8d-46b5-9e7d-02e72cac2acc",
      "metadata": {
        "id": "bb0d5821-7c8d-46b5-9e7d-02e72cac2acc"
      },
      "source": [
        "## 7) Evaluating the results"
      ]
    },
    {
      "cell_type": "code",
      "execution_count": 25,
      "id": "27538c8d-61bc-47b0-8289-b6aab4aa16ed",
      "metadata": {
        "colab": {
          "base_uri": "https://localhost:8080/"
        },
        "id": "27538c8d-61bc-47b0-8289-b6aab4aa16ed",
        "outputId": "1aee9a12-fa99-44d8-a222-e0a60b457a1e"
      },
      "outputs": [
        {
          "output_type": "stream",
          "name": "stdout",
          "text": [
            "Train Acc 98.25%\n",
            "Val Acc 100.00%\n",
            "Test Acc 99.12%\n"
          ]
        }
      ],
      "source": [
        "train_acc = compute_accuracy(model, train_loader)\n",
        "val_acc = compute_accuracy(model, val_loader)\n",
        "test_acc = compute_accuracy(model, test_loader)\n",
        "\n",
        "print(f\"Train Acc {train_acc*100:.2f}%\")\n",
        "print(f\"Val Acc {val_acc*100:.2f}%\")\n",
        "print(f\"Test Acc {test_acc*100:.2f}%\")"
      ]
    },
    {
      "cell_type": "markdown",
      "id": "fbcd412a-02c0-4d2c-835e-4b01368f53f8",
      "metadata": {
        "id": "fbcd412a-02c0-4d2c-835e-4b01368f53f8"
      },
      "source": [
        "## 8) Optional: visualizing the decision boundary"
      ]
    },
    {
      "cell_type": "code",
      "execution_count": 26,
      "id": "a76bb67c-358c-4e91-a5c7-5456333827aa",
      "metadata": {
        "id": "a76bb67c-358c-4e91-a5c7-5456333827aa"
      },
      "outputs": [],
      "source": [
        "from matplotlib.colors import ListedColormap\n",
        "import numpy as np\n",
        "\n",
        "\n",
        "def plot_decision_regions(X, y, classifier, resolution=0.02):\n",
        "\n",
        "    # setup marker generator and color map\n",
        "    markers = ('D', '^', 'x', 's', 'v')\n",
        "    colors = ('C0', 'C1', 'C2', 'C3', 'C4')\n",
        "    cmap = ListedColormap(colors[:len(np.unique(y))])\n",
        "\n",
        "    # plot the decision surface\n",
        "    x1_min, x1_max = X[:, 0].min() - 1, X[:, 0].max() + 1\n",
        "    x2_min, x2_max = X[:, 1].min() - 1, X[:, 1].max() + 1\n",
        "    xx1, xx2 = np.meshgrid(np.arange(x1_min, x1_max, resolution),\n",
        "                           np.arange(x2_min, x2_max, resolution))\n",
        "    tensor = torch.tensor(np.array([xx1.ravel(), xx2.ravel()]).T).float()\n",
        "    logits = classifier.forward(tensor)\n",
        "    Z = np.argmax(logits.detach().numpy(), axis=1)\n",
        "\n",
        "    Z = Z.reshape(xx1.shape)\n",
        "    plt.contourf(xx1, xx2, Z, alpha=0.4, cmap=cmap)\n",
        "    plt.xlim(xx1.min(), xx1.max())\n",
        "    plt.ylim(xx2.min(), xx2.max())\n",
        "\n",
        "    # plot class samples\n",
        "    for idx, cl in enumerate(np.unique(y)):\n",
        "        plt.scatter(x=X[y == cl, 0], y=X[y == cl, 1],\n",
        "                    alpha=0.8, color=cmap(idx),\n",
        "                    #edgecolor='black',\n",
        "                    marker=markers[idx],\n",
        "                    label=cl)"
      ]
    },
    {
      "cell_type": "code",
      "execution_count": 27,
      "id": "4f70038a-8bd7-4fd7-aa12-b2a4f08aa190",
      "metadata": {
        "colab": {
          "base_uri": "https://localhost:8080/",
          "height": 430
        },
        "id": "4f70038a-8bd7-4fd7-aa12-b2a4f08aa190",
        "outputId": "cdbfba83-7d85-4319-b638-6d25b263e93b"
      },
      "outputs": [
        {
          "output_type": "display_data",
          "data": {
            "text/plain": [
              "<Figure size 640x480 with 1 Axes>"
            ],
            "image/png": "[encoded data removed]"
          },
          "metadata": {}
        }
      ],
      "source": [
        "plot_decision_regions(X_train, y_train, classifier=model)"
      ]
    }
  ],
  "metadata": {
    "kernelspec": {
      "display_name": "Python 3 (ipykernel)",
      "language": "python",
      "name": "python3"
    },
    "language_info": {
      "codemirror_mode": {
        "name": "ipython",
        "version": 3
      },
      "file_extension": ".py",
      "mimetype": "text/x-python",
      "name": "python",
      "nbconvert_exporter": "python",
      "pygments_lexer": "ipython3",
      "version": "3.9.15"
    },
    "colab": {
      "provenance": [],
      "include_colab_link": true
    }
  },
  "nbformat": 4,
  "nbformat_minor": 5
}