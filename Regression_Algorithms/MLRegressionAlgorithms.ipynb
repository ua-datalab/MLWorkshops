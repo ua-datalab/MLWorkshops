{
  "cells": [
    {
      "cell_type": "markdown",
      "metadata": {
        "id": "view-in-github",
        "colab_type": "text"
      },
      "source": [
        "<a href=\"https://colab.research.google.com/github/ua-datalab/MLWorkshops/blob/main/Regression_Algorithms/MLRegressionAlgorithms.ipynb\" target=\"_parent\"><img src=\"https://colab.research.google.com/assets/colab-badge.svg\" alt=\"Open In Colab\"/></a>"
      ]
    },
    {
      "cell_type": "markdown",
      "source": [
        "# Classical Machine Learning: Regression Algorithms.\n",
        "\n",
        "Regression analysis is the process of estimating the relationship between a dependent variable and independent variables."
      ],
      "metadata": {
        "id": "PG732HC_cxCy"
      },
      "id": "PG732HC_cxCy"
    },
    {
      "cell_type": "markdown",
      "source": [
        "We load all the required libraries"
      ],
      "metadata": {
        "id": "Rcju0_-EmzQL"
      },
      "id": "Rcju0_-EmzQL"
    },
    {
      "cell_type": "code",
      "execution_count": null,
      "id": "47bdc9cd",
      "metadata": {
        "id": "47bdc9cd"
      },
      "outputs": [],
      "source": [
        "import numpy as np\n",
        "import matplotlib.pyplot as plt\n",
        "import matplotlib as mpl\n",
        "\n",
        "from sklearn.preprocessing import add_dummy_feature\n",
        "\n",
        "from sklearn.linear_model import LinearRegression\n",
        "from sklearn.linear_model import SGDRegressor\n",
        "from sklearn.preprocessing import PolynomialFeatures\n",
        "from sklearn.linear_model import Ridge\n",
        "from sklearn.linear_model import Lasso\n",
        "from sklearn.linear_model import ElasticNet\n",
        "\n",
        "from sklearn.preprocessing import StandardScaler\n",
        "from sklearn.pipeline import make_pipeline\n"
      ]
    },
    {
      "cell_type": "markdown",
      "id": "03ba8cfe",
      "metadata": {
        "id": "03ba8cfe"
      },
      "source": [
        "## Linear Regression\n"
      ]
    },
    {
      "cell_type": "code",
      "execution_count": null,
      "id": "6f9682cd",
      "metadata": {
        "id": "6f9682cd"
      },
      "outputs": [],
      "source": [
        "# Generate a collection of random points around a line y= 4 + 3*x\n",
        "np.random.seed(42)  # to make this code example reproducible\n",
        "m = 100  # number of instances\n",
        "X = 2 * np.random.rand(m, 1)  # column vector\n",
        "y = 4 + 3 * X + np.random.randn(m, 1)  # column vector\n"
      ]
    },
    {
      "cell_type": "code",
      "execution_count": null,
      "id": "5f0d3ee8",
      "metadata": {
        "colab": {
          "base_uri": "https://localhost:8080/",
          "height": 297
        },
        "id": "5f0d3ee8",
        "outputId": "ab3f1ff4-9974-4ce5-e507-dff4000b6a1c"
      },
      "outputs": [
        {
          "output_type": "display_data",
          "data": {
            "text/plain": [
              "<Figure size 432x288 with 1 Axes>"
            ],
            "image/png": "[encoded data removed]"
          },
          "metadata": {
            "needs_background": "light"
          }
        }
      ],
      "source": [
        "# Plot previous generated data\n",
        "plt.figure(figsize=(6, 4))\n",
        "plt.plot(X, y, \"b.\")\n",
        "plt.xlabel(\"$x_1$\")\n",
        "plt.ylabel(\"$y$\", rotation=0)\n",
        "plt.title('Random set of points')\n",
        "plt.axis([0, 2, 0, 15])\n",
        "plt.grid()\n",
        "plt.show()\n"
      ]
    },
    {
      "cell_type": "code",
      "execution_count": null,
      "id": "24009594",
      "metadata": {
        "colab": {
          "base_uri": "https://localhost:8080/"
        },
        "id": "24009594",
        "outputId": "8c34cdb8-2cbc-4f95-ed86-eb91ec3c993c"
      },
      "outputs": [
        {
          "output_type": "execute_result",
          "data": {
            "text/plain": [
              "array([[4.21509616],\n",
              "       [2.77011339]])"
            ]
          },
          "metadata": {},
          "execution_count": 5
        }
      ],
      "source": [
        "# Using Linear Algebra to solve the best parameters (Intersection & Slope)\n",
        "X_b = add_dummy_feature(X)  # add x0 = 1 to each instance\n",
        "theta_best = np.linalg.inv(X_b.T @ X_b) @ X_b.T @ y\n",
        "theta_best\n"
      ]
    },
    {
      "cell_type": "code",
      "execution_count": null,
      "id": "a832f4bb",
      "metadata": {
        "colab": {
          "base_uri": "https://localhost:8080/"
        },
        "id": "a832f4bb",
        "outputId": "2ec70910-0ec7-49fe-b667-0543923227c1"
      },
      "outputs": [
        {
          "output_type": "execute_result",
          "data": {
            "text/plain": [
              "array([[4.21509616],\n",
              "       [9.75532293]])"
            ]
          },
          "metadata": {},
          "execution_count": 6
        }
      ],
      "source": [
        "# Predict y values for X=0 and 2\n",
        "X_new = np.array([[0], [2]])\n",
        "X_new_b = add_dummy_feature(X_new)  # add x0 = 1 to each instance\n",
        "y_predict = X_new_b @ theta_best\n",
        "y_predict\n"
      ]
    },
    {
      "cell_type": "code",
      "execution_count": null,
      "id": "7bc560e9",
      "metadata": {
        "colab": {
          "base_uri": "https://localhost:8080/",
          "height": 297
        },
        "id": "7bc560e9",
        "outputId": "b55f1b4a-6a5a-4f2f-b1c1-1c4691642cac"
      },
      "outputs": [
        {
          "output_type": "display_data",
          "data": {
            "text/plain": [
              "<Figure size 432x288 with 1 Axes>"
            ],
            "image/png": "[encoded data removed]"
          },
          "metadata": {
            "needs_background": "light"
          }
        }
      ],
      "source": [
        "# Plot predicted linear function\n",
        "plt.figure(figsize=(6, 4))  # extra code – not needed, just formatting\n",
        "plt.plot(X_new, y_predict, \"r-\", label=\"Predictions\")\n",
        "plt.plot(X, y, \"b.\")\n",
        "\n",
        "# extra code – beautifies\n",
        "plt.xlabel(\"$x_1$\")\n",
        "plt.ylabel(\"$y$\", rotation=0)\n",
        "plt.axis([0, 2, 0, 15])\n",
        "plt.grid()\n",
        "plt.legend(loc=\"upper left\")\n",
        "plt.title('Linear fit')\n",
        "plt.show()\n"
      ]
    },
    {
      "cell_type": "code",
      "execution_count": null,
      "id": "2b8d1554",
      "metadata": {
        "colab": {
          "base_uri": "https://localhost:8080/"
        },
        "id": "2b8d1554",
        "outputId": "e25ac0ee-8d03-4cac-c03d-cf7892103b09"
      },
      "outputs": [
        {
          "output_type": "execute_result",
          "data": {
            "text/plain": [
              "(array([4.21509616]), array([[2.77011339]]))"
            ]
          },
          "metadata": {},
          "execution_count": 10
        }
      ],
      "source": [
        "# Now use Linear Regression Algorithm\n",
        "# Will return the intercept and slope\n",
        "\n",
        "lin_reg = LinearRegression()\n",
        "lin_reg.fit(X, y)\n",
        "lin_reg.intercept_, lin_reg.coef_\n"
      ]
    },
    {
      "cell_type": "code",
      "execution_count": null,
      "id": "78986699",
      "metadata": {
        "colab": {
          "base_uri": "https://localhost:8080/"
        },
        "id": "78986699",
        "outputId": "70d071a1-e174-456e-9ee1-7cf9b8314d06"
      },
      "outputs": [
        {
          "output_type": "execute_result",
          "data": {
            "text/plain": [
              "array([[4.21509616],\n",
              "       [9.75532293]])"
            ]
          },
          "metadata": {},
          "execution_count": 11
        }
      ],
      "source": [
        "# Predict again y values for X=0 and 2.\n",
        "lin_reg.predict(X_new)\n"
      ]
    },
    {
      "cell_type": "code",
      "execution_count": null,
      "id": "518040f5",
      "metadata": {
        "colab": {
          "base_uri": "https://localhost:8080/"
        },
        "id": "518040f5",
        "outputId": "79242ee9-ce33-4a6a-bb37-3f24bb26e29a"
      },
      "outputs": [
        {
          "output_type": "execute_result",
          "data": {
            "text/plain": [
              "array([[4.21509616],\n",
              "       [2.77011339]])"
            ]
          },
          "metadata": {},
          "execution_count": 12
        }
      ],
      "source": [
        "# Old way: using Least Squares fit for finding intercept and slope\n",
        "theta_best_svd, residuals, rank, s = np.linalg.lstsq(X_b, y, rcond=1e-6)\n",
        "theta_best_svd\n"
      ]
    },
    {
      "cell_type": "code",
      "execution_count": null,
      "id": "2ea78899",
      "metadata": {
        "colab": {
          "base_uri": "https://localhost:8080/"
        },
        "id": "2ea78899",
        "outputId": "116c896e-1c4e-4619-c617-bd135e786668"
      },
      "outputs": [
        {
          "output_type": "execute_result",
          "data": {
            "text/plain": [
              "array([[4.21509616],\n",
              "       [2.77011339]])"
            ]
          },
          "metadata": {},
          "execution_count": 13
        }
      ],
      "source": [
        "np.linalg.pinv(X_b) @ y"
      ]
    },
    {
      "cell_type": "markdown",
      "id": "4e3f5353",
      "metadata": {
        "id": "4e3f5353"
      },
      "source": [
        "## Gradient Descent Method"
      ]
    },
    {
      "cell_type": "code",
      "execution_count": null,
      "id": "079b1e4a",
      "metadata": {
        "id": "079b1e4a"
      },
      "outputs": [],
      "source": [
        "eta = 0.1  # learning rate\n",
        "n_epochs = 1000\n",
        "m = len(X_b)  # number of instances\n",
        "\n",
        "np.random.seed(42)\n",
        "theta = np.random.randn(2, 1)  # randomly initialized model parameters\n",
        "\n",
        "for epoch in range(n_epochs):\n",
        "    gradients = 2 / m * X_b.T @ (X_b @ theta - y)\n",
        "    theta = theta - eta * gradients\n",
        ""
      ]
    },
    {
      "cell_type": "code",
      "execution_count": null,
      "id": "5ef47f9f",
      "metadata": {
        "colab": {
          "base_uri": "https://localhost:8080/"
        },
        "id": "5ef47f9f",
        "outputId": "502ab077-cc0c-42ad-a2a8-6eb1792d75bd"
      },
      "outputs": [
        {
          "output_type": "execute_result",
          "data": {
            "text/plain": [
              "array([[4.21509616],\n",
              "       [2.77011339]])"
            ]
          },
          "metadata": {},
          "execution_count": 15
        }
      ],
      "source": [
        "# Trained model parameters\n",
        "theta\n"
      ]
    },
    {
      "cell_type": "code",
      "execution_count": null,
      "id": "68d11cc5",
      "metadata": {
        "id": "68d11cc5"
      },
      "outputs": [],
      "source": [
        "theta_path_sgd = []  # extra code – we need to store the path of theta in the\n",
        "                     #              parameter space to plot the next figure"
      ]
    },
    {
      "cell_type": "code",
      "execution_count": null,
      "id": "37d97ba8",
      "metadata": {
        "colab": {
          "base_uri": "https://localhost:8080/",
          "height": 297
        },
        "id": "37d97ba8",
        "outputId": "ae8baa9d-1771-4e60-f961-83c7bdf1eb05"
      },
      "outputs": [
        {
          "output_type": "display_data",
          "data": {
            "text/plain": [
              "<Figure size 432x288 with 1 Axes>"
            ],
            "image/png": "[encoded data removed]"
          },
          "metadata": {
            "needs_background": "light"
          }
        }
      ],
      "source": [
        "n_epochs = 50\n",
        "t0, t1 = 5, 50  # learning schedule hyperparameters\n",
        "\n",
        "def learning_schedule(t):\n",
        "    return t0 / (t + t1)\n",
        "\n",
        "np.random.seed(42)\n",
        "theta = np.random.randn(2, 1)  # random initialization\n",
        "\n",
        "n_shown = 20  # extra code – just needed to generate the figure below\n",
        "plt.figure(figsize=(6, 4))  # extra code – not needed, just formatting\n",
        "\n",
        "for epoch in range(n_epochs):\n",
        "    for iteration in range(m):\n",
        "\n",
        "        # extra code – these 4 lines are used to generate the figure\n",
        "        if epoch == 0 and iteration < n_shown:\n",
        "            y_predict = X_new_b @ theta\n",
        "            color = mpl.colors.rgb2hex(plt.cm.OrRd(iteration / n_shown + 0.15))\n",
        "            plt.plot(X_new, y_predict, color=color)\n",
        "\n",
        "        random_index = np.random.randint(m)\n",
        "        xi = X_b[random_index : random_index + 1]\n",
        "        yi = y[random_index : random_index + 1]\n",
        "        gradients = 2 * xi.T @ (xi @ theta - yi)  # for SGD, do not divide by m\n",
        "        eta = learning_schedule(epoch * m + iteration)\n",
        "        theta = theta - eta * gradients\n",
        "        theta_path_sgd.append(theta)  # extra code – to generate the figure\n",
        "\n",
        "# extra code – this section beautifies figure\n",
        "plt.plot(X, y, \"b.\")\n",
        "plt.xlabel(\"$x_1$\")\n",
        "plt.ylabel(\"$y$\", rotation=0)\n",
        "plt.title('Gradient Descent fit')\n",
        "plt.axis([0, 2, 0, 15])\n",
        "plt.grid()\n",
        "plt.show()\n"
      ]
    },
    {
      "cell_type": "code",
      "execution_count": null,
      "id": "90d26203",
      "metadata": {
        "colab": {
          "base_uri": "https://localhost:8080/"
        },
        "id": "90d26203",
        "outputId": "6d303d98-9426-4cc2-d42f-74025a595d65"
      },
      "outputs": [
        {
          "output_type": "execute_result",
          "data": {
            "text/plain": [
              "array([[4.21076011],\n",
              "       [2.74856079]])"
            ]
          },
          "metadata": {},
          "execution_count": 18
        }
      ],
      "source": [
        "# Found parameters: Intercept & Slope\n",
        "theta\n"
      ]
    },
    {
      "cell_type": "code",
      "execution_count": null,
      "id": "b2a1bdd6",
      "metadata": {
        "colab": {
          "base_uri": "https://localhost:8080/"
        },
        "id": "b2a1bdd6",
        "outputId": "cf4511a1-231d-49b7-8e0b-4db1930935db"
      },
      "outputs": [
        {
          "output_type": "execute_result",
          "data": {
            "text/plain": [
              "SGDRegressor(n_iter_no_change=100, penalty=None, random_state=42, tol=1e-05)"
            ]
          },
          "metadata": {},
          "execution_count": 19
        }
      ],
      "source": [
        "# Now use the SDGRegressor Algorithm\n",
        "\n",
        "\n",
        "sgd_reg = SGDRegressor(max_iter=1000, tol=1e-5, penalty=None, eta0=0.01,\n",
        "                       n_iter_no_change=100, random_state=42)\n",
        "sgd_reg.fit(X, y.ravel())  # y.ravel() because fit() expects 1D targets\n"
      ]
    },
    {
      "cell_type": "code",
      "execution_count": null,
      "id": "44eb1105",
      "metadata": {
        "colab": {
          "base_uri": "https://localhost:8080/"
        },
        "id": "44eb1105",
        "outputId": "5cb87f28-fcba-4819-fc95-9f20c469f941"
      },
      "outputs": [
        {
          "output_type": "execute_result",
          "data": {
            "text/plain": [
              "(array([4.21278812]), array([2.77270267]))"
            ]
          },
          "metadata": {},
          "execution_count": 20
        }
      ],
      "source": [
        "# Returned parameters: Intercept and Slope\n",
        "\n",
        "sgd_reg.intercept_, sgd_reg.coef_"
      ]
    },
    {
      "cell_type": "markdown",
      "id": "993c4f06",
      "metadata": {
        "id": "993c4f06"
      },
      "source": [
        "## Polynomial Regression"
      ]
    },
    {
      "cell_type": "code",
      "execution_count": null,
      "id": "06e97e91",
      "metadata": {
        "id": "06e97e91"
      },
      "outputs": [],
      "source": [
        "# Generate a collection of data around y = 2 + X + (1/2) X**2\n",
        "np.random.seed(42)\n",
        "m = 100\n",
        "X = 6 * np.random.rand(m, 1) - 3\n",
        "y = 0.5 * X ** 2 + X + 2 + np.random.randn(m, 1)\n"
      ]
    },
    {
      "cell_type": "code",
      "execution_count": null,
      "id": "2804452a",
      "metadata": {
        "colab": {
          "base_uri": "https://localhost:8080/",
          "height": 297
        },
        "id": "2804452a",
        "outputId": "7faa9a5a-ef54-40d8-a854-5045323727e2"
      },
      "outputs": [
        {
          "output_type": "display_data",
          "data": {
            "text/plain": [
              "<Figure size 432x288 with 1 Axes>"
            ],
            "image/png": "[encoded data removed]"
          },
          "metadata": {
            "needs_background": "light"
          }
        }
      ],
      "source": [
        "# Generate plot for collection of points\n",
        "plt.figure(figsize=(6, 4))\n",
        "plt.plot(X, y, \"b.\")\n",
        "plt.xlabel(\"$x_1$\")\n",
        "plt.ylabel(\"$y$\", rotation=0)\n",
        "plt.title('Random set of points')\n",
        "plt.axis([-3, 3, 0, 10])\n",
        "plt.grid()\n",
        "plt.show()\n"
      ]
    },
    {
      "cell_type": "code",
      "execution_count": null,
      "id": "3ab81cf5",
      "metadata": {
        "colab": {
          "base_uri": "https://localhost:8080/"
        },
        "id": "3ab81cf5",
        "outputId": "4d59cee7-8672-4f81-8101-e532229f0cd7"
      },
      "outputs": [
        {
          "output_type": "execute_result",
          "data": {
            "text/plain": [
              "array([-0.75275929])"
            ]
          },
          "metadata": {},
          "execution_count": 23
        }
      ],
      "source": [
        "# Use the Polynomial Regression Algorithm\n",
        "\n",
        "poly_features = PolynomialFeatures(degree=2, include_bias=False)\n",
        "X_poly = poly_features.fit_transform(X)\n",
        "X[0]\n"
      ]
    },
    {
      "cell_type": "code",
      "execution_count": null,
      "id": "80e7e328",
      "metadata": {
        "colab": {
          "base_uri": "https://localhost:8080/"
        },
        "id": "80e7e328",
        "outputId": "1e6501cd-8835-4e7f-cba5-6ba5bee0eb96"
      },
      "outputs": [
        {
          "output_type": "execute_result",
          "data": {
            "text/plain": [
              "array([-0.75275929,  0.56664654])"
            ]
          },
          "metadata": {},
          "execution_count": 24
        }
      ],
      "source": [
        "X_poly[0]"
      ]
    },
    {
      "cell_type": "code",
      "execution_count": null,
      "id": "adecf4d3",
      "metadata": {
        "colab": {
          "base_uri": "https://localhost:8080/"
        },
        "id": "adecf4d3",
        "outputId": "3c513132-b4d0-4420-c76a-8b4275c69b19"
      },
      "outputs": [
        {
          "output_type": "execute_result",
          "data": {
            "text/plain": [
              "(array([1.78134581]), array([[0.93366893, 0.56456263]]))"
            ]
          },
          "metadata": {},
          "execution_count": 25
        }
      ],
      "source": [
        "lin_reg = LinearRegression()\n",
        "lin_reg.fit(X_poly, y)\n",
        "lin_reg.intercept_, lin_reg.coef_\n"
      ]
    },
    {
      "cell_type": "code",
      "execution_count": null,
      "id": "00105c9b",
      "metadata": {
        "colab": {
          "base_uri": "https://localhost:8080/",
          "height": 297
        },
        "id": "00105c9b",
        "outputId": "9a805e92-04c8-46f3-b4a3-56ad89b9adeb"
      },
      "outputs": [
        {
          "output_type": "display_data",
          "data": {
            "text/plain": [
              "<Figure size 432x288 with 1 Axes>"
            ],
            "image/png": "[encoded data removed]"
          },
          "metadata": {
            "needs_background": "light"
          }
        }
      ],
      "source": [
        "# Plot quadratic prediction fit\n",
        "X_new = np.linspace(-3, 3, 100).reshape(100, 1)\n",
        "X_new_poly = poly_features.transform(X_new)\n",
        "y_new = lin_reg.predict(X_new_poly)\n",
        "\n",
        "plt.figure(figsize=(6, 4))\n",
        "plt.plot(X, y, \"b.\")\n",
        "plt.plot(X_new, y_new, \"r-\", linewidth=2, label=\"Predictions\")\n",
        "plt.xlabel(\"$x_1$\")\n",
        "plt.ylabel(\"$y$\", rotation=0)\n",
        "plt.title('Quadratic regression fit')\n",
        "plt.legend(loc=\"upper left\")\n",
        "plt.axis([-3, 3, 0, 10])\n",
        "plt.grid()\n",
        "plt.show()\n"
      ]
    },
    {
      "cell_type": "code",
      "execution_count": null,
      "id": "9dac69f8",
      "metadata": {
        "colab": {
          "base_uri": "https://localhost:8080/",
          "height": 297
        },
        "id": "9dac69f8",
        "outputId": "7b785997-3632-41fe-b391-e9bf7fb9d9fd"
      },
      "outputs": [
        {
          "output_type": "display_data",
          "data": {
            "text/plain": [
              "<Figure size 432x288 with 1 Axes>"
            ],
            "image/png": "[encoded data removed]"
          },
          "metadata": {
            "needs_background": "light"
          }
        }
      ],
      "source": [
        "# Make polynomial plot and compare different fits\n",
        "\n",
        "plt.figure(figsize=(6, 4))\n",
        "\n",
        "for style, width, degree in ((\"r-+\", 2, 1), (\"b--\", 2, 2), (\"g-\", 1, 100)):\n",
        "    polybig_features = PolynomialFeatures(degree=degree, include_bias=False)\n",
        "\n",
        "    std_scaler = StandardScaler()\n",
        "    lin_reg = LinearRegression()\n",
        "\n",
        "    polynomial_regression = make_pipeline(polybig_features, std_scaler, lin_reg)\n",
        "    polynomial_regression.fit(X, y)\n",
        "    y_newbig = polynomial_regression.predict(X_new)\n",
        "    label = f\"{degree} degree{'s' if degree > 1 else ''}\"\n",
        "    plt.plot(X_new, y_newbig, style, label=label, linewidth=width)\n",
        "\n",
        "plt.plot(X, y, \"b.\", linewidth=3)\n",
        "plt.legend(loc=\"upper left\")\n",
        "plt.xlabel(\"$x_1$\")\n",
        "plt.ylabel(\"$y$\", rotation=0)\n",
        "plt.title('Different polynomial regression fits')\n",
        "plt.axis([-3, 3, 0, 10])\n",
        "plt.grid()\n",
        "plt.show()\n"
      ]
    },
    {
      "cell_type": "markdown",
      "id": "2f970f57",
      "metadata": {
        "id": "2f970f57"
      },
      "source": [
        "# Regularized Linear Models\n",
        "\n",
        "## Ridge Regression"
      ]
    },
    {
      "cell_type": "code",
      "execution_count": null,
      "id": "e6696abb",
      "metadata": {
        "id": "e6696abb"
      },
      "outputs": [],
      "source": [
        "# Generate random noise about y = 1 + (1/2) X\n",
        "np.random.seed(42)\n",
        "m = 20\n",
        "X = 3 * np.random.rand(m, 1)\n",
        "y = 1 + 0.5 * X + np.random.randn(m, 1) / 1.5\n",
        "X_new = np.linspace(0, 3, 100).reshape(100, 1)\n"
      ]
    },
    {
      "cell_type": "code",
      "execution_count": null,
      "id": "2fa73724",
      "metadata": {
        "colab": {
          "base_uri": "https://localhost:8080/",
          "height": 297
        },
        "id": "2fa73724",
        "outputId": "3ab772a0-dd70-4cb2-a6b5-70dc438b4fbb"
      },
      "outputs": [
        {
          "output_type": "display_data",
          "data": {
            "text/plain": [
              "<Figure size 432x288 with 1 Axes>"
            ],
            "image/png": "[encoded data removed]"
          },
          "metadata": {
            "needs_background": "light"
          }
        }
      ],
      "source": [
        "# quick peek at the dataset we just generated\n",
        "plt.figure(figsize=(6, 4))\n",
        "plt.plot(X, y, \".\")\n",
        "plt.xlabel(\"$x_1$\")\n",
        "plt.ylabel(\"$y$  \", rotation=0)\n",
        "plt.title('Random set of points')\n",
        "plt.axis([0, 3, 0, 3.5])\n",
        "plt.grid()\n",
        "plt.show()\n"
      ]
    },
    {
      "cell_type": "code",
      "execution_count": null,
      "id": "6eb91adc",
      "metadata": {
        "colab": {
          "base_uri": "https://localhost:8080/"
        },
        "id": "6eb91adc",
        "outputId": "c6f1d8b7-797c-44ae-a0c6-73538c6f1007"
      },
      "outputs": [
        {
          "output_type": "execute_result",
          "data": {
            "text/plain": [
              "array([[1.55325833]])"
            ]
          },
          "metadata": {},
          "execution_count": 30
        }
      ],
      "source": [
        "# Ridge Regression Algorithm\n",
        "\n",
        "ridge_reg = Ridge(alpha=0.1, solver=\"cholesky\")\n",
        "ridge_reg.fit(X, y)\n",
        "ridge_reg.predict([[1.5]])\n"
      ]
    },
    {
      "cell_type": "code",
      "execution_count": null,
      "id": "b6134658",
      "metadata": {
        "colab": {
          "base_uri": "https://localhost:8080/",
          "height": 270
        },
        "id": "b6134658",
        "outputId": "019a8dcf-06ad-4440-8586-782b40b397f2"
      },
      "outputs": [
        {
          "output_type": "display_data",
          "data": {
            "text/plain": [
              "<Figure size 648x252 with 2 Axes>"
            ],
            "image/png": "[encoded data removed]"
          },
          "metadata": {
            "needs_background": "light"
          }
        }
      ],
      "source": [
        "# Plot for different values of alpha\n",
        "\n",
        "def plot_model(model_class, polynomial, alphas, **model_kwargs):\n",
        "    plt.plot(X, y, \"b.\", linewidth=3)\n",
        "    for alpha, style in zip(alphas, (\"b:\", \"g--\", \"r-\")):\n",
        "        if alpha > 0:\n",
        "            model = model_class(alpha, **model_kwargs)\n",
        "        else:\n",
        "            model = LinearRegression()\n",
        "        if polynomial:\n",
        "            model = make_pipeline(\n",
        "                PolynomialFeatures(degree=10, include_bias=False),\n",
        "                StandardScaler(),\n",
        "                model)\n",
        "        model.fit(X, y)\n",
        "        y_new_regul = model.predict(X_new)\n",
        "        plt.plot(X_new, y_new_regul, style, linewidth=2,\n",
        "                 label=fr\"$\\alpha = {alpha}$\")\n",
        "    plt.legend(loc=\"upper left\")\n",
        "    plt.xlabel(\"$x_1$\")\n",
        "    plt.axis([0, 3, 0, 3.5])\n",
        "    plt.grid()\n",
        "\n",
        "plt.figure(figsize=(9, 3.5))\n",
        "plt.subplot(121)\n",
        "plot_model(Ridge, polynomial=False, alphas=(0, 10, 100), random_state=42)\n",
        "plt.ylabel(\"$y$  \", rotation=0)\n",
        "plt.title('Ridge linear regression fit')\n",
        "plt.subplot(122)\n",
        "plot_model(Ridge, polynomial=True, alphas=(0, 10**-5, 1), random_state=42)\n",
        "plt.gca().axes.yaxis.set_ticklabels([])\n",
        "plt.title('Ridge polynomial regression fit')\n",
        "plt.show()"
      ]
    },
    {
      "cell_type": "code",
      "execution_count": null,
      "id": "61c7ab73",
      "metadata": {
        "colab": {
          "base_uri": "https://localhost:8080/"
        },
        "id": "61c7ab73",
        "outputId": "52a9be21-fd78-4045-d822-d423f1a43522"
      },
      "outputs": [
        {
          "output_type": "execute_result",
          "data": {
            "text/plain": [
              "array([1.55302613])"
            ]
          },
          "metadata": {},
          "execution_count": 32
        }
      ],
      "source": [
        "sgd_reg = SGDRegressor(penalty=\"l2\", alpha=0.1 / m, tol=None,\n",
        "                       max_iter=1000, eta0=0.01, random_state=42)\n",
        "sgd_reg.fit(X, y.ravel())  # y.ravel() because fit() expects 1D targets\n",
        "sgd_reg.predict([[1.5]])\n"
      ]
    },
    {
      "cell_type": "code",
      "execution_count": null,
      "id": "06185887",
      "metadata": {
        "colab": {
          "base_uri": "https://localhost:8080/"
        },
        "id": "06185887",
        "outputId": "d2e2806b-3408-4b7e-ca54-64058febf8b3"
      },
      "outputs": [
        {
          "output_type": "execute_result",
          "data": {
            "text/plain": [
              "array([[1.55321535]])"
            ]
          },
          "metadata": {},
          "execution_count": 33
        }
      ],
      "source": [
        "# show that we get roughly the same solution as earlier when\n",
        "# we use Stochastic Average GD (solver=\"sag\")\n",
        "ridge_reg = Ridge(alpha=0.1, solver=\"sag\", random_state=42)\n",
        "ridge_reg.fit(X, y)\n",
        "ridge_reg.predict([[1.5]])\n"
      ]
    },
    {
      "cell_type": "code",
      "execution_count": null,
      "id": "37a3af00",
      "metadata": {
        "colab": {
          "base_uri": "https://localhost:8080/"
        },
        "id": "37a3af00",
        "outputId": "e5c3e53e-5ee9-45db-8e37-2fe7964d6419"
      },
      "outputs": [
        {
          "output_type": "execute_result",
          "data": {
            "text/plain": [
              "(array([0.97944909]), array([[0.38251084]]))"
            ]
          },
          "metadata": {},
          "execution_count": 34
        }
      ],
      "source": [
        "ridge_reg.intercept_, ridge_reg.coef_\n"
      ]
    },
    {
      "cell_type": "markdown",
      "id": "e4b1b30a",
      "metadata": {
        "id": "e4b1b30a"
      },
      "source": [
        "## Lasso Regression"
      ]
    },
    {
      "cell_type": "code",
      "execution_count": null,
      "id": "ae959cdd",
      "metadata": {
        "colab": {
          "base_uri": "https://localhost:8080/"
        },
        "id": "ae959cdd",
        "outputId": "b38b60bb-08ce-470c-c0d5-28c905315c22"
      },
      "outputs": [
        {
          "output_type": "execute_result",
          "data": {
            "text/plain": [
              "array([1.53788174])"
            ]
          },
          "metadata": {},
          "execution_count": 35
        }
      ],
      "source": [
        "lasso_reg = Lasso(alpha=0.1)\n",
        "lasso_reg.fit(X, y)\n",
        "lasso_reg.predict([[1.5]])"
      ]
    },
    {
      "cell_type": "code",
      "execution_count": null,
      "id": "1dd40ee8",
      "metadata": {
        "colab": {
          "base_uri": "https://localhost:8080/",
          "height": 270
        },
        "id": "1dd40ee8",
        "outputId": "625dae7f-c484-479d-e7ac-4172e1423820"
      },
      "outputs": [
        {
          "output_type": "display_data",
          "data": {
            "text/plain": [
              "<Figure size 648x252 with 2 Axes>"
            ],
            "image/png": "[encoded data removed]"
          },
          "metadata": {
            "needs_background": "light"
          }
        }
      ],
      "source": [
        "plt.figure(figsize=(9, 3.5))\n",
        "plt.subplot(121)\n",
        "plot_model(Lasso, polynomial=False, alphas=(0, 0.1, 1), random_state=42)\n",
        "plt.ylabel(\"$y$  \", rotation=0)\n",
        "plt.title('Lasso linear regression fit')\n",
        "plt.subplot(122)\n",
        "plot_model(Lasso, polynomial=True, alphas=(0, 1e-2, 1), random_state=42)\n",
        "plt.gca().axes.yaxis.set_ticklabels([])\n",
        "plt.title('Lasso polynomial regression fit')\n",
        "plt.show()\n"
      ]
    },
    {
      "cell_type": "markdown",
      "id": "4bcc1e7b",
      "metadata": {
        "id": "4bcc1e7b"
      },
      "source": [
        "## Elastic Net"
      ]
    },
    {
      "cell_type": "code",
      "execution_count": null,
      "id": "8815fa73",
      "metadata": {
        "colab": {
          "base_uri": "https://localhost:8080/"
        },
        "id": "8815fa73",
        "outputId": "d05674a8-83e8-47ef-9494-29e9b32f4f7e"
      },
      "outputs": [
        {
          "output_type": "execute_result",
          "data": {
            "text/plain": [
              "array([1.54333232])"
            ]
          },
          "metadata": {},
          "execution_count": 37
        }
      ],
      "source": [
        "elastic_net = ElasticNet(alpha=0.1, l1_ratio=0.5)\n",
        "elastic_net.fit(X, y)\n",
        "elastic_net.predict([[1.5]])"
      ]
    },
    {
      "cell_type": "markdown",
      "id": "e595fb80",
      "metadata": {
        "id": "e595fb80"
      },
      "source": [
        "## Logistic Regression"
      ]
    },
    {
      "cell_type": "code",
      "execution_count": null,
      "id": "cc42bbfe",
      "metadata": {
        "colab": {
          "base_uri": "https://localhost:8080/",
          "height": 241
        },
        "id": "cc42bbfe",
        "outputId": "1bbe70d4-bdef-48d8-e3d9-71fe67a1d98f"
      },
      "outputs": [
        {
          "output_type": "display_data",
          "data": {
            "text/plain": [
              "<Figure size 576x216 with 1 Axes>"
            ],
            "image/png": "[encoded data removed]"
          },
          "metadata": {
            "needs_background": "light"
          }
        }
      ],
      "source": [
        "# Estimating Probabilities\n",
        "# Logistic Function Plot\n",
        "\n",
        "lim = 6\n",
        "t = np.linspace(-lim, lim, 100)\n",
        "sig = 1 / (1 + np.exp(-t))\n",
        "\n",
        "plt.figure(figsize=(8, 3))\n",
        "plt.plot([-lim, lim], [0, 0], \"k-\")\n",
        "plt.plot([-lim, lim], [0.5, 0.5], \"k:\")\n",
        "plt.plot([-lim, lim], [1, 1], \"k:\")\n",
        "plt.plot([0, 0], [-1.1, 1.1], \"k-\")\n",
        "plt.plot(t, sig, \"b-\", linewidth=2, label=r\"$\\sigma(t) = \\dfrac{1}{1 + e^{-t}}$\")\n",
        "plt.xlabel(\"t\")\n",
        "plt.legend(loc=\"upper left\")\n",
        "plt.axis([-lim, lim, -0.1, 1.1])\n",
        "plt.gca().set_yticks([0, 0.25, 0.5, 0.75, 1])\n",
        "plt.title('Logistic function')\n",
        "plt.grid()\n",
        "plt.show()"
      ]
    },
    {
      "cell_type": "markdown",
      "source": [
        "## Metrics for Regression\n"
      ],
      "metadata": {
        "id": "MlrS3Wh6BrpI"
      },
      "id": "MlrS3Wh6BrpI"
    },
    {
      "cell_type": "code",
      "source": [
        "# example of increase in mean squared error\n",
        "\n",
        "from matplotlib import pyplot\n",
        "from sklearn.metrics import mean_squared_error\n",
        "# real value\n",
        "expected = [1.0, 1.0, 1.0, 1.0, 1.0, 1.0, 1.0, 1.0, 1.0, 1.0, 1.0]\n",
        "# predicted value\n",
        "predicted = [1.0, 0.9, 0.8, 0.7, 0.6, 0.5, 0.4, 0.3, 0.2, 0.1, 0.0]\n",
        "# calculate errors\n",
        "errors = list()\n",
        "for i in range(len(expected)):\n",
        "\t# calculate error\n",
        "\terr = (expected[i] - predicted[i])**2\n",
        "\t# store error\n",
        "\terrors.append(err)\n",
        "\t# report error\n",
        "\tprint('>%.1f, %.1f = %.3f' % (expected[i], predicted[i], err))\n",
        "# plot errors\n",
        "pyplot.plot(errors)\n",
        "pyplot.xticks(ticks=[i for i in range(len(errors))], labels=predicted)\n",
        "pyplot.xlabel('Predicted Value')\n",
        "pyplot.ylabel('Mean Squared Error')\n",
        "pyplot.show()"
      ],
      "metadata": {
        "colab": {
          "base_uri": "https://localhost:8080/",
          "height": 482
        },
        "id": "SQzaBfEOBvoF",
        "outputId": "e4b81d5f-a6c2-4577-9971-aa00b0156d00"
      },
      "id": "SQzaBfEOBvoF",
      "execution_count": null,
      "outputs": [
        {
          "output_type": "stream",
          "name": "stdout",
          "text": [
            ">1.0, 1.0 = 0.000\n",
            ">1.0, 0.9 = 0.010\n",
            ">1.0, 0.8 = 0.040\n",
            ">1.0, 0.7 = 0.090\n",
            ">1.0, 0.6 = 0.160\n",
            ">1.0, 0.5 = 0.250\n",
            ">1.0, 0.4 = 0.360\n",
            ">1.0, 0.3 = 0.490\n",
            ">1.0, 0.2 = 0.640\n",
            ">1.0, 0.1 = 0.810\n",
            ">1.0, 0.0 = 1.000\n"
          ]
        },
        {
          "output_type": "display_data",
          "data": {
            "text/plain": [
              "<Figure size 432x288 with 1 Axes>"
            ],
            "image/png": "[encoded data removed]"
          },
          "metadata": {
            "needs_background": "light"
          }
        }
      ]
    },
    {
      "cell_type": "code",
      "source": [
        "# example of calculate the root mean squared error\n",
        "\n",
        "from sklearn.metrics import mean_squared_error\n",
        "# real value\n",
        "expected = [1.0, 1.0, 1.0, 1.0, 1.0, 1.0, 1.0, 1.0, 1.0, 1.0, 1.0]\n",
        "# predicted value\n",
        "predicted = [1.0, 0.9, 0.8, 0.7, 0.6, 0.5, 0.4, 0.3, 0.2, 0.1, 0.0]\n",
        "# calculate errors\n",
        "errors = mean_squared_error(expected, predicted, squared=False)\n",
        "# report error\n",
        "print(errors)"
      ],
      "metadata": {
        "colab": {
          "base_uri": "https://localhost:8080/"
        },
        "id": "eya0jNxaCOTb",
        "outputId": "50c7991b-a09f-4b3b-dcfc-4d144370c0f5"
      },
      "id": "eya0jNxaCOTb",
      "execution_count": null,
      "outputs": [
        {
          "output_type": "stream",
          "name": "stdout",
          "text": [
            "0.5916079783099616\n"
          ]
        }
      ]
    },
    {
      "cell_type": "code",
      "source": [
        "# plot of the increase of mean absolute error with prediction error\n",
        "\n",
        "from matplotlib import pyplot\n",
        "from sklearn.metrics import mean_squared_error\n",
        "# real value\n",
        "expected = [1.0, 1.0, 1.0, 1.0, 1.0, 1.0, 1.0, 1.0, 1.0, 1.0, 1.0]\n",
        "# predicted value\n",
        "predicted = [1.0, 0.9, 0.8, 0.7, 0.6, 0.5, 0.4, 0.3, 0.2, 0.1, 0.0]\n",
        "# calculate errors\n",
        "errors = list()\n",
        "for i in range(len(expected)):\n",
        "\t# calculate error\n",
        "\terr = abs((expected[i] - predicted[i]))\n",
        "\t# store error\n",
        "\terrors.append(err)\n",
        "\t# report error\n",
        "\tprint('>%.1f, %.1f = %.3f' % (expected[i], predicted[i], err))\n",
        "# plot errors\n",
        "pyplot.plot(errors)\n",
        "pyplot.xticks(ticks=[i for i in range(len(errors))], labels=predicted)\n",
        "pyplot.xlabel('Predicted Value')\n",
        "pyplot.ylabel('Mean Absolute Error')\n",
        "pyplot.show()\n"
      ],
      "metadata": {
        "colab": {
          "base_uri": "https://localhost:8080/",
          "height": 482
        },
        "id": "a90Juv2-CoKy",
        "outputId": "0a7c5a87-eeb8-43a7-ee7a-c9002b01b39c"
      },
      "id": "a90Juv2-CoKy",
      "execution_count": null,
      "outputs": [
        {
          "output_type": "stream",
          "name": "stdout",
          "text": [
            ">1.0, 1.0 = 0.000\n",
            ">1.0, 0.9 = 0.100\n",
            ">1.0, 0.8 = 0.200\n",
            ">1.0, 0.7 = 0.300\n",
            ">1.0, 0.6 = 0.400\n",
            ">1.0, 0.5 = 0.500\n",
            ">1.0, 0.4 = 0.600\n",
            ">1.0, 0.3 = 0.700\n",
            ">1.0, 0.2 = 0.800\n",
            ">1.0, 0.1 = 0.900\n",
            ">1.0, 0.0 = 1.000\n"
          ]
        },
        {
          "output_type": "display_data",
          "data": {
            "text/plain": [
              "<Figure size 432x288 with 1 Axes>"
            ],
            "image/png": "[encoded data removed]"
          },
          "metadata": {
            "needs_background": "light"
          }
        }
      ]
    },
    {
      "cell_type": "code",
      "source": [
        "# example of calculate the mean absolute error\n",
        "from sklearn.metrics import mean_absolute_error\n",
        "# real value\n",
        "expected = [1.0, 1.0, 1.0, 1.0, 1.0, 1.0, 1.0, 1.0, 1.0, 1.0, 1.0]\n",
        "# predicted value\n",
        "predicted = [1.0, 0.9, 0.8, 0.7, 0.6, 0.5, 0.4, 0.3, 0.2, 0.1, 0.0]\n",
        "# calculate errors\n",
        "errors = mean_absolute_error(expected, predicted)\n",
        "# report error\n",
        "print(errors)\n"
      ],
      "metadata": {
        "colab": {
          "base_uri": "https://localhost:8080/"
        },
        "id": "G-Fl0A9SDAXn",
        "outputId": "5b922c7e-aaa7-4490-fdf2-9b291e68da38"
      },
      "id": "G-Fl0A9SDAXn",
      "execution_count": null,
      "outputs": [
        {
          "output_type": "stream",
          "name": "stdout",
          "text": [
            "0.5\n"
          ]
        }
      ]
    },
    {
      "cell_type": "code",
      "source": [
        "from sklearn.metrics import r2_score\n",
        "\n",
        "y_true = [3, -0.5, 2, 7]\n",
        "y_pred = [2.5, 0.0, 2, 8]\n",
        "print('1. ', r2_score(y_true, y_pred))\n",
        "\n",
        "y_true = [[0.5, 1], [-1, 1], [7, -6]]\n",
        "y_pred = [[0, 2], [-1, 2], [8, -5]]\n",
        "print('2. ',r2_score(y_true, y_pred,\n",
        "         multioutput='variance_weighted'))\n",
        "\n",
        "y_true = [1, 2, 3]\n",
        "y_pred = [1, 2, 3]\n",
        "print('3. ', r2_score(y_true, y_pred))\n",
        "\n",
        "y_true = [1, 2, 3]\n",
        "y_pred = [2, 2, 2]\n",
        "print('4. ', r2_score(y_true, y_pred))\n",
        "\n",
        "y_true = [1, 2, 3]\n",
        "y_pred = [3, 2, 1]\n",
        "print('5. ', r2_score(y_true, y_pred))\n",
        "\n",
        "y_true = [-2, -2, -2]\n",
        "y_pred = [-2, -2, -2]\n",
        "print('6. ', r2_score(y_true, y_pred))\n",
        "\n",
        "\n",
        "y_true = [-2, -2, -2]\n",
        "y_pred = [-2, -2, -2 + 1e-8]\n",
        "print('7. ', r2_score(y_true, y_pred))\n",
        "\n"
      ],
      "metadata": {
        "colab": {
          "base_uri": "https://localhost:8080/"
        },
        "id": "uzOtTAEzDXq7",
        "outputId": "2407de75-cc7f-4a38-8a60-739a36a5c07f"
      },
      "id": "uzOtTAEzDXq7",
      "execution_count": null,
      "outputs": [
        {
          "output_type": "stream",
          "name": "stdout",
          "text": [
            "1.  0.9486081370449679\n",
            "2.  0.9382566585956417\n",
            "3.  1.0\n",
            "4.  0.0\n",
            "5.  -3.0\n",
            "6.  1.0\n",
            "7.  0.0\n"
          ]
        }
      ]
    },
    {
      "cell_type": "code",
      "source": [
        "from sklearn.metrics import mean_absolute_error\n",
        "\n",
        "y_true = [3, -0.5, 2, 7]\n",
        "y_pred = [2.5, 0.0, 2, 8]\n",
        "print('1. ', mean_absolute_error(y_true, y_pred))\n",
        "\n",
        "y_true = [[0.5, 1], [-1, 1], [7, -6]]\n",
        "y_pred = [[0, 2], [-1, 2], [8, -5]]\n",
        "print('2. ',mean_absolute_error(y_true, y_pred))\n",
        "\n",
        "print('3. ', mean_absolute_error(y_true, y_pred, multioutput='raw_values'))\n",
        "\n",
        "print('4. ', mean_absolute_error(y_true, y_pred, multioutput=[0.3, 0.7]))\n"
      ],
      "metadata": {
        "colab": {
          "base_uri": "https://localhost:8080/"
        },
        "id": "B0Yt9F-CETQr",
        "outputId": "3ebedc2a-7bb8-4f49-b805-16a24c11781c"
      },
      "id": "B0Yt9F-CETQr",
      "execution_count": null,
      "outputs": [
        {
          "output_type": "stream",
          "name": "stdout",
          "text": [
            "1.  0.5\n",
            "2.  0.75\n",
            "3.  [0.5 1. ]\n",
            "4.  0.85\n"
          ]
        }
      ]
    },
    {
      "cell_type": "code",
      "source": [
        "from sklearn.metrics import mean_squared_error\n",
        "\n",
        "y_true = [3, -0.5, 2, 7]\n",
        "y_pred = [2.5, 0.0, 2, 8]\n",
        "print('1. ', mean_squared_error(y_true, y_pred))\n",
        "\n",
        "y_true = [3, -0.5, 2, 7]\n",
        "y_pred = [2.5, 0.0, 2, 8]\n",
        "print('2. ',mean_squared_error(y_true, y_pred, squared=False))\n",
        "\n",
        "y_true = [[0.5, 1],[-1, 1],[7, -6]]\n",
        "y_pred = [[0, 2],[-1, 2],[8, -5]]\n",
        "print('3. ', mean_squared_error(y_true, y_pred))\n",
        "\n",
        "print('4. ', mean_squared_error(y_true, y_pred, squared=False))\n",
        "\n",
        "print('5. ',mean_squared_error(y_true, y_pred, multioutput='raw_values'))\n",
        "\n",
        "print('6. ', mean_squared_error(y_true, y_pred, multioutput=[0.3, 0.7]))\n"
      ],
      "metadata": {
        "colab": {
          "base_uri": "https://localhost:8080/"
        },
        "id": "scS8gpNsGAmT",
        "outputId": "b840b8b1-d9b3-4260-d901-be0f7806be60"
      },
      "id": "scS8gpNsGAmT",
      "execution_count": null,
      "outputs": [
        {
          "output_type": "stream",
          "name": "stdout",
          "text": [
            "1.  0.375\n",
            "2.  0.6123724356957945\n",
            "3.  0.7083333333333334\n",
            "4.  0.8227486121839513\n",
            "5.  [0.41666667 1.        ]\n",
            "6.  0.825\n"
          ]
        }
      ]
    },
    {
      "cell_type": "code",
      "source": [
        "from sklearn.metrics import mean_absolute_percentage_error\n",
        "\n",
        "y_true = [3, -0.5, 2, 7]\n",
        "y_pred = [2.5, 0.0, 2, 8]\n",
        "print('1. ',mean_absolute_percentage_error(y_true, y_pred))\n",
        "\n",
        "y_true = [[0.5, 1], [-1, 1], [7, -6]]\n",
        "y_pred = [[0, 2], [-1, 2], [8, -5]]\n",
        "print('2. ', mean_absolute_percentage_error(y_true, y_pred))\n",
        "\n",
        "print('3. ', mean_absolute_percentage_error(y_true, y_pred, multioutput=[0.3, 0.7]))\n",
        "\n",
        "# the value when some element of the y_true is zero is arbitrarily high because\n",
        "# of the division by epsilon\n",
        "y_true = [1., 0., 2.4, 7.]\n",
        "y_pred = [1.2, 0.1, 2.4, 8.]\n",
        "print('4. ', mean_absolute_percentage_error(y_true, y_pred))\n"
      ],
      "metadata": {
        "colab": {
          "base_uri": "https://localhost:8080/"
        },
        "id": "f012HOO2GjkU",
        "outputId": "7a6837cc-aa87-46ce-e870-e21da7d455e5"
      },
      "id": "f012HOO2GjkU",
      "execution_count": null,
      "outputs": [
        {
          "output_type": "stream",
          "name": "stdout",
          "text": [
            "1.  0.3273809523809524\n",
            "2.  0.5515873015873016\n",
            "3.  0.6198412698412699\n",
            "4.  112589990684262.48\n"
          ]
        }
      ]
    },
    {
      "cell_type": "code",
      "source": [
        "from sklearn.metrics import median_absolute_error\n",
        "\n",
        "y_true = [3, -0.5, 2, 7]\n",
        "y_pred = [2.5, 0.0, 2, 8]\n",
        "print('1. ', median_absolute_error(y_true, y_pred))\n",
        "\n",
        "y_true = [[0.5, 1], [-1, 1], [7, -6]]\n",
        "y_pred = [[0, 2], [-1, 2], [8, -5]]\n",
        "print('2. ', median_absolute_error(y_true, y_pred))\n",
        "\n",
        "print('3. ', median_absolute_error(y_true, y_pred, multioutput='raw_values'))\n",
        "\n",
        "print('4. ', median_absolute_error(y_true, y_pred, multioutput=[0.3, 0.7]))\n"
      ],
      "metadata": {
        "colab": {
          "base_uri": "https://localhost:8080/"
        },
        "id": "CsFEfXNbHJuF",
        "outputId": "b15bfc32-df74-4f5d-8982-517a3946b260"
      },
      "id": "CsFEfXNbHJuF",
      "execution_count": null,
      "outputs": [
        {
          "output_type": "stream",
          "name": "stdout",
          "text": [
            "1.  0.5\n",
            "2.  0.75\n",
            "3.  [0.5 1. ]\n",
            "4.  0.85\n"
          ]
        }
      ]
    },
    {
      "cell_type": "code",
      "source": [
        "from sklearn.metrics import max_error\n",
        "\n",
        "y_true = [3, 2, 7, 1]\n",
        "y_pred = [5, 2, 7, 1]\n",
        "max_error(y_true, y_pred)\n"
      ],
      "metadata": {
        "colab": {
          "base_uri": "https://localhost:8080/"
        },
        "id": "VKuEljlOHkW_",
        "outputId": "2b70ab98-a898-4160-d3e5-76963581b166"
      },
      "id": "VKuEljlOHkW_",
      "execution_count": null,
      "outputs": [
        {
          "output_type": "execute_result",
          "data": {
            "text/plain": [
              "2"
            ]
          },
          "metadata": {},
          "execution_count": 58
        }
      ]
    },
    {
      "cell_type": "code",
      "source": [],
      "metadata": {
        "id": "WtmqN_5YIcIZ"
      },
      "id": "WtmqN_5YIcIZ",
      "execution_count": null,
      "outputs": []
    }
  ],
  "metadata": {
    "kernelspec": {
      "display_name": "Python 3 (ipykernel)",
      "language": "python",
      "name": "python3"
    },
    "language_info": {
      "codemirror_mode": {
        "name": "ipython",
        "version": 3
      },
      "file_extension": ".py",
      "mimetype": "text/x-python",
      "name": "python",
      "nbconvert_exporter": "python",
      "pygments_lexer": "ipython3",
      "version": "3.10.9"
    },
    "colab": {
      "provenance": [],
      "include_colab_link": true
    }
  },
  "nbformat": 4,
  "nbformat_minor": 5
}