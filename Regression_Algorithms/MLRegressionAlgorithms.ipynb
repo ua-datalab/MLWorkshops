{
  "cells": [
    {
      "cell_type": "markdown",
      "metadata": {
        "id": "view-in-github",
        "colab_type": "text"
      },
      "source": [
        "<a href=\"https://colab.research.google.com/github/ua-datalab/MLWorkshops/blob/main/Regression_Algorithms/MLRegressionAlgorithms.ipynb\" target=\"_parent\"><img src=\"https://colab.research.google.com/assets/colab-badge.svg\" alt=\"Open In Colab\"/></a>"
      ]
    },
    {
      "cell_type": "markdown",
      "source": [
        "# Classical Machine Learning: Regression Algorithms.\n",
        "\n",
        "**Jupyter Notebook Example for notes on [Supervised ML:  Regression](https://github.com/ua-datalab/MLWorkshops/wiki/Supervised-ML:-Regression-Algorithms)**\n",
        "\n",
        "(Updated: 02/04/2025, Carlos Lizárraga. [UArizona DataLab](https://ua-datalab.github.io/))\n",
        "\n",
        "***\n",
        "\n",
        "Regression analysis is the process of estimating the relationship between a dependent variable and independent variables."
      ],
      "metadata": {
        "id": "PG732HC_cxCy"
      },
      "id": "PG732HC_cxCy"
    },
    {
      "cell_type": "markdown",
      "source": [
        "We load all the required libraries"
      ],
      "metadata": {
        "id": "Rcju0_-EmzQL"
      },
      "id": "Rcju0_-EmzQL"
    },
    {
      "cell_type": "code",
      "execution_count": 1,
      "id": "47bdc9cd",
      "metadata": {
        "id": "47bdc9cd"
      },
      "outputs": [],
      "source": [
        "import numpy as np\n",
        "import matplotlib.pyplot as plt\n",
        "import matplotlib as mpl\n",
        "\n",
        "from sklearn.preprocessing import add_dummy_feature\n",
        "\n",
        "from sklearn.linear_model import LinearRegression\n",
        "from sklearn.linear_model import SGDRegressor\n",
        "from sklearn.preprocessing import PolynomialFeatures\n",
        "from sklearn.linear_model import Ridge\n",
        "from sklearn.linear_model import Lasso\n",
        "from sklearn.linear_model import ElasticNet\n",
        "\n",
        "from sklearn.preprocessing import StandardScaler\n",
        "from sklearn.pipeline import make_pipeline\n"
      ]
    },
    {
      "cell_type": "markdown",
      "id": "03ba8cfe",
      "metadata": {
        "id": "03ba8cfe"
      },
      "source": [
        "## Linear Regression\n"
      ]
    },
    {
      "cell_type": "code",
      "execution_count": 2,
      "id": "6f9682cd",
      "metadata": {
        "id": "6f9682cd"
      },
      "outputs": [],
      "source": [
        "# Generate a collection of random points around a line y= 4 + 3*x\n",
        "np.random.seed(42)  # to make this code example reproducible\n",
        "m = 100  # number of instances\n",
        "X = 2 * np.random.rand(m, 1)  # column vector\n",
        "y = 4 + 3 * X + np.random.randn(m, 1)  # column vector\n"
      ]
    },
    {
      "cell_type": "code",
      "execution_count": 3,
      "id": "5f0d3ee8",
      "metadata": {
        "colab": {
          "base_uri": "https://localhost:8080/",
          "height": 411
        },
        "id": "5f0d3ee8",
        "outputId": "ce056d80-6cb1-40c4-f403-2c567c474f20"
      },
      "outputs": [
        {
          "output_type": "display_data",
          "data": {
            "text/plain": [
              "<Figure size 600x400 with 1 Axes>"
            ],
            "image/png": "[encoded data removed]"
          },
          "metadata": {}
        }
      ],
      "source": [
        "# Plot previous generated data\n",
        "plt.figure(figsize=(6, 4))\n",
        "plt.plot(X, y, \"b.\")\n",
        "plt.xlabel(\"$x_1$\")\n",
        "plt.ylabel(\"$y$\", rotation=0)\n",
        "plt.title('Random set of points')\n",
        "plt.axis([0, 2, 0, 15])\n",
        "plt.grid()\n",
        "plt.show()\n"
      ]
    },
    {
      "cell_type": "code",
      "execution_count": 4,
      "id": "24009594",
      "metadata": {
        "colab": {
          "base_uri": "https://localhost:8080/"
        },
        "id": "24009594",
        "outputId": "2068dc73-1e91-4057-fda1-226dec96f6a9"
      },
      "outputs": [
        {
          "output_type": "execute_result",
          "data": {
            "text/plain": [
              "array([[4.21509616],\n",
              "       [2.77011339]])"
            ]
          },
          "metadata": {},
          "execution_count": 4
        }
      ],
      "source": [
        "# Using Linear Algebra to solve the best parameters (Intersection & Slope)\n",
        "X_b = add_dummy_feature(X)  # add x0 = 1 to each instance\n",
        "theta_best = np.linalg.inv(X_b.T @ X_b) @ X_b.T @ y\n",
        "theta_best\n"
      ]
    },
    {
      "cell_type": "code",
      "execution_count": 5,
      "id": "a832f4bb",
      "metadata": {
        "colab": {
          "base_uri": "https://localhost:8080/"
        },
        "id": "a832f4bb",
        "outputId": "106140de-a7ce-403c-9490-871488b58a88"
      },
      "outputs": [
        {
          "output_type": "execute_result",
          "data": {
            "text/plain": [
              "array([[4.21509616],\n",
              "       [9.75532293]])"
            ]
          },
          "metadata": {},
          "execution_count": 5
        }
      ],
      "source": [
        "# Predict y values for X=0 and 2\n",
        "X_new = np.array([[0], [2]])\n",
        "X_new_b = add_dummy_feature(X_new)  # add x0 = 1 to each instance\n",
        "y_predict = X_new_b @ theta_best\n",
        "y_predict\n"
      ]
    },
    {
      "cell_type": "code",
      "execution_count": 6,
      "id": "7bc560e9",
      "metadata": {
        "colab": {
          "base_uri": "https://localhost:8080/",
          "height": 411
        },
        "id": "7bc560e9",
        "outputId": "990c78fd-6eb8-40af-e170-cbe4c1f06a84"
      },
      "outputs": [
        {
          "output_type": "display_data",
          "data": {
            "text/plain": [
              "<Figure size 600x400 with 1 Axes>"
            ],
            "image/png": "[encoded data removed]"
          },
          "metadata": {}
        }
      ],
      "source": [
        "# Plot predicted linear function\n",
        "plt.figure(figsize=(6, 4))  # extra code – not needed, just formatting\n",
        "plt.plot(X_new, y_predict, \"r-\", label=\"Predictions\")\n",
        "plt.plot(X, y, \"b.\")\n",
        "\n",
        "# extra code – beautifies\n",
        "plt.xlabel(\"$x_1$\")\n",
        "plt.ylabel(\"$y$\", rotation=0)\n",
        "plt.axis([0, 2, 0, 15])\n",
        "plt.grid()\n",
        "plt.legend(loc=\"upper left\")\n",
        "plt.title('Linear fit')\n",
        "plt.show()\n"
      ]
    },
    {
      "cell_type": "markdown",
      "source": [
        "### Using Scikit-learn: [Linear Regression Algorithm](https://scikit-learn.org/stable/modules/generated/sklearn.linear_model.LinearRegression.html#sklearn.linear_model.LinearRegression)"
      ],
      "metadata": {
        "id": "-M54zqPqTIiH"
      },
      "id": "-M54zqPqTIiH"
    },
    {
      "cell_type": "code",
      "execution_count": 7,
      "id": "2b8d1554",
      "metadata": {
        "colab": {
          "base_uri": "https://localhost:8080/"
        },
        "id": "2b8d1554",
        "outputId": "97dd04c1-8ebb-46ff-d69c-d4738bd9c5c1"
      },
      "outputs": [
        {
          "output_type": "execute_result",
          "data": {
            "text/plain": [
              "(array([4.21509616]), array([[2.77011339]]))"
            ]
          },
          "metadata": {},
          "execution_count": 7
        }
      ],
      "source": [
        "# Now use Linear Regression Algorithm\n",
        "# Will return the intercept and slope\n",
        "\n",
        "lin_reg = LinearRegression()\n",
        "lin_reg.fit(X, y)\n",
        "lin_reg.intercept_, lin_reg.coef_\n"
      ]
    },
    {
      "cell_type": "code",
      "execution_count": 8,
      "id": "78986699",
      "metadata": {
        "colab": {
          "base_uri": "https://localhost:8080/"
        },
        "id": "78986699",
        "outputId": "3527c41e-38b1-4cc4-8f17-ae1159d371b5"
      },
      "outputs": [
        {
          "output_type": "execute_result",
          "data": {
            "text/plain": [
              "array([[4.21509616],\n",
              "       [9.75532293]])"
            ]
          },
          "metadata": {},
          "execution_count": 8
        }
      ],
      "source": [
        "# Predict again y values for X=0 and 2.\n",
        "lin_reg.predict(X_new)\n"
      ]
    },
    {
      "cell_type": "markdown",
      "source": [
        "### Old way: [Numpy Linear Algebra Least Squares Method](https://numpy.org/doc/stable/reference/generated/numpy.linalg.lstsq.html)"
      ],
      "metadata": {
        "id": "9X43rISbT3-A"
      },
      "id": "9X43rISbT3-A"
    },
    {
      "cell_type": "code",
      "execution_count": 9,
      "id": "518040f5",
      "metadata": {
        "colab": {
          "base_uri": "https://localhost:8080/"
        },
        "id": "518040f5",
        "outputId": "44639251-366e-42f1-d1bf-564c7b3d8966"
      },
      "outputs": [
        {
          "output_type": "execute_result",
          "data": {
            "text/plain": [
              "array([[4.21509616],\n",
              "       [2.77011339]])"
            ]
          },
          "metadata": {},
          "execution_count": 9
        }
      ],
      "source": [
        "# Old way: using Least Squares fit for finding intercept and slope\n",
        "theta_best_svd, residuals, rank, s = np.linalg.lstsq(X_b, y, rcond=1e-6)\n",
        "theta_best_svd\n"
      ]
    },
    {
      "cell_type": "markdown",
      "source": [
        "### Using Linear Algebra to solve linear equation.\n",
        "\n",
        "Want to solve the linear equation for\n",
        "\n",
        "\\begin{eqnarray}\n",
        "X_{b} = ( b \\, m) \\,\\, & \\rm{and} & \\, \\,\n",
        "X = \\begin{pmatrix} 1  \\\\ x \\end{pmatrix}   \\\\\n",
        "y = b + m x & = &  (b \\,\\, m) (1 \\,\\,  x)^{T} = X_{b} X    \\\\\n",
        "X_{b}^{-1} y  & = &  (X_{b}^{-1} X_{b}) \\,  X  = X\\\\\n",
        "X & = & X_{b}^{-1} y\n",
        "\\end{eqnarray}"
      ],
      "metadata": {
        "id": "UrbWxoI3ufzd"
      },
      "id": "UrbWxoI3ufzd"
    },
    {
      "cell_type": "code",
      "execution_count": 10,
      "id": "2ea78899",
      "metadata": {
        "colab": {
          "base_uri": "https://localhost:8080/"
        },
        "id": "2ea78899",
        "outputId": "99572410-65dc-4dfb-a771-3b8e06f00481"
      },
      "outputs": [
        {
          "output_type": "execute_result",
          "data": {
            "text/plain": [
              "array([[4.21509616],\n",
              "       [2.77011339]])"
            ]
          },
          "metadata": {},
          "execution_count": 10
        }
      ],
      "source": [
        "np.linalg.pinv(X_b) @ y"
      ]
    },
    {
      "cell_type": "markdown",
      "id": "4e3f5353",
      "metadata": {
        "id": "4e3f5353"
      },
      "source": [
        "## Gradient Descent Method"
      ]
    },
    {
      "cell_type": "code",
      "execution_count": null,
      "id": "079b1e4a",
      "metadata": {
        "id": "079b1e4a"
      },
      "outputs": [],
      "source": [
        "eta = 0.1  # learning rate\n",
        "n_epochs = 1000\n",
        "m = len(X_b)  # number of instances\n",
        "\n",
        "np.random.seed(42)\n",
        "theta = np.random.randn(2, 1)  # randomly initialized model parameters\n",
        "\n",
        "for epoch in range(n_epochs):\n",
        "    gradients = 2 / m * X_b.T @ (X_b @ theta - y)\n",
        "    theta = theta - eta * gradients\n"
      ]
    },
    {
      "cell_type": "code",
      "execution_count": null,
      "id": "5ef47f9f",
      "metadata": {
        "colab": {
          "base_uri": "https://localhost:8080/"
        },
        "id": "5ef47f9f",
        "outputId": "502ab077-cc0c-42ad-a2a8-6eb1792d75bd"
      },
      "outputs": [
        {
          "output_type": "execute_result",
          "data": {
            "text/plain": [
              "array([[4.21509616],\n",
              "       [2.77011339]])"
            ]
          },
          "metadata": {},
          "execution_count": 15
        }
      ],
      "source": [
        "# Trained model parameters\n",
        "theta\n"
      ]
    },
    {
      "cell_type": "markdown",
      "source": [
        "### Plot the Gradient descent method approximation"
      ],
      "metadata": {
        "id": "xYJWg2mxSPWg"
      },
      "id": "xYJWg2mxSPWg"
    },
    {
      "cell_type": "code",
      "execution_count": null,
      "id": "68d11cc5",
      "metadata": {
        "id": "68d11cc5"
      },
      "outputs": [],
      "source": [
        "theta_path_sgd = []  # extra code – we need to store the path of theta in the\n",
        "                     #              parameter space to plot the next figure"
      ]
    },
    {
      "cell_type": "code",
      "execution_count": null,
      "id": "37d97ba8",
      "metadata": {
        "colab": {
          "base_uri": "https://localhost:8080/",
          "height": 297
        },
        "id": "37d97ba8",
        "outputId": "ae8baa9d-1771-4e60-f961-83c7bdf1eb05"
      },
      "outputs": [
        {
          "output_type": "display_data",
          "data": {
            "text/plain": [
              "<Figure size 432x288 with 1 Axes>"
            ],
            "image/png": "[encoded data removed]"
          },
          "metadata": {
            "needs_background": "light"
          }
        }
      ],
      "source": [
        "n_epochs = 50\n",
        "t0, t1 = 5, 50  # learning schedule hyperparameters\n",
        "\n",
        "def learning_schedule(t):\n",
        "    return t0 / (t + t1)\n",
        "\n",
        "np.random.seed(42)\n",
        "theta = np.random.randn(2, 1)  # random initialization\n",
        "\n",
        "n_shown = 20  # extra code – just needed to generate the figure below\n",
        "plt.figure(figsize=(6, 4))  # extra code – not needed, just formatting\n",
        "\n",
        "for epoch in range(n_epochs):\n",
        "    for iteration in range(m):\n",
        "\n",
        "        # extra code – these 4 lines are used to generate the figure\n",
        "        if epoch == 0 and iteration < n_shown:\n",
        "            y_predict = X_new_b @ theta\n",
        "            color = mpl.colors.rgb2hex(plt.cm.OrRd(iteration / n_shown + 0.15))\n",
        "            plt.plot(X_new, y_predict, color=color)\n",
        "\n",
        "        random_index = np.random.randint(m)\n",
        "        xi = X_b[random_index : random_index + 1]\n",
        "        yi = y[random_index : random_index + 1]\n",
        "        gradients = 2 * xi.T @ (xi @ theta - yi)  # for SGD, do not divide by m\n",
        "        eta = learning_schedule(epoch * m + iteration)\n",
        "        theta = theta - eta * gradients\n",
        "        theta_path_sgd.append(theta)  # extra code – to generate the figure\n",
        "\n",
        "# extra code – this section beautifies figure\n",
        "plt.plot(X, y, \"b.\")\n",
        "plt.xlabel(\"$x_1$\")\n",
        "plt.ylabel(\"$y$\", rotation=0)\n",
        "plt.title('Gradient Descent fit')\n",
        "plt.axis([0, 2, 0, 15])\n",
        "plt.grid()\n",
        "plt.show()\n"
      ]
    },
    {
      "cell_type": "code",
      "execution_count": null,
      "id": "90d26203",
      "metadata": {
        "colab": {
          "base_uri": "https://localhost:8080/"
        },
        "id": "90d26203",
        "outputId": "6d303d98-9426-4cc2-d42f-74025a595d65"
      },
      "outputs": [
        {
          "output_type": "execute_result",
          "data": {
            "text/plain": [
              "array([[4.21076011],\n",
              "       [2.74856079]])"
            ]
          },
          "metadata": {},
          "execution_count": 18
        }
      ],
      "source": [
        "# Found parameters: Intercept & Slope\n",
        "theta\n"
      ]
    },
    {
      "cell_type": "markdown",
      "source": [
        "### Using Scikit-learn: [ SDGRegressor Algorithm](https://scikit-learn.org/stable/modules/generated/sklearn.linear_model.SGDRegressor.html)\n"
      ],
      "metadata": {
        "id": "6_FRGZndSlw_"
      },
      "id": "6_FRGZndSlw_"
    },
    {
      "cell_type": "code",
      "execution_count": 12,
      "id": "b2a1bdd6",
      "metadata": {
        "colab": {
          "base_uri": "https://localhost:8080/",
          "height": 79
        },
        "id": "b2a1bdd6",
        "outputId": "d4c7770c-2d6a-4104-cfe0-37ddf54650bf"
      },
      "outputs": [
        {
          "output_type": "execute_result",
          "data": {
            "text/plain": [
              "SGDRegressor(n_iter_no_change=100, penalty=None, random_state=42, tol=1e-05)"
            ],
            "text/html": [
              "<style>#sk-container-id-1 {\n",
              "  /* Definition of color scheme common for light and dark mode */\n",
              "  --sklearn-color-text: #000;\n",
              "  --sklearn-color-text-muted: #666;\n",
              "  --sklearn-color-line: gray;\n",
              "  /* Definition of color scheme for unfitted estimators */\n",
              "  --sklearn-color-unfitted-level-0: #fff5e6;\n",
              "  --sklearn-color-unfitted-level-1: #f6e4d2;\n",
              "  --sklearn-color-unfitted-level-2: #ffe0b3;\n",
              "  --sklearn-color-unfitted-level-3: chocolate;\n",
              "  /* Definition of color scheme for fitted estimators */\n",
              "  --sklearn-color-fitted-level-0: #f0f8ff;\n",
              "  --sklearn-color-fitted-level-1: #d4ebff;\n",
              "  --sklearn-color-fitted-level-2: #b3dbfd;\n",
              "  --sklearn-color-fitted-level-3: cornflowerblue;\n",
              "\n",
              "  /* Specific color for light theme */\n",
              "  --sklearn-color-text-on-default-background: var(--sg-text-color, var(--theme-code-foreground, var(--jp-content-font-color1, black)));\n",
              "  --sklearn-color-background: var(--sg-background-color, var(--theme-background, var(--jp-layout-color0, white)));\n",
              "  --sklearn-color-border-box: var(--sg-text-color, var(--theme-code-foreground, var(--jp-content-font-color1, black)));\n",
              "  --sklearn-color-icon: #696969;\n",
              "\n",
              "  @media (prefers-color-scheme: dark) {\n",
              "    /* Redefinition of color scheme for dark theme */\n",
              "    --sklearn-color-text-on-default-background: var(--sg-text-color, var(--theme-code-foreground, var(--jp-content-font-color1, white)));\n",
              "    --sklearn-color-background: var(--sg-background-color, var(--theme-background, var(--jp-layout-color0, #111)));\n",
              "    --sklearn-color-border-box: var(--sg-text-color, var(--theme-code-foreground, var(--jp-content-font-color1, white)));\n",
              "    --sklearn-color-icon: #878787;\n",
              "  }\n",
              "}\n",
              "\n",
              "#sk-container-id-1 {\n",
              "  color: var(--sklearn-color-text);\n",
              "}\n",
              "\n",
              "#sk-container-id-1 pre {\n",
              "  padding: 0;\n",
              "}\n",
              "\n",
              "#sk-container-id-1 input.sk-hidden--visually {\n",
              "  border: 0;\n",
              "  clip: rect(1px 1px 1px 1px);\n",
              "  clip: rect(1px, 1px, 1px, 1px);\n",
              "  height: 1px;\n",
              "  margin: -1px;\n",
              "  overflow: hidden;\n",
              "  padding: 0;\n",
              "  position: absolute;\n",
              "  width: 1px;\n",
              "}\n",
              "\n",
              "#sk-container-id-1 div.sk-dashed-wrapped {\n",
              "  border: 1px dashed var(--sklearn-color-line);\n",
              "  margin: 0 0.4em 0.5em 0.4em;\n",
              "  box-sizing: border-box;\n",
              "  padding-bottom: 0.4em;\n",
              "  background-color: var(--sklearn-color-background);\n",
              "}\n",
              "\n",
              "#sk-container-id-1 div.sk-container {\n",
              "  /* jupyter's `normalize.less` sets `[hidden] { display: none; }`\n",
              "     but bootstrap.min.css set `[hidden] { display: none !important; }`\n",
              "     so we also need the `!important` here to be able to override the\n",
              "     default hidden behavior on the sphinx rendered scikit-learn.org.\n",
              "     See: https://github.com/scikit-learn/scikit-learn/issues/21755 */\n",
              "  display: inline-block !important;\n",
              "  position: relative;\n",
              "}\n",
              "\n",
              "#sk-container-id-1 div.sk-text-repr-fallback {\n",
              "  display: none;\n",
              "}\n",
              "\n",
              "div.sk-parallel-item,\n",
              "div.sk-serial,\n",
              "div.sk-item {\n",
              "  /* draw centered vertical line to link estimators */\n",
              "  background-image: linear-gradient(var(--sklearn-color-text-on-default-background), var(--sklearn-color-text-on-default-background));\n",
              "  background-size: 2px 100%;\n",
              "  background-repeat: no-repeat;\n",
              "  background-position: center center;\n",
              "}\n",
              "\n",
              "/* Parallel-specific style estimator block */\n",
              "\n",
              "#sk-container-id-1 div.sk-parallel-item::after {\n",
              "  content: \"\";\n",
              "  width: 100%;\n",
              "  border-bottom: 2px solid var(--sklearn-color-text-on-default-background);\n",
              "  flex-grow: 1;\n",
              "}\n",
              "\n",
              "#sk-container-id-1 div.sk-parallel {\n",
              "  display: flex;\n",
              "  align-items: stretch;\n",
              "  justify-content: center;\n",
              "  background-color: var(--sklearn-color-background);\n",
              "  position: relative;\n",
              "}\n",
              "\n",
              "#sk-container-id-1 div.sk-parallel-item {\n",
              "  display: flex;\n",
              "  flex-direction: column;\n",
              "}\n",
              "\n",
              "#sk-container-id-1 div.sk-parallel-item:first-child::after {\n",
              "  align-self: flex-end;\n",
              "  width: 50%;\n",
              "}\n",
              "\n",
              "#sk-container-id-1 div.sk-parallel-item:last-child::after {\n",
              "  align-self: flex-start;\n",
              "  width: 50%;\n",
              "}\n",
              "\n",
              "#sk-container-id-1 div.sk-parallel-item:only-child::after {\n",
              "  width: 0;\n",
              "}\n",
              "\n",
              "/* Serial-specific style estimator block */\n",
              "\n",
              "#sk-container-id-1 div.sk-serial {\n",
              "  display: flex;\n",
              "  flex-direction: column;\n",
              "  align-items: center;\n",
              "  background-color: var(--sklearn-color-background);\n",
              "  padding-right: 1em;\n",
              "  padding-left: 1em;\n",
              "}\n",
              "\n",
              "\n",
              "/* Toggleable style: style used for estimator/Pipeline/ColumnTransformer box that is\n",
              "clickable and can be expanded/collapsed.\n",
              "- Pipeline and ColumnTransformer use this feature and define the default style\n",
              "- Estimators will overwrite some part of the style using the `sk-estimator` class\n",
              "*/\n",
              "\n",
              "/* Pipeline and ColumnTransformer style (default) */\n",
              "\n",
              "#sk-container-id-1 div.sk-toggleable {\n",
              "  /* Default theme specific background. It is overwritten whether we have a\n",
              "  specific estimator or a Pipeline/ColumnTransformer */\n",
              "  background-color: var(--sklearn-color-background);\n",
              "}\n",
              "\n",
              "/* Toggleable label */\n",
              "#sk-container-id-1 label.sk-toggleable__label {\n",
              "  cursor: pointer;\n",
              "  display: flex;\n",
              "  width: 100%;\n",
              "  margin-bottom: 0;\n",
              "  padding: 0.5em;\n",
              "  box-sizing: border-box;\n",
              "  text-align: center;\n",
              "  align-items: start;\n",
              "  justify-content: space-between;\n",
              "  gap: 0.5em;\n",
              "}\n",
              "\n",
              "#sk-container-id-1 label.sk-toggleable__label .caption {\n",
              "  font-size: 0.6rem;\n",
              "  font-weight: lighter;\n",
              "  color: var(--sklearn-color-text-muted);\n",
              "}\n",
              "\n",
              "#sk-container-id-1 label.sk-toggleable__label-arrow:before {\n",
              "  /* Arrow on the left of the label */\n",
              "  content: \"▸\";\n",
              "  float: left;\n",
              "  margin-right: 0.25em;\n",
              "  color: var(--sklearn-color-icon);\n",
              "}\n",
              "\n",
              "#sk-container-id-1 label.sk-toggleable__label-arrow:hover:before {\n",
              "  color: var(--sklearn-color-text);\n",
              "}\n",
              "\n",
              "/* Toggleable content - dropdown */\n",
              "\n",
              "#sk-container-id-1 div.sk-toggleable__content {\n",
              "  max-height: 0;\n",
              "  max-width: 0;\n",
              "  overflow: hidden;\n",
              "  text-align: left;\n",
              "  /* unfitted */\n",
              "  background-color: var(--sklearn-color-unfitted-level-0);\n",
              "}\n",
              "\n",
              "#sk-container-id-1 div.sk-toggleable__content.fitted {\n",
              "  /* fitted */\n",
              "  background-color: var(--sklearn-color-fitted-level-0);\n",
              "}\n",
              "\n",
              "#sk-container-id-1 div.sk-toggleable__content pre {\n",
              "  margin: 0.2em;\n",
              "  border-radius: 0.25em;\n",
              "  color: var(--sklearn-color-text);\n",
              "  /* unfitted */\n",
              "  background-color: var(--sklearn-color-unfitted-level-0);\n",
              "}\n",
              "\n",
              "#sk-container-id-1 div.sk-toggleable__content.fitted pre {\n",
              "  /* unfitted */\n",
              "  background-color: var(--sklearn-color-fitted-level-0);\n",
              "}\n",
              "\n",
              "#sk-container-id-1 input.sk-toggleable__control:checked~div.sk-toggleable__content {\n",
              "  /* Expand drop-down */\n",
              "  max-height: 200px;\n",
              "  max-width: 100%;\n",
              "  overflow: auto;\n",
              "}\n",
              "\n",
              "#sk-container-id-1 input.sk-toggleable__control:checked~label.sk-toggleable__label-arrow:before {\n",
              "  content: \"▾\";\n",
              "}\n",
              "\n",
              "/* Pipeline/ColumnTransformer-specific style */\n",
              "\n",
              "#sk-container-id-1 div.sk-label input.sk-toggleable__control:checked~label.sk-toggleable__label {\n",
              "  color: var(--sklearn-color-text);\n",
              "  background-color: var(--sklearn-color-unfitted-level-2);\n",
              "}\n",
              "\n",
              "#sk-container-id-1 div.sk-label.fitted input.sk-toggleable__control:checked~label.sk-toggleable__label {\n",
              "  background-color: var(--sklearn-color-fitted-level-2);\n",
              "}\n",
              "\n",
              "/* Estimator-specific style */\n",
              "\n",
              "/* Colorize estimator box */\n",
              "#sk-container-id-1 div.sk-estimator input.sk-toggleable__control:checked~label.sk-toggleable__label {\n",
              "  /* unfitted */\n",
              "  background-color: var(--sklearn-color-unfitted-level-2);\n",
              "}\n",
              "\n",
              "#sk-container-id-1 div.sk-estimator.fitted input.sk-toggleable__control:checked~label.sk-toggleable__label {\n",
              "  /* fitted */\n",
              "  background-color: var(--sklearn-color-fitted-level-2);\n",
              "}\n",
              "\n",
              "#sk-container-id-1 div.sk-label label.sk-toggleable__label,\n",
              "#sk-container-id-1 div.sk-label label {\n",
              "  /* The background is the default theme color */\n",
              "  color: var(--sklearn-color-text-on-default-background);\n",
              "}\n",
              "\n",
              "/* On hover, darken the color of the background */\n",
              "#sk-container-id-1 div.sk-label:hover label.sk-toggleable__label {\n",
              "  color: var(--sklearn-color-text);\n",
              "  background-color: var(--sklearn-color-unfitted-level-2);\n",
              "}\n",
              "\n",
              "/* Label box, darken color on hover, fitted */\n",
              "#sk-container-id-1 div.sk-label.fitted:hover label.sk-toggleable__label.fitted {\n",
              "  color: var(--sklearn-color-text);\n",
              "  background-color: var(--sklearn-color-fitted-level-2);\n",
              "}\n",
              "\n",
              "/* Estimator label */\n",
              "\n",
              "#sk-container-id-1 div.sk-label label {\n",
              "  font-family: monospace;\n",
              "  font-weight: bold;\n",
              "  display: inline-block;\n",
              "  line-height: 1.2em;\n",
              "}\n",
              "\n",
              "#sk-container-id-1 div.sk-label-container {\n",
              "  text-align: center;\n",
              "}\n",
              "\n",
              "/* Estimator-specific */\n",
              "#sk-container-id-1 div.sk-estimator {\n",
              "  font-family: monospace;\n",
              "  border: 1px dotted var(--sklearn-color-border-box);\n",
              "  border-radius: 0.25em;\n",
              "  box-sizing: border-box;\n",
              "  margin-bottom: 0.5em;\n",
              "  /* unfitted */\n",
              "  background-color: var(--sklearn-color-unfitted-level-0);\n",
              "}\n",
              "\n",
              "#sk-container-id-1 div.sk-estimator.fitted {\n",
              "  /* fitted */\n",
              "  background-color: var(--sklearn-color-fitted-level-0);\n",
              "}\n",
              "\n",
              "/* on hover */\n",
              "#sk-container-id-1 div.sk-estimator:hover {\n",
              "  /* unfitted */\n",
              "  background-color: var(--sklearn-color-unfitted-level-2);\n",
              "}\n",
              "\n",
              "#sk-container-id-1 div.sk-estimator.fitted:hover {\n",
              "  /* fitted */\n",
              "  background-color: var(--sklearn-color-fitted-level-2);\n",
              "}\n",
              "\n",
              "/* Specification for estimator info (e.g. \"i\" and \"?\") */\n",
              "\n",
              "/* Common style for \"i\" and \"?\" */\n",
              "\n",
              ".sk-estimator-doc-link,\n",
              "a:link.sk-estimator-doc-link,\n",
              "a:visited.sk-estimator-doc-link {\n",
              "  float: right;\n",
              "  font-size: smaller;\n",
              "  line-height: 1em;\n",
              "  font-family: monospace;\n",
              "  background-color: var(--sklearn-color-background);\n",
              "  border-radius: 1em;\n",
              "  height: 1em;\n",
              "  width: 1em;\n",
              "  text-decoration: none !important;\n",
              "  margin-left: 0.5em;\n",
              "  text-align: center;\n",
              "  /* unfitted */\n",
              "  border: var(--sklearn-color-unfitted-level-1) 1pt solid;\n",
              "  color: var(--sklearn-color-unfitted-level-1);\n",
              "}\n",
              "\n",
              ".sk-estimator-doc-link.fitted,\n",
              "a:link.sk-estimator-doc-link.fitted,\n",
              "a:visited.sk-estimator-doc-link.fitted {\n",
              "  /* fitted */\n",
              "  border: var(--sklearn-color-fitted-level-1) 1pt solid;\n",
              "  color: var(--sklearn-color-fitted-level-1);\n",
              "}\n",
              "\n",
              "/* On hover */\n",
              "div.sk-estimator:hover .sk-estimator-doc-link:hover,\n",
              ".sk-estimator-doc-link:hover,\n",
              "div.sk-label-container:hover .sk-estimator-doc-link:hover,\n",
              ".sk-estimator-doc-link:hover {\n",
              "  /* unfitted */\n",
              "  background-color: var(--sklearn-color-unfitted-level-3);\n",
              "  color: var(--sklearn-color-background);\n",
              "  text-decoration: none;\n",
              "}\n",
              "\n",
              "div.sk-estimator.fitted:hover .sk-estimator-doc-link.fitted:hover,\n",
              ".sk-estimator-doc-link.fitted:hover,\n",
              "div.sk-label-container:hover .sk-estimator-doc-link.fitted:hover,\n",
              ".sk-estimator-doc-link.fitted:hover {\n",
              "  /* fitted */\n",
              "  background-color: var(--sklearn-color-fitted-level-3);\n",
              "  color: var(--sklearn-color-background);\n",
              "  text-decoration: none;\n",
              "}\n",
              "\n",
              "/* Span, style for the box shown on hovering the info icon */\n",
              ".sk-estimator-doc-link span {\n",
              "  display: none;\n",
              "  z-index: 9999;\n",
              "  position: relative;\n",
              "  font-weight: normal;\n",
              "  right: .2ex;\n",
              "  padding: .5ex;\n",
              "  margin: .5ex;\n",
              "  width: min-content;\n",
              "  min-width: 20ex;\n",
              "  max-width: 50ex;\n",
              "  color: var(--sklearn-color-text);\n",
              "  box-shadow: 2pt 2pt 4pt #999;\n",
              "  /* unfitted */\n",
              "  background: var(--sklearn-color-unfitted-level-0);\n",
              "  border: .5pt solid var(--sklearn-color-unfitted-level-3);\n",
              "}\n",
              "\n",
              ".sk-estimator-doc-link.fitted span {\n",
              "  /* fitted */\n",
              "  background: var(--sklearn-color-fitted-level-0);\n",
              "  border: var(--sklearn-color-fitted-level-3);\n",
              "}\n",
              "\n",
              ".sk-estimator-doc-link:hover span {\n",
              "  display: block;\n",
              "}\n",
              "\n",
              "/* \"?\"-specific style due to the `<a>` HTML tag */\n",
              "\n",
              "#sk-container-id-1 a.estimator_doc_link {\n",
              "  float: right;\n",
              "  font-size: 1rem;\n",
              "  line-height: 1em;\n",
              "  font-family: monospace;\n",
              "  background-color: var(--sklearn-color-background);\n",
              "  border-radius: 1rem;\n",
              "  height: 1rem;\n",
              "  width: 1rem;\n",
              "  text-decoration: none;\n",
              "  /* unfitted */\n",
              "  color: var(--sklearn-color-unfitted-level-1);\n",
              "  border: var(--sklearn-color-unfitted-level-1) 1pt solid;\n",
              "}\n",
              "\n",
              "#sk-container-id-1 a.estimator_doc_link.fitted {\n",
              "  /* fitted */\n",
              "  border: var(--sklearn-color-fitted-level-1) 1pt solid;\n",
              "  color: var(--sklearn-color-fitted-level-1);\n",
              "}\n",
              "\n",
              "/* On hover */\n",
              "#sk-container-id-1 a.estimator_doc_link:hover {\n",
              "  /* unfitted */\n",
              "  background-color: var(--sklearn-color-unfitted-level-3);\n",
              "  color: var(--sklearn-color-background);\n",
              "  text-decoration: none;\n",
              "}\n",
              "\n",
              "#sk-container-id-1 a.estimator_doc_link.fitted:hover {\n",
              "  /* fitted */\n",
              "  background-color: var(--sklearn-color-fitted-level-3);\n",
              "}\n",
              "</style><div id=\"sk-container-id-1\" class=\"sk-top-container\"><div class=\"sk-text-repr-fallback\"><pre>SGDRegressor(n_iter_no_change=100, penalty=None, random_state=42, tol=1e-05)</pre><b>In a Jupyter environment, please rerun this cell to show the HTML representation or trust the notebook. <br />On GitHub, the HTML representation is unable to render, please try loading this page with nbviewer.org.</b></div><div class=\"sk-container\" hidden><div class=\"sk-item\"><div class=\"sk-estimator fitted sk-toggleable\"><input class=\"sk-toggleable__control sk-hidden--visually\" id=\"sk-estimator-id-1\" type=\"checkbox\" checked><label for=\"sk-estimator-id-1\" class=\"sk-toggleable__label fitted sk-toggleable__label-arrow\"><div><div>SGDRegressor</div></div><div><a class=\"sk-estimator-doc-link fitted\" rel=\"noreferrer\" target=\"_blank\" href=\"https://scikit-learn.org/1.6/modules/generated/sklearn.linear_model.SGDRegressor.html\">?<span>Documentation for SGDRegressor</span></a><span class=\"sk-estimator-doc-link fitted\">i<span>Fitted</span></span></div></label><div class=\"sk-toggleable__content fitted\"><pre>SGDRegressor(n_iter_no_change=100, penalty=None, random_state=42, tol=1e-05)</pre></div> </div></div></div></div>"
            ]
          },
          "metadata": {},
          "execution_count": 12
        }
      ],
      "source": [
        "# Now use the SDGRegressor Algorithm\n",
        "\n",
        "\n",
        "sgd_reg = SGDRegressor(max_iter=1000, tol=1e-5, penalty=None, eta0=0.01,\n",
        "                       n_iter_no_change=100, random_state=42)\n",
        "sgd_reg.fit(X, y.ravel())  # y.ravel() because fit() expects 1D targets\n"
      ]
    },
    {
      "cell_type": "code",
      "execution_count": 13,
      "id": "44eb1105",
      "metadata": {
        "colab": {
          "base_uri": "https://localhost:8080/"
        },
        "id": "44eb1105",
        "outputId": "590ab325-3ddb-46fe-9f35-bbe698054c50"
      },
      "outputs": [
        {
          "output_type": "execute_result",
          "data": {
            "text/plain": [
              "(array([4.21278812]), array([2.77270267]))"
            ]
          },
          "metadata": {},
          "execution_count": 13
        }
      ],
      "source": [
        "# Print the returned parameters: Intercept and Slope\n",
        "\n",
        "sgd_reg.intercept_, sgd_reg.coef_"
      ]
    },
    {
      "cell_type": "markdown",
      "id": "993c4f06",
      "metadata": {
        "id": "993c4f06"
      },
      "source": [
        "## Polynomial Regression (higher-order equations)\n",
        "\n",
        "Will generate random synthetic data around the polynomial\n",
        "$y=2 + x + (1/2) \\, x^{2}$\n",
        "\n"
      ]
    },
    {
      "cell_type": "code",
      "execution_count": 14,
      "id": "06e97e91",
      "metadata": {
        "id": "06e97e91"
      },
      "outputs": [],
      "source": [
        "# Generate a collection of data around y = 2 + X + (1/2) X**2\n",
        "np.random.seed(42)\n",
        "m = 100\n",
        "X = 6 * np.random.rand(m, 1) - 3\n",
        "y = 0.5 * X ** 2 + X + 2 + np.random.randn(m, 1)\n"
      ]
    },
    {
      "cell_type": "code",
      "execution_count": 15,
      "id": "2804452a",
      "metadata": {
        "colab": {
          "base_uri": "https://localhost:8080/",
          "height": 411
        },
        "id": "2804452a",
        "outputId": "2dcc127a-f88e-4b2a-e8a5-5dfd08ee986e"
      },
      "outputs": [
        {
          "output_type": "display_data",
          "data": {
            "text/plain": [
              "<Figure size 600x400 with 1 Axes>"
            ],
            "image/png": "[encoded data removed]"
          },
          "metadata": {}
        }
      ],
      "source": [
        "# Generate plot for collection of points\n",
        "plt.figure(figsize=(6, 4))\n",
        "plt.plot(X, y, \"b.\")\n",
        "plt.xlabel(\"$x_1$\")\n",
        "plt.ylabel(\"$y$\", rotation=0)\n",
        "plt.title('Random set of points')\n",
        "plt.axis([-3, 3, 0, 10])\n",
        "plt.grid()\n",
        "plt.show()\n"
      ]
    },
    {
      "cell_type": "markdown",
      "source": [
        "### Using Scikit-learn: [Polynomial Features](https://scikit-learn.org/stable/modules/generated/sklearn.preprocessing.PolynomialFeatures.html#sklearn.preprocessing.PolynomialFeatures)"
      ],
      "metadata": {
        "id": "s1o_61egVvZn"
      },
      "id": "s1o_61egVvZn"
    },
    {
      "cell_type": "code",
      "execution_count": 16,
      "id": "3ab81cf5",
      "metadata": {
        "colab": {
          "base_uri": "https://localhost:8080/"
        },
        "id": "3ab81cf5",
        "outputId": "0622a270-642b-4c10-cab2-6a90d3243f85"
      },
      "outputs": [
        {
          "output_type": "execute_result",
          "data": {
            "text/plain": [
              "array([-0.75275929])"
            ]
          },
          "metadata": {},
          "execution_count": 16
        }
      ],
      "source": [
        "# Use the Polynomial Regression Algorithm\n",
        "\n",
        "poly_features = PolynomialFeatures(degree=2, include_bias=False)\n",
        "X_poly = poly_features.fit_transform(X)\n",
        "X[0]\n"
      ]
    },
    {
      "cell_type": "code",
      "execution_count": 17,
      "id": "80e7e328",
      "metadata": {
        "colab": {
          "base_uri": "https://localhost:8080/"
        },
        "id": "80e7e328",
        "outputId": "779c34ba-3757-4791-95f9-56408b7d635b"
      },
      "outputs": [
        {
          "output_type": "execute_result",
          "data": {
            "text/plain": [
              "array([-0.75275929,  0.56664654])"
            ]
          },
          "metadata": {},
          "execution_count": 17
        }
      ],
      "source": [
        "X_poly[0]"
      ]
    },
    {
      "cell_type": "code",
      "execution_count": 18,
      "id": "adecf4d3",
      "metadata": {
        "colab": {
          "base_uri": "https://localhost:8080/"
        },
        "id": "adecf4d3",
        "outputId": "477a2f63-e9ac-4e0d-abbd-4fd6f1e10944"
      },
      "outputs": [
        {
          "output_type": "execute_result",
          "data": {
            "text/plain": [
              "(array([1.78134581]), array([[0.93366893, 0.56456263]]))"
            ]
          },
          "metadata": {},
          "execution_count": 18
        }
      ],
      "source": [
        "lin_reg = LinearRegression()\n",
        "lin_reg.fit(X_poly, y)\n",
        "lin_reg.intercept_, lin_reg.coef_\n"
      ]
    },
    {
      "cell_type": "markdown",
      "source": [
        "That is, the fitted polynomial is:\n",
        "$$y = 1.781346 + 0.933669 \\, x + 0.564563 \\, x^2$$"
      ],
      "metadata": {
        "id": "0KlE3slvXNmu"
      },
      "id": "0KlE3slvXNmu"
    },
    {
      "cell_type": "code",
      "execution_count": 19,
      "id": "00105c9b",
      "metadata": {
        "colab": {
          "base_uri": "https://localhost:8080/",
          "height": 411
        },
        "id": "00105c9b",
        "outputId": "7fa91f54-2a55-4e26-d382-b58d78c7f76e"
      },
      "outputs": [
        {
          "output_type": "display_data",
          "data": {
            "text/plain": [
              "<Figure size 600x400 with 1 Axes>"
            ],
            "image/png": "[encoded data removed]"
          },
          "metadata": {}
        }
      ],
      "source": [
        "# Plot quadratic prediction fit\n",
        "X_new = np.linspace(-3, 3, 100).reshape(100, 1)\n",
        "X_new_poly = poly_features.transform(X_new)\n",
        "y_new = lin_reg.predict(X_new_poly)\n",
        "\n",
        "plt.figure(figsize=(6, 4))\n",
        "plt.plot(X, y, \"b.\")\n",
        "plt.plot(X_new, y_new, \"r-\", linewidth=2, label=\"Predictions\")\n",
        "plt.xlabel(\"$x_1$\")\n",
        "plt.ylabel(\"$y$\", rotation=0)\n",
        "plt.title('Quadratic regression fit')\n",
        "plt.legend(loc=\"upper left\")\n",
        "plt.axis([-3, 3, 0, 10])\n",
        "plt.grid()\n",
        "plt.show()\n"
      ]
    },
    {
      "cell_type": "markdown",
      "source": [
        "### Fitting different degree polynomials"
      ],
      "metadata": {
        "id": "Pz-jH7GcZ-vU"
      },
      "id": "Pz-jH7GcZ-vU"
    },
    {
      "cell_type": "code",
      "execution_count": null,
      "id": "9dac69f8",
      "metadata": {
        "colab": {
          "base_uri": "https://localhost:8080/",
          "height": 297
        },
        "id": "9dac69f8",
        "outputId": "7b785997-3632-41fe-b391-e9bf7fb9d9fd"
      },
      "outputs": [
        {
          "output_type": "display_data",
          "data": {
            "text/plain": [
              "<Figure size 432x288 with 1 Axes>"
            ],
            "image/png": "[encoded data removed]"
          },
          "metadata": {
            "needs_background": "light"
          }
        }
      ],
      "source": [
        "# Make polynomial plot and compare different fits\n",
        "\n",
        "plt.figure(figsize=(6, 4))\n",
        "\n",
        "for style, width, degree in ((\"r-+\", 2, 1), (\"b--\", 2, 2), (\"g-\", 1, 100)):\n",
        "    polybig_features = PolynomialFeatures(degree=degree, include_bias=False)\n",
        "\n",
        "    std_scaler = StandardScaler()\n",
        "    lin_reg = LinearRegression()\n",
        "\n",
        "    polynomial_regression = make_pipeline(polybig_features, std_scaler, lin_reg)\n",
        "    polynomial_regression.fit(X, y)\n",
        "    y_newbig = polynomial_regression.predict(X_new)\n",
        "    label = f\"{degree} degree{'s' if degree > 1 else ''}\"\n",
        "    plt.plot(X_new, y_newbig, style, label=label, linewidth=width)\n",
        "\n",
        "plt.plot(X, y, \"b.\", linewidth=3)\n",
        "plt.legend(loc=\"upper left\")\n",
        "plt.xlabel(\"$x_1$\")\n",
        "plt.ylabel(\"$y$\", rotation=0)\n",
        "plt.title('Different polynomial regression fits')\n",
        "plt.axis([-3, 3, 0, 10])\n",
        "plt.grid()\n",
        "plt.show()\n"
      ]
    },
    {
      "cell_type": "markdown",
      "id": "2f970f57",
      "metadata": {
        "id": "2f970f57"
      },
      "source": [
        "# Regularized Linear Models\n",
        "\n",
        "## Scikit-learn: [Ridge Regression](https://scikit-learn.org/stable/modules/generated/sklearn.linear_model.Ridge.html#sklearn.linear_model.Ridge)\n",
        "\n",
        "Ridge linear regression is **a method that improves linear regression by adding a penalty term to handle correlated variables**, shrinking coefficients to create a more stable model with less variance but slight bias. Also called L2 regularization.\n",
        "\n",
        "**Key points:**\n",
        "\n",
        "- **Purpose:** Handles correlated predictor variables that can destabilize regular linear regression.\n",
        "- **How it works:** Uses a squared coefficient penalty to reduce coefficient sizes and manage multicollinearity.\n",
        "- **Benefits:**\n",
        "    - Better stability in high-dimensional data\n",
        "    - More noise-resistant\n",
        "- **Drawbacks:**\n",
        "    - Adds small bias\n",
        "    - Not ideal for feature selection as it only shrinks coefficients rather than eliminating them"
      ]
    },
    {
      "cell_type": "code",
      "execution_count": 22,
      "id": "e6696abb",
      "metadata": {
        "id": "e6696abb"
      },
      "outputs": [],
      "source": [
        "# Generate random noise about y = 1 + (1/2) X\n",
        "np.random.seed(42)\n",
        "m = 20\n",
        "X = 3 * np.random.rand(m, 1)\n",
        "y = 1 + 0.5 * X + np.random.randn(m, 1) / 1.5\n",
        "X_new = np.linspace(0, 3, 100).reshape(100, 1)\n"
      ]
    },
    {
      "cell_type": "code",
      "execution_count": 23,
      "id": "2fa73724",
      "metadata": {
        "colab": {
          "base_uri": "https://localhost:8080/",
          "height": 411
        },
        "id": "2fa73724",
        "outputId": "8a558142-edef-408b-e837-1f0c2c79e89e"
      },
      "outputs": [
        {
          "output_type": "display_data",
          "data": {
            "text/plain": [
              "<Figure size 600x400 with 1 Axes>"
            ],
            "image/png": "[encoded data removed]"
          },
          "metadata": {}
        }
      ],
      "source": [
        "# quick peek at the dataset we just generated\n",
        "plt.figure(figsize=(6, 4))\n",
        "plt.plot(X, y, \".\")\n",
        "plt.xlabel(\"$x_1$\")\n",
        "plt.ylabel(\"$y$  \", rotation=0)\n",
        "plt.title('Random set of points')\n",
        "plt.axis([0, 3, 0, 3.5])\n",
        "plt.grid()\n",
        "plt.show()\n"
      ]
    },
    {
      "cell_type": "markdown",
      "source": [
        "### Scikit-learn: [Ridge Regression Algorithm](https://scikit-learn.org/stable/modules/generated/sklearn.linear_model.Ridge.html#sklearn.linear_model.Ridge)\n",
        "\n",
        "_alpha_ is the constant that multiplies the L2 term, controlling regularization strength.\n",
        "_alpha_ must be a non-negative float i.e. in [0, inf)\n",
        "\n",
        "_solver_{‘auto’, ‘svd’, ‘cholesky’, ‘lsqr’, ‘sparse_cg’, ‘sag’, ‘saga’, ‘lbfgs’}\n",
        "\n",
        "When _alpha = 0_, the objective is equivalent to ordinary least squares, solved by the LinearRegression object."
      ],
      "metadata": {
        "id": "EMVARpZigPuu"
      },
      "id": "EMVARpZigPuu"
    },
    {
      "cell_type": "code",
      "execution_count": 24,
      "id": "6eb91adc",
      "metadata": {
        "colab": {
          "base_uri": "https://localhost:8080/"
        },
        "id": "6eb91adc",
        "outputId": "eed9fa0e-a70b-469f-dc1a-8ef3c3e80097"
      },
      "outputs": [
        {
          "output_type": "execute_result",
          "data": {
            "text/plain": [
              "array([1.55325833])"
            ]
          },
          "metadata": {},
          "execution_count": 24
        }
      ],
      "source": [
        "# Ridge Regression Algorithm\n",
        "\n",
        "ridge_reg = Ridge(alpha=0.1, solver=\"cholesky\")\n",
        "ridge_reg.fit(X, y)\n",
        "ridge_reg.predict([[1.5]])\n"
      ]
    },
    {
      "cell_type": "code",
      "execution_count": 25,
      "id": "b6134658",
      "metadata": {
        "colab": {
          "base_uri": "https://localhost:8080/",
          "height": 372
        },
        "id": "b6134658",
        "outputId": "307809cd-b7f5-424d-fac1-8ba93bbbb4cc"
      },
      "outputs": [
        {
          "output_type": "display_data",
          "data": {
            "text/plain": [
              "<Figure size 900x350 with 2 Axes>"
            ],
            "image/png": "[encoded data removed]"
          },
          "metadata": {}
        }
      ],
      "source": [
        "# Plot for different values of alpha\n",
        "\n",
        "def plot_model(model_class, polynomial, alphas, **model_kwargs):\n",
        "    plt.plot(X, y, \"b.\", linewidth=3)\n",
        "    for alpha, style in zip(alphas, (\"b:\", \"g--\", \"r-\")):\n",
        "        if alpha > 0:\n",
        "            model = model_class(alpha, **model_kwargs)\n",
        "        else:\n",
        "            model = LinearRegression()\n",
        "        if polynomial:\n",
        "            model = make_pipeline(\n",
        "                PolynomialFeatures(degree=10, include_bias=False),\n",
        "                StandardScaler(),\n",
        "                model)\n",
        "        model.fit(X, y)\n",
        "        y_new_regul = model.predict(X_new)\n",
        "        plt.plot(X_new, y_new_regul, style, linewidth=2,\n",
        "                 label=fr\"$\\alpha = {alpha}$\")\n",
        "    plt.legend(loc=\"upper left\")\n",
        "    plt.xlabel(\"$x_1$\")\n",
        "    plt.axis([0, 3, 0, 3.5])\n",
        "    plt.grid()\n",
        "\n",
        "plt.figure(figsize=(9, 3.5))\n",
        "plt.subplot(121)\n",
        "plot_model(Ridge, polynomial=False, alphas=(0, 10, 100), random_state=42)\n",
        "plt.ylabel(\"$y$  \", rotation=0)\n",
        "plt.title('Ridge linear regression fit')\n",
        "plt.subplot(122)\n",
        "plot_model(Ridge, polynomial=True, alphas=(0, 10**-5, 1), random_state=42)\n",
        "plt.gca().axes.yaxis.set_ticklabels([])\n",
        "plt.title('Ridge polynomial regression fit')\n",
        "plt.show()"
      ]
    },
    {
      "cell_type": "markdown",
      "source": [
        "\n",
        "### Scikit-learn:[Stochastic Gradient Descent Regressor](https://scikit-learn.org/stable/modules/generated/sklearn.linear_model.SGDRegressor.html)\n",
        "\n",
        "The gradient of the loss is estimated each sample at a time and the model is updated along the way with a decreasing strength schedule (aka learning rate).\n",
        "\n"
      ],
      "metadata": {
        "id": "b-evMkHEhK5C"
      },
      "id": "b-evMkHEhK5C"
    },
    {
      "cell_type": "code",
      "execution_count": 26,
      "id": "61c7ab73",
      "metadata": {
        "colab": {
          "base_uri": "https://localhost:8080/"
        },
        "id": "61c7ab73",
        "outputId": "1be43a04-5904-4dd7-f1d8-0f9001a152ee"
      },
      "outputs": [
        {
          "output_type": "execute_result",
          "data": {
            "text/plain": [
              "array([1.55302613])"
            ]
          },
          "metadata": {},
          "execution_count": 26
        }
      ],
      "source": [
        "sgd_reg = SGDRegressor(penalty=\"l2\", alpha=0.1 / m, tol=None,\n",
        "                       max_iter=1000, eta0=0.01, random_state=42)\n",
        "sgd_reg.fit(X, y.ravel())  # y.ravel() because fit() expects 1D targets\n",
        "sgd_reg.predict([[1.5]])\n"
      ]
    },
    {
      "cell_type": "code",
      "execution_count": 27,
      "id": "06185887",
      "metadata": {
        "colab": {
          "base_uri": "https://localhost:8080/"
        },
        "id": "06185887",
        "outputId": "0da9806f-c123-4b2c-90a3-56546da68267"
      },
      "outputs": [
        {
          "output_type": "execute_result",
          "data": {
            "text/plain": [
              "array([1.55326019])"
            ]
          },
          "metadata": {},
          "execution_count": 27
        }
      ],
      "source": [
        "# show that we get roughly the same solution as earlier when\n",
        "# we use Stochastic Average GD (solver=\"sag\")\n",
        "ridge_reg = Ridge(alpha=0.1, solver=\"sag\", random_state=42)\n",
        "ridge_reg.fit(X, y)\n",
        "ridge_reg.predict([[1.5]])\n"
      ]
    },
    {
      "cell_type": "code",
      "execution_count": 28,
      "id": "37a3af00",
      "metadata": {
        "colab": {
          "base_uri": "https://localhost:8080/"
        },
        "id": "37a3af00",
        "outputId": "466a8f58-46d9-477a-d8f3-3ddef0194eae"
      },
      "outputs": [
        {
          "output_type": "execute_result",
          "data": {
            "text/plain": [
              "(array([0.97896386]), array([0.38286422]))"
            ]
          },
          "metadata": {},
          "execution_count": 28
        }
      ],
      "source": [
        "ridge_reg.intercept_, ridge_reg.coef_\n"
      ]
    },
    {
      "cell_type": "markdown",
      "id": "e4b1b30a",
      "metadata": {
        "id": "e4b1b30a"
      },
      "source": [
        "## Scikit-learn: [Lasso Regression](https://scikit-learn.org/stable/modules/generated/sklearn.linear_model.Lasso.html)\n",
        "\n",
        "Lasso regression (Least Absolute Shrinkage and Selection Operator) is **a machine learning method that combines variable selection and regularization in linear regression**, shrinking some coefficients to zero to prevent overfitting and improve interpretability.\n",
        "\n",
        "**Key points about Lasso regression:**\n",
        "\n",
        "- **Feature selection:** Penalizes coefficient absolute values to zero out less important features.\n",
        "- **Regularization:** Adds a penalty term to prevent overfitting.\n",
        "- **L1 regularization:** Uses absolute value penalties, unlike Ridge regression's squared penalties.\n",
        "\n",
        "**When to use Lasso regression:**\n",
        "\n",
        "- For high-dimensional data requiring feature selection\n",
        "- When model interpretability is important\n",
        "\n",
        "Constant that multiplies the L1 term, controlling regularization strength. _alpha_ must be a non-negative float i.e. in [0, inf).\n",
        "\n",
        "When _alpha = 0_, the objective is equivalent to ordinary least squares, solved by the LinearRegression object. For numerical reasons, using _alpha = 0_ with the Lasso object is not advised. Instead, you should use the LinearRegression object."
      ]
    },
    {
      "cell_type": "code",
      "execution_count": 29,
      "id": "ae959cdd",
      "metadata": {
        "colab": {
          "base_uri": "https://localhost:8080/"
        },
        "id": "ae959cdd",
        "outputId": "d997db1b-c441-4903-8bb5-de4e78879e30"
      },
      "outputs": [
        {
          "output_type": "execute_result",
          "data": {
            "text/plain": [
              "array([1.53788174])"
            ]
          },
          "metadata": {},
          "execution_count": 29
        }
      ],
      "source": [
        "lasso_reg = Lasso(alpha=0.1)\n",
        "lasso_reg.fit(X, y)\n",
        "lasso_reg.predict([[1.5]])"
      ]
    },
    {
      "cell_type": "code",
      "execution_count": 30,
      "id": "1dd40ee8",
      "metadata": {
        "colab": {
          "base_uri": "https://localhost:8080/",
          "height": 372
        },
        "id": "1dd40ee8",
        "outputId": "9855274b-2eec-4a74-cbf7-0fe4d0e397bf"
      },
      "outputs": [
        {
          "output_type": "display_data",
          "data": {
            "text/plain": [
              "<Figure size 900x350 with 2 Axes>"
            ],
            "image/png": "[encoded data removed]"
          },
          "metadata": {}
        }
      ],
      "source": [
        "plt.figure(figsize=(9, 3.5))\n",
        "plt.subplot(121)\n",
        "plot_model(Lasso, polynomial=False, alphas=(0, 0.1, 1), random_state=42)\n",
        "plt.ylabel(\"$y$  \", rotation=0)\n",
        "plt.title('Lasso linear regression fit')\n",
        "plt.subplot(122)\n",
        "plot_model(Lasso, polynomial=True, alphas=(0, 1e-2, 1), random_state=42)\n",
        "plt.gca().axes.yaxis.set_ticklabels([])\n",
        "plt.title('Lasso polynomial regression fit')\n",
        "plt.show()\n"
      ]
    },
    {
      "cell_type": "markdown",
      "id": "4bcc1e7b",
      "metadata": {
        "id": "4bcc1e7b"
      },
      "source": [
        "### Scikit-learn: [Elastic Net]()\n",
        "\n",
        "Elastic net regression is a type of **linear regression technique that combines the regularization methods of both Lasso and Ridge regression**, essentially applying a penalty term that is a mix of the L1 (absolute value) and L2 (squared) norms of the coefficients, allowing it to perform feature selection like Lasso while also handling multicollinearity like Ridge, making it particularly useful when dealing with datasets with highly correlated features.\n",
        "\n",
        "**Key points about Elastic Net Regression:**\n",
        "\n",
        "* **Combination of L1 and L2 penalties:**\n",
        "Unlike Lasso which only uses L1 penalty or Ridge which only uses L2, Elastic Net incorporates both, providing a balance between feature selection and coefficient shrinkage.\n",
        "\n",
        "* **Parameter \"alpha\":**\n",
        "A key parameter in Elastic Net controls the mix between L1 and L2 penalties, where a value closer to 1 leans more towards Lasso and a value closer to 0 leans more towards Ridge.\n",
        "\n",
        "**Benefits:**\n",
        "\n",
        "* **Feature selection:** Can identify and potentially remove irrelevant features by setting their coefficients close to zero, similar to Lasso.\n",
        "* **Handling multicollinearity:** Due to the L2 penalty, Elastic Net can effectively handle situations where predictor variables are highly correlated.\n",
        "\n",
        "**Applications:**\n",
        "\n",
        "Elastic Net is often used in situations where there are a large number of features and some of them might be highly correlated, such as in genetics or text analysis.\n"
      ]
    },
    {
      "cell_type": "code",
      "execution_count": 31,
      "id": "8815fa73",
      "metadata": {
        "colab": {
          "base_uri": "https://localhost:8080/"
        },
        "id": "8815fa73",
        "outputId": "4bb189be-6c31-491b-c46c-d087096aff8f"
      },
      "outputs": [
        {
          "output_type": "execute_result",
          "data": {
            "text/plain": [
              "array([1.54333232])"
            ]
          },
          "metadata": {},
          "execution_count": 31
        }
      ],
      "source": [
        "elastic_net = ElasticNet(alpha=0.1, l1_ratio=0.5)\n",
        "elastic_net.fit(X, y)\n",
        "elastic_net.predict([[1.5]])"
      ]
    },
    {
      "cell_type": "markdown",
      "id": "e595fb80",
      "metadata": {
        "id": "e595fb80"
      },
      "source": [
        "## Scikit-learn: [Logistic Regression](https://scikit-learn.org/stable/modules/linear_model.html#logistic-regression)\n",
        "\n",
        "Logistic regression is **a machine learning algorithm that predicts the probability of a binary outcome**. It's used to classify data into two categories, like spam vs. not spam.\n",
        "\n",
        "**How it works**\n",
        "\n",
        "- Analyzes relationships between variables to classify data into discrete classes\n",
        "- Uses mathematical relationships to make binary predictions (yes/no outcomes)\n",
        "\n",
        "**What it's used for**\n",
        "\n",
        "- Predicting health outcomes (heart attacks, diseases, tumor malignancy)\n",
        "- Detecting spam emails and fraudulent transactions\n",
        "- Forecasting customer purchases"
      ]
    },
    {
      "cell_type": "code",
      "execution_count": null,
      "id": "cc42bbfe",
      "metadata": {
        "colab": {
          "base_uri": "https://localhost:8080/",
          "height": 241
        },
        "id": "cc42bbfe",
        "outputId": "1bbe70d4-bdef-48d8-e3d9-71fe67a1d98f"
      },
      "outputs": [
        {
          "output_type": "display_data",
          "data": {
            "text/plain": [
              "<Figure size 576x216 with 1 Axes>"
            ],
            "image/png": "[encoded data removed]"
          },
          "metadata": {
            "needs_background": "light"
          }
        }
      ],
      "source": [
        "# Estimating Probabilities\n",
        "# Logistic Function Plot\n",
        "\n",
        "lim = 6\n",
        "t = np.linspace(-lim, lim, 100)\n",
        "sig = 1 / (1 + np.exp(-t))\n",
        "\n",
        "plt.figure(figsize=(8, 3))\n",
        "plt.plot([-lim, lim], [0, 0], \"k-\")\n",
        "plt.plot([-lim, lim], [0.5, 0.5], \"k:\")\n",
        "plt.plot([-lim, lim], [1, 1], \"k:\")\n",
        "plt.plot([0, 0], [-1.1, 1.1], \"k-\")\n",
        "plt.plot(t, sig, \"b-\", linewidth=2, label=r\"$\\sigma(t) = \\dfrac{1}{1 + e^{-t}}$\")\n",
        "plt.xlabel(\"t\")\n",
        "plt.legend(loc=\"upper left\")\n",
        "plt.axis([-lim, lim, -0.1, 1.1])\n",
        "plt.gca().set_yticks([0, 0.25, 0.5, 0.75, 1])\n",
        "plt.title('Logistic function')\n",
        "plt.grid()\n",
        "plt.show()"
      ]
    },
    {
      "cell_type": "markdown",
      "source": [
        "## scikit-learn: [Metrics for Regression](https://scikit-learn.org/stable/modules/model_evaluation.html#regression-metrics)\n",
        "\n",
        "Some of the most common error metrics in regression are:\n",
        "\n",
        "* [r2_score](https://scikit-learn.org/stable/modules/model_evaluation.html#r2-score-the-coefficient-of-determination): The `r2_score` function computes the coefficient of determination, usually denoted as $R^{2}$.\n",
        "\n",
        "* [mean absolute error](https://scikit-learn.org/stable/modules/model_evaluation.html#mean-absolute-error): The `mean_absolute_error` function computes mean absolute error, a risk metric corresponding to the expected value of the absolute error loss or norm loss.\n",
        "\n",
        "* [mean squared error](https://scikit-learn.org/stable/modules/model_evaluation.html#mean-squared-error): The `mean_squared_error` function computes mean squared error, a risk metric corresponding to the expected value of the squared (quadratic) error or loss.\n",
        "\n",
        "* [mean absolute percentage error](https://scikit-learn.org/stable/modules/model_evaluation.html#mean-absolute-percentage-error): The `mean_absolute_percentage_error` (MAPE), also known as mean absolute percentage deviation (MAPD), is an evaluation metric for regression problems. The idea of this metric is to be sensitive to relative errors. It is for example not changed by a global scaling of the target variable.\n",
        "\n",
        "* [max error](https://scikit-learn.org/stable/modules/model_evaluation.html#max-error): The `max_error` function computes the maximum residual error, a metric that captures the worst case error between the predicted value and the true value. In a perfectly fitted single output regression model, `max_error` would be 0 on the training set and though this would be highly unlikely in the real world, this metric shows the extent of error that the model had when it was fitted.\n",
        "\n",
        "* other ...\n",
        "\n"
      ],
      "metadata": {
        "id": "MlrS3Wh6BrpI"
      },
      "id": "MlrS3Wh6BrpI"
    },
    {
      "cell_type": "code",
      "source": [
        "# example of increase in mean squared error\n",
        "\n",
        "from matplotlib import pyplot\n",
        "from sklearn.metrics import mean_squared_error\n",
        "# real value\n",
        "expected = [1.0, 1.0, 1.0, 1.0, 1.0, 1.0, 1.0, 1.0, 1.0, 1.0, 1.0]\n",
        "# predicted value\n",
        "predicted = [1.0, 0.9, 0.8, 0.7, 0.6, 0.5, 0.4, 0.3, 0.2, 0.1, 0.0]\n",
        "# calculate errors\n",
        "errors = list()\n",
        "for i in range(len(expected)):\n",
        "\t# calculate error\n",
        "\terr = (expected[i] - predicted[i])**2\n",
        "\t# store error\n",
        "\terrors.append(err)\n",
        "\t# report error\n",
        "\tprint('>%.1f, %.1f = %.3f' % (expected[i], predicted[i], err))\n",
        "# plot errors\n",
        "pyplot.plot(errors)\n",
        "pyplot.xticks(ticks=[i for i in range(len(errors))], labels=predicted)\n",
        "pyplot.xlabel('Predicted Value')\n",
        "pyplot.ylabel('Mean Squared Error')\n",
        "pyplot.show()"
      ],
      "metadata": {
        "colab": {
          "base_uri": "https://localhost:8080/",
          "height": 482
        },
        "id": "SQzaBfEOBvoF",
        "outputId": "e4b81d5f-a6c2-4577-9971-aa00b0156d00"
      },
      "id": "SQzaBfEOBvoF",
      "execution_count": null,
      "outputs": [
        {
          "output_type": "stream",
          "name": "stdout",
          "text": [
            ">1.0, 1.0 = 0.000\n",
            ">1.0, 0.9 = 0.010\n",
            ">1.0, 0.8 = 0.040\n",
            ">1.0, 0.7 = 0.090\n",
            ">1.0, 0.6 = 0.160\n",
            ">1.0, 0.5 = 0.250\n",
            ">1.0, 0.4 = 0.360\n",
            ">1.0, 0.3 = 0.490\n",
            ">1.0, 0.2 = 0.640\n",
            ">1.0, 0.1 = 0.810\n",
            ">1.0, 0.0 = 1.000\n"
          ]
        },
        {
          "output_type": "display_data",
          "data": {
            "text/plain": [
              "<Figure size 432x288 with 1 Axes>"
            ],
            "image/png": "[encoded data removed]"
          },
          "metadata": {
            "needs_background": "light"
          }
        }
      ]
    },
    {
      "cell_type": "code",
      "source": [
        "# example of calculate the root mean squared error\n",
        "\n",
        "from sklearn.metrics import mean_squared_error\n",
        "# real value\n",
        "expected = [1.0, 1.0, 1.0, 1.0, 1.0, 1.0, 1.0, 1.0, 1.0, 1.0, 1.0]\n",
        "# predicted value\n",
        "predicted = [1.0, 0.9, 0.8, 0.7, 0.6, 0.5, 0.4, 0.3, 0.2, 0.1, 0.0]\n",
        "# calculate errors\n",
        "errors = mean_squared_error(expected, predicted, squared=False)\n",
        "# report error\n",
        "print(errors)"
      ],
      "metadata": {
        "colab": {
          "base_uri": "https://localhost:8080/"
        },
        "id": "eya0jNxaCOTb",
        "outputId": "50c7991b-a09f-4b3b-dcfc-4d144370c0f5"
      },
      "id": "eya0jNxaCOTb",
      "execution_count": null,
      "outputs": [
        {
          "output_type": "stream",
          "name": "stdout",
          "text": [
            "0.5916079783099616\n"
          ]
        }
      ]
    },
    {
      "cell_type": "code",
      "source": [
        "# plot of the increase of mean absolute error with prediction error\n",
        "\n",
        "from matplotlib import pyplot\n",
        "from sklearn.metrics import mean_squared_error\n",
        "# real value\n",
        "expected = [1.0, 1.0, 1.0, 1.0, 1.0, 1.0, 1.0, 1.0, 1.0, 1.0, 1.0]\n",
        "# predicted value\n",
        "predicted = [1.0, 0.9, 0.8, 0.7, 0.6, 0.5, 0.4, 0.3, 0.2, 0.1, 0.0]\n",
        "# calculate errors\n",
        "errors = list()\n",
        "for i in range(len(expected)):\n",
        "\t# calculate error\n",
        "\terr = abs((expected[i] - predicted[i]))\n",
        "\t# store error\n",
        "\terrors.append(err)\n",
        "\t# report error\n",
        "\tprint('>%.1f, %.1f = %.3f' % (expected[i], predicted[i], err))\n",
        "# plot errors\n",
        "pyplot.plot(errors)\n",
        "pyplot.xticks(ticks=[i for i in range(len(errors))], labels=predicted)\n",
        "pyplot.xlabel('Predicted Value')\n",
        "pyplot.ylabel('Mean Absolute Error')\n",
        "pyplot.show()\n"
      ],
      "metadata": {
        "colab": {
          "base_uri": "https://localhost:8080/",
          "height": 482
        },
        "id": "a90Juv2-CoKy",
        "outputId": "0a7c5a87-eeb8-43a7-ee7a-c9002b01b39c"
      },
      "id": "a90Juv2-CoKy",
      "execution_count": null,
      "outputs": [
        {
          "output_type": "stream",
          "name": "stdout",
          "text": [
            ">1.0, 1.0 = 0.000\n",
            ">1.0, 0.9 = 0.100\n",
            ">1.0, 0.8 = 0.200\n",
            ">1.0, 0.7 = 0.300\n",
            ">1.0, 0.6 = 0.400\n",
            ">1.0, 0.5 = 0.500\n",
            ">1.0, 0.4 = 0.600\n",
            ">1.0, 0.3 = 0.700\n",
            ">1.0, 0.2 = 0.800\n",
            ">1.0, 0.1 = 0.900\n",
            ">1.0, 0.0 = 1.000\n"
          ]
        },
        {
          "output_type": "display_data",
          "data": {
            "text/plain": [
              "<Figure size 432x288 with 1 Axes>"
            ],
            "image/png": "[encoded data removed]"
          },
          "metadata": {
            "needs_background": "light"
          }
        }
      ]
    },
    {
      "cell_type": "code",
      "source": [
        "# example of calculate the mean absolute error\n",
        "from sklearn.metrics import mean_absolute_error\n",
        "# real value\n",
        "expected = [1.0, 1.0, 1.0, 1.0, 1.0, 1.0, 1.0, 1.0, 1.0, 1.0, 1.0]\n",
        "# predicted value\n",
        "predicted = [1.0, 0.9, 0.8, 0.7, 0.6, 0.5, 0.4, 0.3, 0.2, 0.1, 0.0]\n",
        "# calculate errors\n",
        "errors = mean_absolute_error(expected, predicted)\n",
        "# report error\n",
        "print(errors)\n"
      ],
      "metadata": {
        "colab": {
          "base_uri": "https://localhost:8080/"
        },
        "id": "G-Fl0A9SDAXn",
        "outputId": "5b922c7e-aaa7-4490-fdf2-9b291e68da38"
      },
      "id": "G-Fl0A9SDAXn",
      "execution_count": null,
      "outputs": [
        {
          "output_type": "stream",
          "name": "stdout",
          "text": [
            "0.5\n"
          ]
        }
      ]
    },
    {
      "cell_type": "code",
      "source": [
        "from sklearn.metrics import r2_score\n",
        "\n",
        "y_true = [3, -0.5, 2, 7]\n",
        "y_pred = [2.5, 0.0, 2, 8]\n",
        "print('1. ', r2_score(y_true, y_pred))\n",
        "\n",
        "y_true = [[0.5, 1], [-1, 1], [7, -6]]\n",
        "y_pred = [[0, 2], [-1, 2], [8, -5]]\n",
        "print('2. ',r2_score(y_true, y_pred,\n",
        "         multioutput='variance_weighted'))\n",
        "\n",
        "y_true = [1, 2, 3]\n",
        "y_pred = [1, 2, 3]\n",
        "print('3. ', r2_score(y_true, y_pred))\n",
        "\n",
        "y_true = [1, 2, 3]\n",
        "y_pred = [2, 2, 2]\n",
        "print('4. ', r2_score(y_true, y_pred))\n",
        "\n",
        "y_true = [1, 2, 3]\n",
        "y_pred = [3, 2, 1]\n",
        "print('5. ', r2_score(y_true, y_pred))\n",
        "\n",
        "y_true = [-2, -2, -2]\n",
        "y_pred = [-2, -2, -2]\n",
        "print('6. ', r2_score(y_true, y_pred))\n",
        "\n",
        "\n",
        "y_true = [-2, -2, -2]\n",
        "y_pred = [-2, -2, -2 + 1e-8]\n",
        "print('7. ', r2_score(y_true, y_pred))\n",
        "\n"
      ],
      "metadata": {
        "colab": {
          "base_uri": "https://localhost:8080/"
        },
        "id": "uzOtTAEzDXq7",
        "outputId": "2407de75-cc7f-4a38-8a60-739a36a5c07f"
      },
      "id": "uzOtTAEzDXq7",
      "execution_count": null,
      "outputs": [
        {
          "output_type": "stream",
          "name": "stdout",
          "text": [
            "1.  0.9486081370449679\n",
            "2.  0.9382566585956417\n",
            "3.  1.0\n",
            "4.  0.0\n",
            "5.  -3.0\n",
            "6.  1.0\n",
            "7.  0.0\n"
          ]
        }
      ]
    },
    {
      "cell_type": "code",
      "source": [
        "from sklearn.metrics import mean_absolute_error\n",
        "\n",
        "y_true = [3, -0.5, 2, 7]\n",
        "y_pred = [2.5, 0.0, 2, 8]\n",
        "print('1. ', mean_absolute_error(y_true, y_pred))\n",
        "\n",
        "y_true = [[0.5, 1], [-1, 1], [7, -6]]\n",
        "y_pred = [[0, 2], [-1, 2], [8, -5]]\n",
        "print('2. ',mean_absolute_error(y_true, y_pred))\n",
        "\n",
        "print('3. ', mean_absolute_error(y_true, y_pred, multioutput='raw_values'))\n",
        "\n",
        "print('4. ', mean_absolute_error(y_true, y_pred, multioutput=[0.3, 0.7]))\n"
      ],
      "metadata": {
        "colab": {
          "base_uri": "https://localhost:8080/"
        },
        "id": "B0Yt9F-CETQr",
        "outputId": "3ebedc2a-7bb8-4f49-b805-16a24c11781c"
      },
      "id": "B0Yt9F-CETQr",
      "execution_count": null,
      "outputs": [
        {
          "output_type": "stream",
          "name": "stdout",
          "text": [
            "1.  0.5\n",
            "2.  0.75\n",
            "3.  [0.5 1. ]\n",
            "4.  0.85\n"
          ]
        }
      ]
    },
    {
      "cell_type": "code",
      "source": [
        "from sklearn.metrics import mean_squared_error\n",
        "\n",
        "y_true = [3, -0.5, 2, 7]\n",
        "y_pred = [2.5, 0.0, 2, 8]\n",
        "print('1. ', mean_squared_error(y_true, y_pred))\n",
        "\n",
        "y_true = [3, -0.5, 2, 7]\n",
        "y_pred = [2.5, 0.0, 2, 8]\n",
        "print('2. ',mean_squared_error(y_true, y_pred, squared=False))\n",
        "\n",
        "y_true = [[0.5, 1],[-1, 1],[7, -6]]\n",
        "y_pred = [[0, 2],[-1, 2],[8, -5]]\n",
        "print('3. ', mean_squared_error(y_true, y_pred))\n",
        "\n",
        "print('4. ', mean_squared_error(y_true, y_pred, squared=False))\n",
        "\n",
        "print('5. ',mean_squared_error(y_true, y_pred, multioutput='raw_values'))\n",
        "\n",
        "print('6. ', mean_squared_error(y_true, y_pred, multioutput=[0.3, 0.7]))\n"
      ],
      "metadata": {
        "colab": {
          "base_uri": "https://localhost:8080/"
        },
        "id": "scS8gpNsGAmT",
        "outputId": "b840b8b1-d9b3-4260-d901-be0f7806be60"
      },
      "id": "scS8gpNsGAmT",
      "execution_count": null,
      "outputs": [
        {
          "output_type": "stream",
          "name": "stdout",
          "text": [
            "1.  0.375\n",
            "2.  0.6123724356957945\n",
            "3.  0.7083333333333334\n",
            "4.  0.8227486121839513\n",
            "5.  [0.41666667 1.        ]\n",
            "6.  0.825\n"
          ]
        }
      ]
    },
    {
      "cell_type": "code",
      "source": [
        "from sklearn.metrics import mean_absolute_percentage_error\n",
        "\n",
        "y_true = [3, -0.5, 2, 7]\n",
        "y_pred = [2.5, 0.0, 2, 8]\n",
        "print('1. ',mean_absolute_percentage_error(y_true, y_pred))\n",
        "\n",
        "y_true = [[0.5, 1], [-1, 1], [7, -6]]\n",
        "y_pred = [[0, 2], [-1, 2], [8, -5]]\n",
        "print('2. ', mean_absolute_percentage_error(y_true, y_pred))\n",
        "\n",
        "print('3. ', mean_absolute_percentage_error(y_true, y_pred, multioutput=[0.3, 0.7]))\n",
        "\n",
        "# the value when some element of the y_true is zero is arbitrarily high because\n",
        "# of the division by epsilon\n",
        "y_true = [1., 0., 2.4, 7.]\n",
        "y_pred = [1.2, 0.1, 2.4, 8.]\n",
        "print('4. ', mean_absolute_percentage_error(y_true, y_pred))\n"
      ],
      "metadata": {
        "colab": {
          "base_uri": "https://localhost:8080/"
        },
        "id": "f012HOO2GjkU",
        "outputId": "7a6837cc-aa87-46ce-e870-e21da7d455e5"
      },
      "id": "f012HOO2GjkU",
      "execution_count": null,
      "outputs": [
        {
          "output_type": "stream",
          "name": "stdout",
          "text": [
            "1.  0.3273809523809524\n",
            "2.  0.5515873015873016\n",
            "3.  0.6198412698412699\n",
            "4.  112589990684262.48\n"
          ]
        }
      ]
    },
    {
      "cell_type": "code",
      "source": [
        "from sklearn.metrics import median_absolute_error\n",
        "\n",
        "y_true = [3, -0.5, 2, 7]\n",
        "y_pred = [2.5, 0.0, 2, 8]\n",
        "print('1. ', median_absolute_error(y_true, y_pred))\n",
        "\n",
        "y_true = [[0.5, 1], [-1, 1], [7, -6]]\n",
        "y_pred = [[0, 2], [-1, 2], [8, -5]]\n",
        "print('2. ', median_absolute_error(y_true, y_pred))\n",
        "\n",
        "print('3. ', median_absolute_error(y_true, y_pred, multioutput='raw_values'))\n",
        "\n",
        "print('4. ', median_absolute_error(y_true, y_pred, multioutput=[0.3, 0.7]))\n"
      ],
      "metadata": {
        "colab": {
          "base_uri": "https://localhost:8080/"
        },
        "id": "CsFEfXNbHJuF",
        "outputId": "b15bfc32-df74-4f5d-8982-517a3946b260"
      },
      "id": "CsFEfXNbHJuF",
      "execution_count": null,
      "outputs": [
        {
          "output_type": "stream",
          "name": "stdout",
          "text": [
            "1.  0.5\n",
            "2.  0.75\n",
            "3.  [0.5 1. ]\n",
            "4.  0.85\n"
          ]
        }
      ]
    },
    {
      "cell_type": "code",
      "source": [
        "from sklearn.metrics import max_error\n",
        "\n",
        "y_true = [3, 2, 7, 1]\n",
        "y_pred = [5, 2, 7, 1]\n",
        "max_error(y_true, y_pred)\n"
      ],
      "metadata": {
        "colab": {
          "base_uri": "https://localhost:8080/"
        },
        "id": "VKuEljlOHkW_",
        "outputId": "2b70ab98-a898-4160-d3e5-76963581b166"
      },
      "id": "VKuEljlOHkW_",
      "execution_count": null,
      "outputs": [
        {
          "output_type": "execute_result",
          "data": {
            "text/plain": [
              "2"
            ]
          },
          "metadata": {},
          "execution_count": 58
        }
      ]
    }
  ],
  "metadata": {
    "kernelspec": {
      "display_name": "Python 3 (ipykernel)",
      "language": "python",
      "name": "python3"
    },
    "language_info": {
      "codemirror_mode": {
        "name": "ipython",
        "version": 3
      },
      "file_extension": ".py",
      "mimetype": "text/x-python",
      "name": "python",
      "nbconvert_exporter": "python",
      "pygments_lexer": "ipython3",
      "version": "3.10.9"
    },
    "colab": {
      "provenance": [],
      "include_colab_link": true
    }
  },
  "nbformat": 4,
  "nbformat_minor": 5
}