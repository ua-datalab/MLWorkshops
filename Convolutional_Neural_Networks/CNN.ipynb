{
  "cells": [
    {
      "cell_type": "markdown",
      "metadata": {
        "id": "view-in-github",
        "colab_type": "text"
      },
      "source": [
        "<a href=\"https://colab.research.google.com/github/ua-datalab/MLWorkshops/blob/main/Convolutional_Neural_Networks/CNN.ipynb\" target=\"_parent\"><img src=\"https://colab.research.google.com/assets/colab-badge.svg\" alt=\"Open In Colab\"/></a>"
      ]
    },
    {
      "cell_type": "markdown",
      "source": [
        "TODO: Add a CNN from scratch example."
      ],
      "metadata": {
        "id": "VCqZ6quOKR7i"
      }
    },
    {
      "cell_type": "markdown",
      "metadata": {
        "id": "BpYejdAzKG6L"
      },
      "source": [
        "CNN\n",
        "\n",
        "In this next section we are going to be using pre-trained weights, meaning that we do not need to train a model.\n",
        "\n",
        "The steps that are taken here are:\n",
        "\n",
        "1. Loading the model and setup preprocessing of images\n",
        "2. Write a function to perform detection on an image using torch and the pre-trained model\n",
        "3. Write a function that creates boxes and labels\n",
        "4. Wrote a function that shows the results"
      ]
    },
    {
      "cell_type": "code",
      "execution_count": null,
      "metadata": {
        "id": "kcYYF3MC84Bi"
      },
      "outputs": [],
      "source": [
        "# import torch                                                          # These are the libraries required for this section\n",
        "# import torchvision\n",
        "# from torchvision import transforms\n",
        "# from torchvision.models.detection import fasterrcnn_resnet50_fpn\n",
        "# from PIL import Image, ImageDraw\n",
        "# import requests\n",
        "# from io import BytesIO\n",
        "\n",
        "# Load the pre-trained Faster R-CNN model\n",
        "model = fasterrcnn_resnet50_fpn(pretrained=True)\n",
        "model.eval()\n",
        "\n",
        "# Modify the transformation for input images\n",
        "transform = transforms.Compose([\n",
        "    transforms.ToTensor()\n",
        "])"
      ]
    },
    {
      "cell_type": "code",
      "execution_count": null,
      "metadata": {
        "id": "xKpIbfrYKG6L"
      },
      "outputs": [],
      "source": [
        "# Function to perform object detection on an image\n",
        "def detect_objects(model, image, threshold=0.5):\n",
        "    # Transform the input image\n",
        "    input_image = transform(image).unsqueeze(0)\n",
        "\n",
        "    # Perform inference\n",
        "    with torch.no_grad():\n",
        "        prediction = model(input_image)\n",
        "\n",
        "    # Filter out predictions below the threshold\n",
        "    boxes = prediction[0]['boxes'][prediction[0]['scores'] > threshold]\n",
        "    scores = prediction[0]['scores'][prediction[0]['scores'] > threshold]\n",
        "    labels = prediction[0]['labels'][prediction[0]['scores'] > threshold]\n",
        "\n",
        "    return boxes, scores, labels"
      ]
    },
    {
      "cell_type": "code",
      "execution_count": null,
      "metadata": {
        "id": "MX2aiv1vKG6L"
      },
      "outputs": [],
      "source": [
        "# Function to draw bounding boxes and labels on the image\n",
        "def draw_boxes(image, boxes, scores, labels):\n",
        "    draw = ImageDraw.Draw(image)\n",
        "    for box, score, label in zip(boxes, scores, labels):\n",
        "        draw.rectangle([box[0], box[1], box[2], box[3]], outline=\"red\", width=3)\n",
        "        draw.text((box[0], box[1]), f\"Label: {label}, Score: {score:.2f}\", fill=\"red\")\n",
        "    return image"
      ]
    },
    {
      "cell_type": "code",
      "execution_count": null,
      "metadata": {
        "id": "CxsaxgjVKG6L"
      },
      "outputs": [],
      "source": [
        "# Function to visualize the detection results\n",
        "def visualize_results(image, boxes, scores, labels):\n",
        "    image_with_boxes = draw_boxes(image, boxes, scores, labels)\n",
        "    display(image_with_boxes)"
      ]
    },
    {
      "cell_type": "code",
      "execution_count": null,
      "metadata": {
        "id": "tWniPQPDKG6L"
      },
      "outputs": [],
      "source": [
        "# Example image path\n",
        "image_path = \"apples_table.png\"\n",
        "\n",
        "# Load image and perform object detection\n",
        "image = Image.open(image_path)\n",
        "\n",
        "boxes, scores, labels = detect_objects(model, image, threshold=0.5)\n",
        "\n",
        "# Visualize the results\n",
        "visualize_results(image, boxes, scores, labels)"
      ]
    }
  ],
  "metadata": {
    "colab": {
      "provenance": [],
      "include_colab_link": true
    },
    "kernelspec": {
      "display_name": "Python 3",
      "language": "python",
      "name": "python3"
    },
    "language_info": {
      "codemirror_mode": {
        "name": "ipython",
        "version": 3
      },
      "file_extension": ".py",
      "mimetype": "text/x-python",
      "name": "python",
      "nbconvert_exporter": "python",
      "pygments_lexer": "ipython3",
      "version": "3.10.8"
    }
  },
  "nbformat": 4,
  "nbformat_minor": 0
}